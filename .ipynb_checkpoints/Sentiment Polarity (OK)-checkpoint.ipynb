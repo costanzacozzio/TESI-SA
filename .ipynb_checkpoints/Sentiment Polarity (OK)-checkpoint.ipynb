{
 "cells": [
  {
   "cell_type": "code",
   "execution_count": 1,
   "metadata": {},
   "outputs": [
    {
     "ename": "ModuleNotFoundError",
     "evalue": "No module named 'textblob'",
     "output_type": "error",
     "traceback": [
      "\u001b[0;31m---------------------------------------------------------------------------\u001b[0m",
      "\u001b[0;31mModuleNotFoundError\u001b[0m                       Traceback (most recent call last)",
      "\u001b[0;32m<ipython-input-1-0784139899aa>\u001b[0m in \u001b[0;36m<module>\u001b[0;34m\u001b[0m\n\u001b[1;32m      3\u001b[0m \u001b[0;32mimport\u001b[0m \u001b[0mnumpy\u001b[0m \u001b[0;32mas\u001b[0m \u001b[0mnp\u001b[0m\u001b[0;34m\u001b[0m\u001b[0;34m\u001b[0m\u001b[0m\n\u001b[1;32m      4\u001b[0m \u001b[0;32mfrom\u001b[0m \u001b[0mnltk\u001b[0m \u001b[0;32mimport\u001b[0m \u001b[0mpos_tag\u001b[0m\u001b[0;34m\u001b[0m\u001b[0;34m\u001b[0m\u001b[0m\n\u001b[0;32m----> 5\u001b[0;31m \u001b[0;32mimport\u001b[0m \u001b[0mtextblob\u001b[0m \u001b[0;32mas\u001b[0m \u001b[0mtb\u001b[0m\u001b[0;34m\u001b[0m\u001b[0;34m\u001b[0m\u001b[0m\n\u001b[0m\u001b[1;32m      6\u001b[0m \u001b[0;34m\u001b[0m\u001b[0m\n\u001b[1;32m      7\u001b[0m \u001b[0;32mfrom\u001b[0m \u001b[0mnltk\u001b[0m\u001b[0;34m.\u001b[0m\u001b[0mcorpus\u001b[0m \u001b[0;32mimport\u001b[0m \u001b[0msentiwordnet\u001b[0m \u001b[0;32mas\u001b[0m \u001b[0mswn\u001b[0m\u001b[0;34m\u001b[0m\u001b[0;34m\u001b[0m\u001b[0m\n",
      "\u001b[0;31mModuleNotFoundError\u001b[0m: No module named 'textblob'"
     ]
    }
   ],
   "source": [
    "import os\n",
    "import pandas as pd\n",
    "import numpy as np\n",
    "from nltk import pos_tag\n",
    "import textblob as tb\n",
    "\n",
    "from nltk.corpus import sentiwordnet as swn\n",
    "from nltk.corpus import stopwords\n",
    "\n",
    "from sklearn.feature_extraction.text import CountVectorizer, TfidfTransformer\n",
    "\n",
    "from nltk.corpus import sentiwordnet as swn\n",
    "\n",
    "from bokeh.plotting import figure, show, output_notebook\n",
    "from bokeh.models import ColumnDataSource, LabelSet, FactorRange, HoverTool\n",
    "\n",
    "output_notebook()\n",
    "\n",
    "DATA_FOLDER = os.path.join(os.getcwd(), \"../data\")\n",
    "\n",
    "eng_stopwords = stopwords.words('english')\n",
    "\n",
    "def stem(doc):\n",
    "    return (porter_stemmer.stem(token) for token in analyzer(doc) if token not in eng_stopwords)\n",
    "\n",
    "def stem_re(doc):\n",
    "    res = []\n",
    "    doc = re.sub(rex, \"\", doc)\n",
    "    for token in analyzer(doc):\n",
    "            if (token not in eng_stopwords):\n",
    "                res.append(porter_stemmer.stem(token))\n",
    "    return res"
   ]
  },
  {
   "cell_type": "code",
   "execution_count": null,
   "metadata": {},
   "outputs": [],
   "source": [
    "train_fp = os.path.join(DATA_FOLDER, \"csv/train.csv\")\n",
    "reviews = pd.read_csv(train_fp, index_col=\"review_id\", usecols=['text', 'stars', 'review_id'])\n",
    "reviews = reviews.sample(10000)"
   ]
  },
  {
   "cell_type": "code",
   "execution_count": 4,
   "metadata": {},
   "outputs": [],
   "source": [
    "def remove_stopwords(doc):\n",
    "    res = \"\"\n",
    "    tokens = doc.split(\" \")\n",
    "    for token in tokens:\n",
    "        if token not in eng_stopwords:\n",
    "            token = token.lower()\n",
    "            res = res + token + \" \"\n",
    "    return res"
   ]
  },
  {
   "cell_type": "code",
   "execution_count": 5,
   "metadata": {},
   "outputs": [],
   "source": [
    "reviews['text'] = reviews['text'].apply(remove_stopwords)"
   ]
  },
  {
   "cell_type": "code",
   "execution_count": 6,
   "metadata": {},
   "outputs": [],
   "source": [
    "reviews['pos'] = reviews['text'].apply(lambda x : tb.TextBlob(x).tags)"
   ]
  },
  {
   "cell_type": "code",
   "execution_count": 7,
   "metadata": {},
   "outputs": [],
   "source": [
    "def convert_tags(tags):\n",
    "    tags_map = {\n",
    "        'JJ':'a','JJR':'a','JJS':'a',\n",
    "        'MD':'v','POS':'v','PR':'v','VB':'v','VBD':'v','VBG':'v','VBN':'v','VBP':'v','VBZ':'v',\n",
    "        'NN':'n','NNS':'n','NNP':'n','NNPS':'n','PRP':'n','PRP$':'n',\n",
    "        'RB':'r','RBR':'r','RBS':'r'\n",
    "    }\n",
    "    ret = []\n",
    "    for t in tags:\n",
    "        if(t[1] in tags_map.keys()):\n",
    "            ret.append( t[0].__str__() + \".\" + str(tags_map[t[1]]) + \".1\" )\n",
    "    return ret"
   ]
  },
  {
   "cell_type": "code",
   "execution_count": 8,
   "metadata": {},
   "outputs": [],
   "source": [
    "reviews['pos'] = reviews['pos'].apply(convert_tags)"
   ]
  },
  {
   "cell_type": "code",
   "execution_count": 9,
   "metadata": {},
   "outputs": [],
   "source": [
    "def dummy_analyzer(doc):\n",
    "    return doc"
   ]
  },
  {
   "cell_type": "code",
   "execution_count": 10,
   "metadata": {},
   "outputs": [],
   "source": [
    "cv = CountVectorizer(analyzer=dummy_analyzer)\n",
    "bow = cv.fit_transform(reviews['pos'])"
   ]
  },
  {
   "cell_type": "code",
   "execution_count": 11,
   "metadata": {},
   "outputs": [],
   "source": [
    "word_freq = pd.DataFrame(columns=['word', 'freq'])"
   ]
  },
  {
   "cell_type": "code",
   "execution_count": 12,
   "metadata": {},
   "outputs": [],
   "source": [
    "freqs = bow.sum(axis=0)"
   ]
  },
  {
   "cell_type": "code",
   "execution_count": 13,
   "metadata": {},
   "outputs": [],
   "source": [
    "for k in cv.vocabulary_:\n",
    "    tmp_df = pd.DataFrame({'word':[k], 'freq':[freqs[0, cv.vocabulary_[k]-1]]})\n",
    "    word_freq = word_freq.append(tmp_df)"
   ]
  },
  {
   "cell_type": "code",
   "execution_count": 14,
   "metadata": {},
   "outputs": [],
   "source": [
    "def get_pos_score(word, pos=True):\n",
    "    if(pos):\n",
    "        try:\n",
    "            return swn.senti_synset(word).pos_score()\n",
    "        except:\n",
    "            return np.nan\n",
    "    else:\n",
    "        try:\n",
    "            return swn.senti_synset(word).neg_score()\n",
    "        except:\n",
    "            return np.nan\n",
    "        \n",
    "def negate(x):\n",
    "    if(x > 0):\n",
    "        return -x\n",
    "    else:\n",
    "        return x"
   ]
  },
  {
   "cell_type": "code",
   "execution_count": 15,
   "metadata": {},
   "outputs": [],
   "source": [
    "word_freq['pos_score'] = word_freq['word'].apply(lambda x : get_pos_score(x, True))\n",
    "word_freq['neg_score'] = word_freq['word'].apply(lambda x : get_pos_score(x, False))"
   ]
  },
  {
   "cell_type": "code",
   "execution_count": 16,
   "metadata": {},
   "outputs": [],
   "source": [
    "word_freq = word_freq.dropna(axis=0, how='any')"
   ]
  },
  {
   "cell_type": "code",
   "execution_count": 17,
   "metadata": {},
   "outputs": [],
   "source": [
    "word_freq = word_freq[(word_freq['pos_score'] != 0) | (word_freq['neg_score'] != 0)]"
   ]
  },
  {
   "cell_type": "code",
   "execution_count": 18,
   "metadata": {},
   "outputs": [],
   "source": [
    "word_freq = word_freq.sort_values(by=['freq', 'pos_score', 'neg_score'], ascending=False)"
   ]
  },
  {
   "cell_type": "code",
   "execution_count": 19,
   "metadata": {},
   "outputs": [],
   "source": [
    "word_freq['neg_score'] = word_freq['neg_score'].apply(negate)"
   ]
  },
  {
   "cell_type": "code",
   "execution_count": 24,
   "metadata": {},
   "outputs": [],
   "source": [
    "def plot_pos_neg_scores(df):\n",
    "    \n",
    "    fig_1 = figure(y_range=df['word'], x_range=(-1, 1))\n",
    "    fig_1.hbar(y=df['word'], height=0.25, right=df['pos_score'], color='blue')\n",
    "    fig_1.hbar(y=df['word'], height=0.25, right=df['neg_score'], color='red')\n",
    "    \n",
    "    return fig_1"
   ]
  },
  {
   "cell_type": "code",
   "execution_count": 25,
   "metadata": {},
   "outputs": [],
   "source": [
    "to_plot_df = word_freq.iloc[0:35, :].copy()"
   ]
  },
  {
   "cell_type": "code",
   "execution_count": 26,
   "metadata": {},
   "outputs": [],
   "source": [
    "fig = plot_pos_neg_scores(to_plot_df)"
   ]
  },
  {
   "cell_type": "code",
   "execution_count": 27,
   "metadata": {},
   "outputs": [
    {
     "data": {
      "text/html": [
       "\n",
       "\n",
       "\n",
       "\n",
       "\n",
       "\n",
       "  <div class=\"bk-root\" id=\"96282b52-821a-4383-90f1-896f77fe89bb\" data-root-id=\"1083\"></div>\n"
      ]
     },
     "metadata": {},
     "output_type": "display_data"
    },
    {
     "data": {
      "application/javascript": [
       "(function(root) {\n",
       "  function embed_document(root) {\n",
       "    \n",
       "  var docs_json = {\"a99ec457-ce7a-41f4-8a5f-b98f06622cb1\":{\"roots\":{\"references\":[{\"attributes\":{\"below\":[{\"id\":\"1092\"}],\"center\":[{\"id\":\"1095\"},{\"id\":\"1098\"}],\"left\":[{\"id\":\"1096\"}],\"renderers\":[{\"id\":\"1116\"},{\"id\":\"1121\"}],\"title\":{\"id\":\"1124\"},\"toolbar\":{\"id\":\"1106\"},\"x_range\":{\"id\":\"1084\"},\"x_scale\":{\"id\":\"1088\"},\"y_range\":{\"id\":\"1086\"},\"y_scale\":{\"id\":\"1090\"}},\"id\":\"1083\",\"subtype\":\"Figure\",\"type\":\"Plot\"},{\"attributes\":{\"fill_alpha\":{\"value\":0.1},\"fill_color\":{\"value\":\"red\"},\"height\":{\"value\":0.25},\"line_alpha\":{\"value\":0.1},\"line_color\":{\"value\":\"red\"},\"right\":{\"field\":\"right\"},\"y\":{\"field\":\"y\"}},\"id\":\"1120\",\"type\":\"HBar\"},{\"attributes\":{\"factors\":[\"weak.a.1\",\"back.v.1\",\"nevertheless.r.1\",\"best.n.1\",\"notable.a.1\",\"comeback.n.1\",\"loved.a.1\",\"little.n.1\",\"heritage.n.1\",\"much.r.1\",\"thinker.n.1\",\"smaller.a.1\",\"differentiate.v.1\",\"friendly.n.1\",\"get.v.1\",\"leftover.a.1\",\"awe-inspiring.a.1\",\"better.v.1\",\"putative.a.1\",\"favorite.n.1\",\"needed.a.1\",\"needful.a.1\",\"decidedly.r.1\",\"beef.v.1\",\"care.v.1\",\"ably.r.1\",\"hugely.r.1\",\"comparable.a.1\",\"right.v.1\",\"thoughtful.a.1\",\"high.n.1\",\"tasteful.a.1\",\"latest.a.1\",\"check.v.1\",\"makeshift.a.1\"]},\"id\":\"1086\",\"type\":\"FactorRange\"},{\"attributes\":{\"data\":{\"right\":{\"__ndarray__\":\"AAAAAAAA4L8AAAAAAAAAAAAAAAAAAOC/AAAAAAAAAAAAAAAAAAAAAAAAAAAAAMC/AAAAAAAAAAAAAAAAAADQvwAAAAAAAAAAAAAAAAAAAAAAAAAAAAAAAAAAAAAAAMC/AAAAAAAA0L8AAAAAAAAAAAAAAAAAAAAAAAAAAAAA4L8AAAAAAADAvwAAAAAAAAAAAAAAAAAAAAAAAAAAAAAAAAAAAAAAAAAAAAAAAAAAAAAAAAAAAAAAAAAAAAAAAOC/AAAAAAAAAAAAAAAAAAAAAAAAAAAAANC/AAAAAAAAAAAAAAAAAADAvwAAAAAAAAAAAAAAAAAAAAAAAAAAAAAAAAAAAAAAAAAAAAAAAAAAAAAAAAAAAAAAAA==\",\"dtype\":\"float64\",\"order\":\"little\",\"shape\":[35]},\"y\":[\"weak.a.1\",\"back.v.1\",\"nevertheless.r.1\",\"best.n.1\",\"notable.a.1\",\"comeback.n.1\",\"loved.a.1\",\"little.n.1\",\"heritage.n.1\",\"much.r.1\",\"thinker.n.1\",\"smaller.a.1\",\"differentiate.v.1\",\"friendly.n.1\",\"get.v.1\",\"leftover.a.1\",\"awe-inspiring.a.1\",\"better.v.1\",\"putative.a.1\",\"favorite.n.1\",\"needed.a.1\",\"needful.a.1\",\"decidedly.r.1\",\"beef.v.1\",\"care.v.1\",\"ably.r.1\",\"hugely.r.1\",\"comparable.a.1\",\"right.v.1\",\"thoughtful.a.1\",\"high.n.1\",\"tasteful.a.1\",\"latest.a.1\",\"check.v.1\",\"makeshift.a.1\"]},\"selected\":{\"id\":\"1132\"},\"selection_policy\":{\"id\":\"1133\"}},\"id\":\"1118\",\"type\":\"ColumnDataSource\"},{\"attributes\":{\"source\":{\"id\":\"1118\"}},\"id\":\"1122\",\"type\":\"CDSView\"},{\"attributes\":{\"data_source\":{\"id\":\"1113\"},\"glyph\":{\"id\":\"1114\"},\"hover_glyph\":null,\"muted_glyph\":null,\"nonselection_glyph\":{\"id\":\"1115\"},\"selection_glyph\":null,\"view\":{\"id\":\"1117\"}},\"id\":\"1116\",\"type\":\"GlyphRenderer\"},{\"attributes\":{\"data_source\":{\"id\":\"1118\"},\"glyph\":{\"id\":\"1119\"},\"hover_glyph\":null,\"muted_glyph\":null,\"nonselection_glyph\":{\"id\":\"1120\"},\"selection_glyph\":null,\"view\":{\"id\":\"1122\"}},\"id\":\"1121\",\"type\":\"GlyphRenderer\"},{\"attributes\":{},\"id\":\"1131\",\"type\":\"UnionRenderers\"},{\"attributes\":{\"text\":\"\"},\"id\":\"1124\",\"type\":\"Title\"},{\"attributes\":{},\"id\":\"1130\",\"type\":\"Selection\"},{\"attributes\":{\"axis\":{\"id\":\"1092\"},\"ticker\":null},\"id\":\"1095\",\"type\":\"Grid\"},{\"attributes\":{},\"id\":\"1099\",\"type\":\"PanTool\"},{\"attributes\":{\"formatter\":{\"id\":\"1128\"},\"ticker\":{\"id\":\"1097\"}},\"id\":\"1096\",\"type\":\"CategoricalAxis\"},{\"attributes\":{},\"id\":\"1097\",\"type\":\"CategoricalTicker\"},{\"attributes\":{},\"id\":\"1090\",\"type\":\"CategoricalScale\"},{\"attributes\":{\"fill_color\":{\"value\":\"red\"},\"height\":{\"value\":0.25},\"line_color\":{\"value\":\"red\"},\"right\":{\"field\":\"right\"},\"y\":{\"field\":\"y\"}},\"id\":\"1119\",\"type\":\"HBar\"},{\"attributes\":{\"overlay\":{\"id\":\"1105\"}},\"id\":\"1101\",\"type\":\"BoxZoomTool\"},{\"attributes\":{\"fill_alpha\":{\"value\":0.1},\"fill_color\":{\"value\":\"blue\"},\"height\":{\"value\":0.25},\"line_alpha\":{\"value\":0.1},\"line_color\":{\"value\":\"blue\"},\"right\":{\"field\":\"right\"},\"y\":{\"field\":\"y\"}},\"id\":\"1115\",\"type\":\"HBar\"},{\"attributes\":{},\"id\":\"1132\",\"type\":\"Selection\"},{\"attributes\":{\"active_drag\":\"auto\",\"active_inspect\":\"auto\",\"active_multi\":null,\"active_scroll\":\"auto\",\"active_tap\":\"auto\",\"tools\":[{\"id\":\"1099\"},{\"id\":\"1100\"},{\"id\":\"1101\"},{\"id\":\"1102\"},{\"id\":\"1103\"},{\"id\":\"1104\"}]},\"id\":\"1106\",\"type\":\"Toolbar\"},{\"attributes\":{},\"id\":\"1133\",\"type\":\"UnionRenderers\"},{\"attributes\":{\"axis\":{\"id\":\"1096\"},\"dimension\":1,\"ticker\":null},\"id\":\"1098\",\"type\":\"Grid\"},{\"attributes\":{\"data\":{\"right\":{\"__ndarray__\":\"AAAAAAAAwD8AAAAAAADYPwAAAAAAAMA/AAAAAAAA0D8AAAAAAADYPwAAAAAAAAAAAAAAAAAA4D8AAAAAAAAAAAAAAAAAAMA/AAAAAAAAwD8AAAAAAADgPwAAAAAAAAAAAAAAAAAAAAAAAAAAAADAPwAAAAAAAMA/AAAAAAAAwD8AAAAAAADsPwAAAAAAAOg/AAAAAAAAwD8AAAAAAADQPwAAAAAAAMA/AAAAAAAAwD8AAAAAAADQPwAAAAAAAAAAAAAAAAAA2D8AAAAAAADYPwAAAAAAAAAAAAAAAAAA4D8AAAAAAAAAAAAAAAAAANA/AAAAAAAAwD8AAAAAAADkPwAAAAAAAMA/AAAAAAAA4D8AAAAAAADAPw==\",\"dtype\":\"float64\",\"order\":\"little\",\"shape\":[35]},\"y\":[\"weak.a.1\",\"back.v.1\",\"nevertheless.r.1\",\"best.n.1\",\"notable.a.1\",\"comeback.n.1\",\"loved.a.1\",\"little.n.1\",\"heritage.n.1\",\"much.r.1\",\"thinker.n.1\",\"smaller.a.1\",\"differentiate.v.1\",\"friendly.n.1\",\"get.v.1\",\"leftover.a.1\",\"awe-inspiring.a.1\",\"better.v.1\",\"putative.a.1\",\"favorite.n.1\",\"needed.a.1\",\"needful.a.1\",\"decidedly.r.1\",\"beef.v.1\",\"care.v.1\",\"ably.r.1\",\"hugely.r.1\",\"comparable.a.1\",\"right.v.1\",\"thoughtful.a.1\",\"high.n.1\",\"tasteful.a.1\",\"latest.a.1\",\"check.v.1\",\"makeshift.a.1\"]},\"selected\":{\"id\":\"1130\"},\"selection_policy\":{\"id\":\"1131\"}},\"id\":\"1113\",\"type\":\"ColumnDataSource\"},{\"attributes\":{\"bottom_units\":\"screen\",\"fill_alpha\":0.5,\"fill_color\":\"lightgrey\",\"left_units\":\"screen\",\"level\":\"overlay\",\"line_alpha\":1.0,\"line_color\":\"black\",\"line_dash\":[4,4],\"line_width\":2,\"right_units\":\"screen\",\"top_units\":\"screen\"},\"id\":\"1105\",\"type\":\"BoxAnnotation\"},{\"attributes\":{},\"id\":\"1088\",\"type\":\"LinearScale\"},{\"attributes\":{},\"id\":\"1103\",\"type\":\"ResetTool\"},{\"attributes\":{},\"id\":\"1104\",\"type\":\"HelpTool\"},{\"attributes\":{},\"id\":\"1093\",\"type\":\"BasicTicker\"},{\"attributes\":{\"start\":-1},\"id\":\"1084\",\"type\":\"Range1d\"},{\"attributes\":{\"formatter\":{\"id\":\"1126\"},\"ticker\":{\"id\":\"1093\"}},\"id\":\"1092\",\"type\":\"LinearAxis\"},{\"attributes\":{},\"id\":\"1100\",\"type\":\"WheelZoomTool\"},{\"attributes\":{\"source\":{\"id\":\"1113\"}},\"id\":\"1117\",\"type\":\"CDSView\"},{\"attributes\":{},\"id\":\"1102\",\"type\":\"SaveTool\"},{\"attributes\":{\"fill_color\":{\"value\":\"blue\"},\"height\":{\"value\":0.25},\"line_color\":{\"value\":\"blue\"},\"right\":{\"field\":\"right\"},\"y\":{\"field\":\"y\"}},\"id\":\"1114\",\"type\":\"HBar\"},{\"attributes\":{},\"id\":\"1126\",\"type\":\"BasicTickFormatter\"},{\"attributes\":{},\"id\":\"1128\",\"type\":\"CategoricalTickFormatter\"}],\"root_ids\":[\"1083\"]},\"title\":\"Bokeh Application\",\"version\":\"2.1.1\"}};\n",
       "  var render_items = [{\"docid\":\"a99ec457-ce7a-41f4-8a5f-b98f06622cb1\",\"root_ids\":[\"1083\"],\"roots\":{\"1083\":\"96282b52-821a-4383-90f1-896f77fe89bb\"}}];\n",
       "  root.Bokeh.embed.embed_items_notebook(docs_json, render_items);\n",
       "\n",
       "  }\n",
       "  if (root.Bokeh !== undefined) {\n",
       "    embed_document(root);\n",
       "  } else {\n",
       "    var attempts = 0;\n",
       "    var timer = setInterval(function(root) {\n",
       "      if (root.Bokeh !== undefined) {\n",
       "        clearInterval(timer);\n",
       "        embed_document(root);\n",
       "      } else {\n",
       "        attempts++;\n",
       "        if (attempts > 100) {\n",
       "          clearInterval(timer);\n",
       "          console.log(\"Bokeh: ERROR: Unable to run BokehJS code because BokehJS library is missing\");\n",
       "        }\n",
       "      }\n",
       "    }, 10, root)\n",
       "  }\n",
       "})(window);"
      ],
      "application/vnd.bokehjs_exec.v0+json": ""
     },
     "metadata": {
      "application/vnd.bokehjs_exec.v0+json": {
       "id": "1083"
      }
     },
     "output_type": "display_data"
    }
   ],
   "source": [
    "show(fig)"
   ]
  },
  {
   "cell_type": "code",
   "execution_count": null,
   "metadata": {},
   "outputs": [],
   "source": []
  }
 ],
 "metadata": {
  "kernelspec": {
   "display_name": "Python 3",
   "language": "python",
   "name": "python3"
  },
  "language_info": {
   "codemirror_mode": {
    "name": "ipython",
    "version": 3
   },
   "file_extension": ".py",
   "mimetype": "text/x-python",
   "name": "python",
   "nbconvert_exporter": "python",
   "pygments_lexer": "ipython3",
   "version": "3.7.6"
  }
 },
 "nbformat": 4,
 "nbformat_minor": 4
}
