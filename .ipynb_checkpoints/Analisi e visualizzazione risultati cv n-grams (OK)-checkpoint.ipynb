{
 "cells": [
  {
   "cell_type": "code",
   "execution_count": 2,
   "metadata": {},
   "outputs": [
    {
     "data": {
      "text/html": [
       "\n",
       "    <div class=\"bk-root\">\n",
       "        <a href=\"https://bokeh.org\" target=\"_blank\" class=\"bk-logo bk-logo-small bk-logo-notebook\"></a>\n",
       "        <span id=\"1001\">Loading BokehJS ...</span>\n",
       "    </div>"
      ]
     },
     "metadata": {},
     "output_type": "display_data"
    },
    {
     "data": {
      "application/javascript": [
       "\n",
       "(function(root) {\n",
       "  function now() {\n",
       "    return new Date();\n",
       "  }\n",
       "\n",
       "  var force = true;\n",
       "\n",
       "  if (typeof root._bokeh_onload_callbacks === \"undefined\" || force === true) {\n",
       "    root._bokeh_onload_callbacks = [];\n",
       "    root._bokeh_is_loading = undefined;\n",
       "  }\n",
       "\n",
       "  var JS_MIME_TYPE = 'application/javascript';\n",
       "  var HTML_MIME_TYPE = 'text/html';\n",
       "  var EXEC_MIME_TYPE = 'application/vnd.bokehjs_exec.v0+json';\n",
       "  var CLASS_NAME = 'output_bokeh rendered_html';\n",
       "\n",
       "  /**\n",
       "   * Render data to the DOM node\n",
       "   */\n",
       "  function render(props, node) {\n",
       "    var script = document.createElement(\"script\");\n",
       "    node.appendChild(script);\n",
       "  }\n",
       "\n",
       "  /**\n",
       "   * Handle when an output is cleared or removed\n",
       "   */\n",
       "  function handleClearOutput(event, handle) {\n",
       "    var cell = handle.cell;\n",
       "\n",
       "    var id = cell.output_area._bokeh_element_id;\n",
       "    var server_id = cell.output_area._bokeh_server_id;\n",
       "    // Clean up Bokeh references\n",
       "    if (id != null && id in Bokeh.index) {\n",
       "      Bokeh.index[id].model.document.clear();\n",
       "      delete Bokeh.index[id];\n",
       "    }\n",
       "\n",
       "    if (server_id !== undefined) {\n",
       "      // Clean up Bokeh references\n",
       "      var cmd = \"from bokeh.io.state import curstate; print(curstate().uuid_to_server['\" + server_id + \"'].get_sessions()[0].document.roots[0]._id)\";\n",
       "      cell.notebook.kernel.execute(cmd, {\n",
       "        iopub: {\n",
       "          output: function(msg) {\n",
       "            var id = msg.content.text.trim();\n",
       "            if (id in Bokeh.index) {\n",
       "              Bokeh.index[id].model.document.clear();\n",
       "              delete Bokeh.index[id];\n",
       "            }\n",
       "          }\n",
       "        }\n",
       "      });\n",
       "      // Destroy server and session\n",
       "      var cmd = \"import bokeh.io.notebook as ion; ion.destroy_server('\" + server_id + \"')\";\n",
       "      cell.notebook.kernel.execute(cmd);\n",
       "    }\n",
       "  }\n",
       "\n",
       "  /**\n",
       "   * Handle when a new output is added\n",
       "   */\n",
       "  function handleAddOutput(event, handle) {\n",
       "    var output_area = handle.output_area;\n",
       "    var output = handle.output;\n",
       "\n",
       "    // limit handleAddOutput to display_data with EXEC_MIME_TYPE content only\n",
       "    if ((output.output_type != \"display_data\") || (!output.data.hasOwnProperty(EXEC_MIME_TYPE))) {\n",
       "      return\n",
       "    }\n",
       "\n",
       "    var toinsert = output_area.element.find(\".\" + CLASS_NAME.split(' ')[0]);\n",
       "\n",
       "    if (output.metadata[EXEC_MIME_TYPE][\"id\"] !== undefined) {\n",
       "      toinsert[toinsert.length - 1].firstChild.textContent = output.data[JS_MIME_TYPE];\n",
       "      // store reference to embed id on output_area\n",
       "      output_area._bokeh_element_id = output.metadata[EXEC_MIME_TYPE][\"id\"];\n",
       "    }\n",
       "    if (output.metadata[EXEC_MIME_TYPE][\"server_id\"] !== undefined) {\n",
       "      var bk_div = document.createElement(\"div\");\n",
       "      bk_div.innerHTML = output.data[HTML_MIME_TYPE];\n",
       "      var script_attrs = bk_div.children[0].attributes;\n",
       "      for (var i = 0; i < script_attrs.length; i++) {\n",
       "        toinsert[toinsert.length - 1].firstChild.setAttribute(script_attrs[i].name, script_attrs[i].value);\n",
       "        toinsert[toinsert.length - 1].firstChild.textContent = bk_div.children[0].textContent\n",
       "      }\n",
       "      // store reference to server id on output_area\n",
       "      output_area._bokeh_server_id = output.metadata[EXEC_MIME_TYPE][\"server_id\"];\n",
       "    }\n",
       "  }\n",
       "\n",
       "  function register_renderer(events, OutputArea) {\n",
       "\n",
       "    function append_mime(data, metadata, element) {\n",
       "      // create a DOM node to render to\n",
       "      var toinsert = this.create_output_subarea(\n",
       "        metadata,\n",
       "        CLASS_NAME,\n",
       "        EXEC_MIME_TYPE\n",
       "      );\n",
       "      this.keyboard_manager.register_events(toinsert);\n",
       "      // Render to node\n",
       "      var props = {data: data, metadata: metadata[EXEC_MIME_TYPE]};\n",
       "      render(props, toinsert[toinsert.length - 1]);\n",
       "      element.append(toinsert);\n",
       "      return toinsert\n",
       "    }\n",
       "\n",
       "    /* Handle when an output is cleared or removed */\n",
       "    events.on('clear_output.CodeCell', handleClearOutput);\n",
       "    events.on('delete.Cell', handleClearOutput);\n",
       "\n",
       "    /* Handle when a new output is added */\n",
       "    events.on('output_added.OutputArea', handleAddOutput);\n",
       "\n",
       "    /**\n",
       "     * Register the mime type and append_mime function with output_area\n",
       "     */\n",
       "    OutputArea.prototype.register_mime_type(EXEC_MIME_TYPE, append_mime, {\n",
       "      /* Is output safe? */\n",
       "      safe: true,\n",
       "      /* Index of renderer in `output_area.display_order` */\n",
       "      index: 0\n",
       "    });\n",
       "  }\n",
       "\n",
       "  // register the mime type if in Jupyter Notebook environment and previously unregistered\n",
       "  if (root.Jupyter !== undefined) {\n",
       "    var events = require('base/js/events');\n",
       "    var OutputArea = require('notebook/js/outputarea').OutputArea;\n",
       "\n",
       "    if (OutputArea.prototype.mime_types().indexOf(EXEC_MIME_TYPE) == -1) {\n",
       "      register_renderer(events, OutputArea);\n",
       "    }\n",
       "  }\n",
       "\n",
       "  \n",
       "  if (typeof (root._bokeh_timeout) === \"undefined\" || force === true) {\n",
       "    root._bokeh_timeout = Date.now() + 5000;\n",
       "    root._bokeh_failed_load = false;\n",
       "  }\n",
       "\n",
       "  var NB_LOAD_WARNING = {'data': {'text/html':\n",
       "     \"<div style='background-color: #fdd'>\\n\"+\n",
       "     \"<p>\\n\"+\n",
       "     \"BokehJS does not appear to have successfully loaded. If loading BokehJS from CDN, this \\n\"+\n",
       "     \"may be due to a slow or bad network connection. Possible fixes:\\n\"+\n",
       "     \"</p>\\n\"+\n",
       "     \"<ul>\\n\"+\n",
       "     \"<li>re-rerun `output_notebook()` to attempt to load from CDN again, or</li>\\n\"+\n",
       "     \"<li>use INLINE resources instead, as so:</li>\\n\"+\n",
       "     \"</ul>\\n\"+\n",
       "     \"<code>\\n\"+\n",
       "     \"from bokeh.resources import INLINE\\n\"+\n",
       "     \"output_notebook(resources=INLINE)\\n\"+\n",
       "     \"</code>\\n\"+\n",
       "     \"</div>\"}};\n",
       "\n",
       "  function display_loaded() {\n",
       "    var el = document.getElementById(\"1001\");\n",
       "    if (el != null) {\n",
       "      el.textContent = \"BokehJS is loading...\";\n",
       "    }\n",
       "    if (root.Bokeh !== undefined) {\n",
       "      if (el != null) {\n",
       "        el.textContent = \"BokehJS \" + root.Bokeh.version + \" successfully loaded.\";\n",
       "      }\n",
       "    } else if (Date.now() < root._bokeh_timeout) {\n",
       "      setTimeout(display_loaded, 100)\n",
       "    }\n",
       "  }\n",
       "\n",
       "\n",
       "  function run_callbacks() {\n",
       "    try {\n",
       "      root._bokeh_onload_callbacks.forEach(function(callback) {\n",
       "        if (callback != null)\n",
       "          callback();\n",
       "      });\n",
       "    } finally {\n",
       "      delete root._bokeh_onload_callbacks\n",
       "    }\n",
       "    console.debug(\"Bokeh: all callbacks have finished\");\n",
       "  }\n",
       "\n",
       "  function load_libs(css_urls, js_urls, callback) {\n",
       "    if (css_urls == null) css_urls = [];\n",
       "    if (js_urls == null) js_urls = [];\n",
       "\n",
       "    root._bokeh_onload_callbacks.push(callback);\n",
       "    if (root._bokeh_is_loading > 0) {\n",
       "      console.debug(\"Bokeh: BokehJS is being loaded, scheduling callback at\", now());\n",
       "      return null;\n",
       "    }\n",
       "    if (js_urls == null || js_urls.length === 0) {\n",
       "      run_callbacks();\n",
       "      return null;\n",
       "    }\n",
       "    console.debug(\"Bokeh: BokehJS not loaded, scheduling load and callback at\", now());\n",
       "    root._bokeh_is_loading = css_urls.length + js_urls.length;\n",
       "\n",
       "    function on_load() {\n",
       "      root._bokeh_is_loading--;\n",
       "      if (root._bokeh_is_loading === 0) {\n",
       "        console.debug(\"Bokeh: all BokehJS libraries/stylesheets loaded\");\n",
       "        run_callbacks()\n",
       "      }\n",
       "    }\n",
       "\n",
       "    function on_error() {\n",
       "      console.error(\"failed to load \" + url);\n",
       "    }\n",
       "\n",
       "    for (var i = 0; i < css_urls.length; i++) {\n",
       "      var url = css_urls[i];\n",
       "      const element = document.createElement(\"link\");\n",
       "      element.onload = on_load;\n",
       "      element.onerror = on_error;\n",
       "      element.rel = \"stylesheet\";\n",
       "      element.type = \"text/css\";\n",
       "      element.href = url;\n",
       "      console.debug(\"Bokeh: injecting link tag for BokehJS stylesheet: \", url);\n",
       "      document.body.appendChild(element);\n",
       "    }\n",
       "\n",
       "    const hashes = {\"https://cdn.bokeh.org/bokeh/release/bokeh-2.1.1.min.js\": \"kLr4fYcqcSpbuI95brIH3vnnYCquzzSxHPU6XGQCIkQRGJwhg0StNbj1eegrHs12\", \"https://cdn.bokeh.org/bokeh/release/bokeh-widgets-2.1.1.min.js\": \"xIGPmVtaOm+z0BqfSOMn4lOR6ciex448GIKG4eE61LsAvmGj48XcMQZtKcE/UXZe\", \"https://cdn.bokeh.org/bokeh/release/bokeh-tables-2.1.1.min.js\": \"Dc9u1wF/0zApGIWoBbH77iWEHtdmkuYWG839Uzmv8y8yBLXebjO9ZnERsde5Ln/P\", \"https://cdn.bokeh.org/bokeh/release/bokeh-gl-2.1.1.min.js\": \"cT9JaBz7GiRXdENrJLZNSC6eMNF3nh3fa5fTF51Svp+ukxPdwcU5kGXGPBgDCa2j\"};\n",
       "\n",
       "    for (var i = 0; i < js_urls.length; i++) {\n",
       "      var url = js_urls[i];\n",
       "      var element = document.createElement('script');\n",
       "      element.onload = on_load;\n",
       "      element.onerror = on_error;\n",
       "      element.async = false;\n",
       "      element.src = url;\n",
       "      if (url in hashes) {\n",
       "        element.crossOrigin = \"anonymous\";\n",
       "        element.integrity = \"sha384-\" + hashes[url];\n",
       "      }\n",
       "      console.debug(\"Bokeh: injecting script tag for BokehJS library: \", url);\n",
       "      document.head.appendChild(element);\n",
       "    }\n",
       "  };\n",
       "\n",
       "  function inject_raw_css(css) {\n",
       "    const element = document.createElement(\"style\");\n",
       "    element.appendChild(document.createTextNode(css));\n",
       "    document.body.appendChild(element);\n",
       "  }\n",
       "\n",
       "  \n",
       "  var js_urls = [\"https://cdn.bokeh.org/bokeh/release/bokeh-2.1.1.min.js\", \"https://cdn.bokeh.org/bokeh/release/bokeh-widgets-2.1.1.min.js\", \"https://cdn.bokeh.org/bokeh/release/bokeh-tables-2.1.1.min.js\", \"https://cdn.bokeh.org/bokeh/release/bokeh-gl-2.1.1.min.js\"];\n",
       "  var css_urls = [];\n",
       "  \n",
       "\n",
       "  var inline_js = [\n",
       "    function(Bokeh) {\n",
       "      Bokeh.set_log_level(\"info\");\n",
       "    },\n",
       "    function(Bokeh) {\n",
       "    \n",
       "    \n",
       "    }\n",
       "  ];\n",
       "\n",
       "  function run_inline_js() {\n",
       "    \n",
       "    if (root.Bokeh !== undefined || force === true) {\n",
       "      \n",
       "    for (var i = 0; i < inline_js.length; i++) {\n",
       "      inline_js[i].call(root, root.Bokeh);\n",
       "    }\n",
       "    if (force === true) {\n",
       "        display_loaded();\n",
       "      }} else if (Date.now() < root._bokeh_timeout) {\n",
       "      setTimeout(run_inline_js, 100);\n",
       "    } else if (!root._bokeh_failed_load) {\n",
       "      console.log(\"Bokeh: BokehJS failed to load within specified timeout.\");\n",
       "      root._bokeh_failed_load = true;\n",
       "    } else if (force !== true) {\n",
       "      var cell = $(document.getElementById(\"1001\")).parents('.cell').data().cell;\n",
       "      cell.output_area.append_execute_result(NB_LOAD_WARNING)\n",
       "    }\n",
       "\n",
       "  }\n",
       "\n",
       "  if (root._bokeh_is_loading === 0) {\n",
       "    console.debug(\"Bokeh: BokehJS loaded, going straight to plotting\");\n",
       "    run_inline_js();\n",
       "  } else {\n",
       "    load_libs(css_urls, js_urls, function() {\n",
       "      console.debug(\"Bokeh: BokehJS plotting callback run at\", now());\n",
       "      run_inline_js();\n",
       "    });\n",
       "  }\n",
       "}(window));"
      ],
      "application/vnd.bokehjs_load.v0+json": "\n(function(root) {\n  function now() {\n    return new Date();\n  }\n\n  var force = true;\n\n  if (typeof root._bokeh_onload_callbacks === \"undefined\" || force === true) {\n    root._bokeh_onload_callbacks = [];\n    root._bokeh_is_loading = undefined;\n  }\n\n  \n\n  \n  if (typeof (root._bokeh_timeout) === \"undefined\" || force === true) {\n    root._bokeh_timeout = Date.now() + 5000;\n    root._bokeh_failed_load = false;\n  }\n\n  var NB_LOAD_WARNING = {'data': {'text/html':\n     \"<div style='background-color: #fdd'>\\n\"+\n     \"<p>\\n\"+\n     \"BokehJS does not appear to have successfully loaded. If loading BokehJS from CDN, this \\n\"+\n     \"may be due to a slow or bad network connection. Possible fixes:\\n\"+\n     \"</p>\\n\"+\n     \"<ul>\\n\"+\n     \"<li>re-rerun `output_notebook()` to attempt to load from CDN again, or</li>\\n\"+\n     \"<li>use INLINE resources instead, as so:</li>\\n\"+\n     \"</ul>\\n\"+\n     \"<code>\\n\"+\n     \"from bokeh.resources import INLINE\\n\"+\n     \"output_notebook(resources=INLINE)\\n\"+\n     \"</code>\\n\"+\n     \"</div>\"}};\n\n  function display_loaded() {\n    var el = document.getElementById(\"1001\");\n    if (el != null) {\n      el.textContent = \"BokehJS is loading...\";\n    }\n    if (root.Bokeh !== undefined) {\n      if (el != null) {\n        el.textContent = \"BokehJS \" + root.Bokeh.version + \" successfully loaded.\";\n      }\n    } else if (Date.now() < root._bokeh_timeout) {\n      setTimeout(display_loaded, 100)\n    }\n  }\n\n\n  function run_callbacks() {\n    try {\n      root._bokeh_onload_callbacks.forEach(function(callback) {\n        if (callback != null)\n          callback();\n      });\n    } finally {\n      delete root._bokeh_onload_callbacks\n    }\n    console.debug(\"Bokeh: all callbacks have finished\");\n  }\n\n  function load_libs(css_urls, js_urls, callback) {\n    if (css_urls == null) css_urls = [];\n    if (js_urls == null) js_urls = [];\n\n    root._bokeh_onload_callbacks.push(callback);\n    if (root._bokeh_is_loading > 0) {\n      console.debug(\"Bokeh: BokehJS is being loaded, scheduling callback at\", now());\n      return null;\n    }\n    if (js_urls == null || js_urls.length === 0) {\n      run_callbacks();\n      return null;\n    }\n    console.debug(\"Bokeh: BokehJS not loaded, scheduling load and callback at\", now());\n    root._bokeh_is_loading = css_urls.length + js_urls.length;\n\n    function on_load() {\n      root._bokeh_is_loading--;\n      if (root._bokeh_is_loading === 0) {\n        console.debug(\"Bokeh: all BokehJS libraries/stylesheets loaded\");\n        run_callbacks()\n      }\n    }\n\n    function on_error() {\n      console.error(\"failed to load \" + url);\n    }\n\n    for (var i = 0; i < css_urls.length; i++) {\n      var url = css_urls[i];\n      const element = document.createElement(\"link\");\n      element.onload = on_load;\n      element.onerror = on_error;\n      element.rel = \"stylesheet\";\n      element.type = \"text/css\";\n      element.href = url;\n      console.debug(\"Bokeh: injecting link tag for BokehJS stylesheet: \", url);\n      document.body.appendChild(element);\n    }\n\n    const hashes = {\"https://cdn.bokeh.org/bokeh/release/bokeh-2.1.1.min.js\": \"kLr4fYcqcSpbuI95brIH3vnnYCquzzSxHPU6XGQCIkQRGJwhg0StNbj1eegrHs12\", \"https://cdn.bokeh.org/bokeh/release/bokeh-widgets-2.1.1.min.js\": \"xIGPmVtaOm+z0BqfSOMn4lOR6ciex448GIKG4eE61LsAvmGj48XcMQZtKcE/UXZe\", \"https://cdn.bokeh.org/bokeh/release/bokeh-tables-2.1.1.min.js\": \"Dc9u1wF/0zApGIWoBbH77iWEHtdmkuYWG839Uzmv8y8yBLXebjO9ZnERsde5Ln/P\", \"https://cdn.bokeh.org/bokeh/release/bokeh-gl-2.1.1.min.js\": \"cT9JaBz7GiRXdENrJLZNSC6eMNF3nh3fa5fTF51Svp+ukxPdwcU5kGXGPBgDCa2j\"};\n\n    for (var i = 0; i < js_urls.length; i++) {\n      var url = js_urls[i];\n      var element = document.createElement('script');\n      element.onload = on_load;\n      element.onerror = on_error;\n      element.async = false;\n      element.src = url;\n      if (url in hashes) {\n        element.crossOrigin = \"anonymous\";\n        element.integrity = \"sha384-\" + hashes[url];\n      }\n      console.debug(\"Bokeh: injecting script tag for BokehJS library: \", url);\n      document.head.appendChild(element);\n    }\n  };\n\n  function inject_raw_css(css) {\n    const element = document.createElement(\"style\");\n    element.appendChild(document.createTextNode(css));\n    document.body.appendChild(element);\n  }\n\n  \n  var js_urls = [\"https://cdn.bokeh.org/bokeh/release/bokeh-2.1.1.min.js\", \"https://cdn.bokeh.org/bokeh/release/bokeh-widgets-2.1.1.min.js\", \"https://cdn.bokeh.org/bokeh/release/bokeh-tables-2.1.1.min.js\", \"https://cdn.bokeh.org/bokeh/release/bokeh-gl-2.1.1.min.js\"];\n  var css_urls = [];\n  \n\n  var inline_js = [\n    function(Bokeh) {\n      Bokeh.set_log_level(\"info\");\n    },\n    function(Bokeh) {\n    \n    \n    }\n  ];\n\n  function run_inline_js() {\n    \n    if (root.Bokeh !== undefined || force === true) {\n      \n    for (var i = 0; i < inline_js.length; i++) {\n      inline_js[i].call(root, root.Bokeh);\n    }\n    if (force === true) {\n        display_loaded();\n      }} else if (Date.now() < root._bokeh_timeout) {\n      setTimeout(run_inline_js, 100);\n    } else if (!root._bokeh_failed_load) {\n      console.log(\"Bokeh: BokehJS failed to load within specified timeout.\");\n      root._bokeh_failed_load = true;\n    } else if (force !== true) {\n      var cell = $(document.getElementById(\"1001\")).parents('.cell').data().cell;\n      cell.output_area.append_execute_result(NB_LOAD_WARNING)\n    }\n\n  }\n\n  if (root._bokeh_is_loading === 0) {\n    console.debug(\"Bokeh: BokehJS loaded, going straight to plotting\");\n    run_inline_js();\n  } else {\n    load_libs(css_urls, js_urls, function() {\n      console.debug(\"Bokeh: BokehJS plotting callback run at\", now());\n      run_inline_js();\n    });\n  }\n}(window));"
     },
     "metadata": {},
     "output_type": "display_data"
    }
   ],
   "source": [
    "import os\n",
    "import re\n",
    "\n",
    "import sys\n",
    "sys.path.append(\"..\")\n",
    "\n",
    "import time\n",
    "import pickle\n",
    "import graphviz\n",
    "import numpy as np\n",
    "import pandas as pd\n",
    "\n",
    "from sklearn.pipeline import Pipeline\n",
    "from sklearn.metrics import mean_squared_error\n",
    "from sklearn.model_selection import train_test_split, GridSearchCV\n",
    "from sklearn.feature_extraction.text import CountVectorizer, TfidfTransformer, TfidfVectorizer\n",
    "\n",
    "from sklearn.tree import DecisionTreeRegressor\n",
    "from sklearn.linear_model import SGDRegressor, LinearRegression\n",
    "from sklearn.svm import SVR\n",
    "\n",
    "from scripts.clean_results import clean_results_df, dump_results\n",
    "from scripts.plotting_functions import export_tree_graph, render_tree_graph\n",
    "from scripts.plotting_functions import plot_feature_importance, plot_coefficients_significance,plot_models_performance\n",
    "\n",
    "from scripts.analyzers import simple_stemmer, regexp_stemmer\n",
    "\n",
    "from bokeh.plotting import output_notebook, show\n",
    "output_notebook()\n",
    "\n",
    "SEED = 99\n",
    "np.random.seed(SEED)\n",
    "\n",
    "DATA_FOLDER = os.path.join(os.getcwd(), \"../data\")\n",
    "RESULTS_FOLDER = os.path.join(DATA_FOLDER, \"results\")\n",
    "CV_RESULTS_FOLDER = os.path.join(RESULTS_FOLDER, \"csv\")"
   ]
  },
  {
   "cell_type": "markdown",
   "metadata": {},
   "source": [
    "<h3>Lettura dati di training &amp; testing</h3>"
   ]
  },
  {
   "cell_type": "code",
   "execution_count": 2,
   "metadata": {},
   "outputs": [],
   "source": [
    "train_fp = os.path.join(os.getcwd(), \"../data/csv/train.csv\")\n",
    "train = pd.read_csv(\n",
    "    train_fp,\n",
    "    index_col=['review_id']\n",
    ")"
   ]
  },
  {
   "cell_type": "code",
   "execution_count": 3,
   "metadata": {},
   "outputs": [],
   "source": [
    "test_fp = os.path.join(os.getcwd(), \"../data/csv/train.csv\")\n",
    "test = pd.read_csv(\n",
    "    test_fp,\n",
    "    index_col=['review_id']\n",
    ")"
   ]
  },
  {
   "cell_type": "code",
   "execution_count": 4,
   "metadata": {},
   "outputs": [],
   "source": [
    "X_train, Y_train = train['text'], train['stars']\n",
    "X_test, Y_test = test['text'], test['stars']"
   ]
  },
  {
   "cell_type": "markdown",
   "metadata": {},
   "source": [
    "<h3>Migliori parametri per modello SGD</h3>"
   ]
  },
  {
   "cell_type": "code",
   "execution_count": 5,
   "metadata": {},
   "outputs": [],
   "source": [
    "sgd_cv_results_fp = os.path.join(CV_RESULTS_FOLDER, \"ngrams_sgd_cv_results.csv\")\n",
    "sgd_cv_results_df = pd.read_csv(sgd_cv_results_fp, index_col=\"rank_test_neg_root_mean_squared_error\")"
   ]
  },
  {
   "cell_type": "code",
   "execution_count": 6,
   "metadata": {},
   "outputs": [],
   "source": [
    "sgd_pipeline = Pipeline([\n",
    "    ('tfidf', TfidfVectorizer(ngram_range=(1,2), norm='l2', smooth_idf=True)),\n",
    "    ('model', SGDRegressor(alpha=0.00001, penalty='l2'))\n",
    "])"
   ]
  },
  {
   "cell_type": "code",
   "execution_count": 7,
   "metadata": {},
   "outputs": [
    {
     "data": {
      "text/plain": [
       "Pipeline(steps=[('tfidf', TfidfVectorizer(ngram_range=(1, 2))),\n",
       "                ('model', SGDRegressor(alpha=1e-05))])"
      ]
     },
     "execution_count": 7,
     "metadata": {},
     "output_type": "execute_result"
    }
   ],
   "source": [
    "sgd_pipeline.fit(X_train, Y_train)"
   ]
  },
  {
   "cell_type": "code",
   "execution_count": 8,
   "metadata": {},
   "outputs": [],
   "source": [
    "sgd_coefficients = sgd_pipeline.steps[1][1].coef_"
   ]
  },
  {
   "cell_type": "code",
   "execution_count": 9,
   "metadata": {},
   "outputs": [
    {
     "data": {
      "text/plain": [
       "1498685"
      ]
     },
     "execution_count": 9,
     "metadata": {},
     "output_type": "execute_result"
    }
   ],
   "source": [
    "len(sgd_coefficients)"
   ]
  },
  {
   "cell_type": "code",
   "execution_count": 10,
   "metadata": {},
   "outputs": [],
   "source": [
    "sgd_features_names = sgd_pipeline.steps[0][1].vocabulary_"
   ]
  },
  {
   "cell_type": "code",
   "execution_count": 11,
   "metadata": {},
   "outputs": [
    {
     "data": {
      "text/plain": [
       "1498685"
      ]
     },
     "execution_count": 11,
     "metadata": {},
     "output_type": "execute_result"
    }
   ],
   "source": [
    "len(sgd_features_names)"
   ]
  },
  {
   "cell_type": "code",
   "execution_count": 12,
   "metadata": {},
   "outputs": [],
   "source": [
    "sgd_coeff_names = []\n",
    "for name in sgd_features_names:\n",
    "    index = sgd_features_names[name]\n",
    "    sgd_coeff_names.append((name, sgd_coefficients[index], abs(sgd_coefficients[index])))"
   ]
  },
  {
   "cell_type": "code",
   "execution_count": 13,
   "metadata": {},
   "outputs": [],
   "source": [
    "sgd_coeff_names.sort(reverse=True, key=lambda t : t[2])"
   ]
  },
  {
   "cell_type": "code",
   "execution_count": 14,
   "metadata": {},
   "outputs": [],
   "source": [
    "n = 35\n",
    "sgd_importance_fig = plot_coefficients_significance(sgd_coeff_names, n)"
   ]
  },
  {
   "cell_type": "code",
   "execution_count": 15,
   "metadata": {},
   "outputs": [
    {
     "data": {
      "text/html": [
       "\n",
       "\n",
       "\n",
       "\n",
       "\n",
       "\n",
       "  <div class=\"bk-root\" id=\"0d9cb11f-ce31-4b23-9391-17543ac3023b\" data-root-id=\"1004\"></div>\n"
      ]
     },
     "metadata": {},
     "output_type": "display_data"
    },
    {
     "data": {
      "application/javascript": [
       "(function(root) {\n",
       "  function embed_document(root) {\n",
       "    \n",
       "  var docs_json = {\"4bdf5981-817c-40c6-80c8-81c7477beace\":{\"roots\":{\"references\":[{\"attributes\":{\"below\":[{\"id\":\"1015\"}],\"center\":[{\"id\":\"1017\"},{\"id\":\"1021\"},{\"id\":\"1049\"}],\"left\":[{\"id\":\"1018\"}],\"plot_width\":900,\"renderers\":[{\"id\":\"1039\"},{\"id\":\"1054\"}],\"title\":{\"id\":\"1005\"},\"toolbar\":{\"id\":\"1029\"},\"x_range\":{\"id\":\"1007\"},\"x_scale\":{\"id\":\"1011\"},\"y_range\":{\"id\":\"1009\"},\"y_scale\":{\"id\":\"1013\"}},\"id\":\"1004\",\"subtype\":\"Figure\",\"type\":\"Plot\"},{\"attributes\":{\"data_source\":{\"id\":\"1003\"},\"glyph\":{\"id\":\"1052\"},\"hover_glyph\":null,\"muted_glyph\":null,\"nonselection_glyph\":{\"id\":\"1053\"},\"selection_glyph\":null,\"view\":{\"id\":\"1055\"}},\"id\":\"1054\",\"type\":\"GlyphRenderer\"},{\"attributes\":{},\"id\":\"1011\",\"type\":\"CategoricalScale\"},{\"attributes\":{\"source\":{\"id\":\"1003\"}},\"id\":\"1055\",\"type\":\"CDSView\"},{\"attributes\":{},\"id\":\"1009\",\"type\":\"DataRange1d\"},{\"attributes\":{\"bottom_units\":\"screen\",\"fill_alpha\":0.5,\"fill_color\":\"lightgrey\",\"left_units\":\"screen\",\"level\":\"overlay\",\"line_alpha\":1.0,\"line_color\":\"black\",\"line_dash\":[4,4],\"line_width\":2,\"right_units\":\"screen\",\"top_units\":\"screen\"},\"id\":\"1028\",\"type\":\"BoxAnnotation\"},{\"attributes\":{\"label\":{\"value\":\"Negativi\"},\"renderers\":[{\"id\":\"1054\"}]},\"id\":\"1066\",\"type\":\"LegendItem\"},{\"attributes\":{\"axis_label\":\"Coefficiente\",\"formatter\":{\"id\":\"1043\"},\"major_label_orientation\":1,\"ticker\":{\"id\":\"1016\"}},\"id\":\"1015\",\"type\":\"CategoricalAxis\"},{\"attributes\":{\"factors\":[\"great\",\"not\",\"amazing\",\"and\",\"best\",\"love\",\"delicious\",\"awesome\",\"excellent\",\"worst\",\"no\",\"the best\",\"rude\",\"told\",\"friendly\",\"definitely\",\"horrible\",\"always\",\"recommend\",\"said\",\"highly\",\"good\",\"terrible\",\"money\",\"with\",\"the worst\",\"thank\",\"bad\",\"asked\",\"wonderful\",\"perfect\",\"thank you\",\"fantastic\",\"never\",\"highly recommend\"]},\"id\":\"1007\",\"type\":\"FactorRange\"},{\"attributes\":{},\"id\":\"1064\",\"type\":\"UnionRenderers\"},{\"attributes\":{},\"id\":\"1043\",\"type\":\"CategoricalTickFormatter\"},{\"attributes\":{\"data\":{\"hs\":[5.649837821911234,3.3994060497719327,3.2943300288679027,3.067541361547521,3.0247048085894797,2.856868753049791,2.682720705521404,2.4852654716930043,2.3135712648374165,2.3018931210335483,2.2433231495808283,2.238756632060996,2.182833622030565],\"xs\":[\"not\",\"worst\",\"no\",\"rude\",\"told\",\"horrible\",\"said\",\"terrible\",\"money\",\"the worst\",\"bad\",\"asked\",\"never\"]},\"selected\":{\"id\":\"1065\"},\"selection_policy\":{\"id\":\"1064\"}},\"id\":\"1003\",\"type\":\"ColumnDataSource\"},{\"attributes\":{\"text\":\"Default Title\"},\"id\":\"1005\",\"type\":\"Title\"},{\"attributes\":{},\"id\":\"1045\",\"type\":\"BasicTickFormatter\"},{\"attributes\":{},\"id\":\"1065\",\"type\":\"Selection\"},{\"attributes\":{},\"id\":\"1013\",\"type\":\"LinearScale\"},{\"attributes\":{},\"id\":\"1016\",\"type\":\"CategoricalTicker\"},{\"attributes\":{},\"id\":\"1019\",\"type\":\"BasicTicker\"},{\"attributes\":{},\"id\":\"1047\",\"type\":\"UnionRenderers\"},{\"attributes\":{\"axis\":{\"id\":\"1015\"},\"ticker\":null},\"id\":\"1017\",\"type\":\"Grid\"},{\"attributes\":{},\"id\":\"1048\",\"type\":\"Selection\"},{\"attributes\":{\"data\":{\"hs\":[6.96046549040583,5.176582602162471,4.624423505536655,4.4764186227998,4.180138609177772,3.834261962272414,3.468792997544686,3.4351393386912665,3.1222030640668965,2.9612753203797664,2.8806915720030717,2.805890521023148,2.713811782206616,2.6172291699142782,2.603380425619527,2.3045625294763945,2.289693782429686,2.227701131133005,2.225825462529832,2.2059311326557243,2.198826981369972,2.164313532999603],\"xs\":[\"great\",\"amazing\",\"and\",\"best\",\"love\",\"delicious\",\"awesome\",\"excellent\",\"the best\",\"friendly\",\"definitely\",\"always\",\"recommend\",\"highly\",\"good\",\"with\",\"thank\",\"wonderful\",\"perfect\",\"thank you\",\"fantastic\",\"highly recommend\"]},\"selected\":{\"id\":\"1048\"},\"selection_policy\":{\"id\":\"1047\"}},\"id\":\"1002\",\"type\":\"ColumnDataSource\"},{\"attributes\":{\"axis\":{\"id\":\"1018\"},\"dimension\":1,\"ticker\":null},\"id\":\"1021\",\"type\":\"Grid\"},{\"attributes\":{\"overlay\":{\"id\":\"1028\"}},\"id\":\"1023\",\"type\":\"BoxZoomTool\"},{\"attributes\":{\"source\":{\"id\":\"1002\"}},\"id\":\"1040\",\"type\":\"CDSView\"},{\"attributes\":{\"fill_alpha\":{\"value\":0.1},\"fill_color\":{\"value\":\"#cc2c11\"},\"line_alpha\":{\"value\":0.1},\"line_color\":{\"value\":\"#cc2c11\"},\"top\":{\"field\":\"hs\"},\"width\":{\"value\":0.2},\"x\":{\"field\":\"xs\"}},\"id\":\"1038\",\"type\":\"VBar\"},{\"attributes\":{\"axis_label\":\"Valore Assoluto\",\"formatter\":{\"id\":\"1045\"},\"ticker\":{\"id\":\"1019\"}},\"id\":\"1018\",\"type\":\"LinearAxis\"},{\"attributes\":{\"fill_alpha\":{\"value\":0.5},\"fill_color\":{\"value\":\"#145b9c\"},\"line_alpha\":{\"value\":0.5},\"line_color\":{\"value\":\"#145b9c\"},\"top\":{\"field\":\"hs\"},\"width\":{\"value\":0.2},\"x\":{\"field\":\"xs\"}},\"id\":\"1052\",\"type\":\"VBar\"},{\"attributes\":{\"callback\":null,\"tooltips\":[[\"nome\",\"@xs\"],[\"valore\",\"@hs\"]]},\"id\":\"1022\",\"type\":\"HoverTool\"},{\"attributes\":{\"fill_alpha\":{\"value\":0.7},\"fill_color\":{\"value\":\"#cc2c11\"},\"line_alpha\":{\"value\":0.7},\"line_color\":{\"value\":\"#cc2c11\"},\"top\":{\"field\":\"hs\"},\"width\":{\"value\":0.2},\"x\":{\"field\":\"xs\"}},\"id\":\"1037\",\"type\":\"VBar\"},{\"attributes\":{\"active_drag\":\"auto\",\"active_inspect\":\"auto\",\"active_multi\":null,\"active_scroll\":\"auto\",\"active_tap\":\"auto\",\"tools\":[{\"id\":\"1022\"},{\"id\":\"1023\"},{\"id\":\"1024\"},{\"id\":\"1025\"},{\"id\":\"1026\"},{\"id\":\"1027\"}]},\"id\":\"1029\",\"type\":\"Toolbar\"},{\"attributes\":{\"data_source\":{\"id\":\"1002\"},\"glyph\":{\"id\":\"1037\"},\"hover_glyph\":null,\"muted_glyph\":null,\"nonselection_glyph\":{\"id\":\"1038\"},\"selection_glyph\":null,\"view\":{\"id\":\"1040\"}},\"id\":\"1039\",\"type\":\"GlyphRenderer\"},{\"attributes\":{},\"id\":\"1027\",\"type\":\"WheelZoomTool\"},{\"attributes\":{\"items\":[{\"id\":\"1050\"},{\"id\":\"1066\"}]},\"id\":\"1049\",\"type\":\"Legend\"},{\"attributes\":{},\"id\":\"1024\",\"type\":\"PanTool\"},{\"attributes\":{},\"id\":\"1025\",\"type\":\"SaveTool\"},{\"attributes\":{\"label\":{\"value\":\"Positivi\"},\"renderers\":[{\"id\":\"1039\"}]},\"id\":\"1050\",\"type\":\"LegendItem\"},{\"attributes\":{},\"id\":\"1026\",\"type\":\"ResetTool\"},{\"attributes\":{\"fill_alpha\":{\"value\":0.1},\"fill_color\":{\"value\":\"#145b9c\"},\"line_alpha\":{\"value\":0.1},\"line_color\":{\"value\":\"#145b9c\"},\"top\":{\"field\":\"hs\"},\"width\":{\"value\":0.2},\"x\":{\"field\":\"xs\"}},\"id\":\"1053\",\"type\":\"VBar\"}],\"root_ids\":[\"1004\"]},\"title\":\"Bokeh Application\",\"version\":\"2.1.1\"}};\n",
       "  var render_items = [{\"docid\":\"4bdf5981-817c-40c6-80c8-81c7477beace\",\"root_ids\":[\"1004\"],\"roots\":{\"1004\":\"0d9cb11f-ce31-4b23-9391-17543ac3023b\"}}];\n",
       "  root.Bokeh.embed.embed_items_notebook(docs_json, render_items);\n",
       "\n",
       "  }\n",
       "  if (root.Bokeh !== undefined) {\n",
       "    embed_document(root);\n",
       "  } else {\n",
       "    var attempts = 0;\n",
       "    var timer = setInterval(function(root) {\n",
       "      if (root.Bokeh !== undefined) {\n",
       "        clearInterval(timer);\n",
       "        embed_document(root);\n",
       "      } else {\n",
       "        attempts++;\n",
       "        if (attempts > 100) {\n",
       "          clearInterval(timer);\n",
       "          console.log(\"Bokeh: ERROR: Unable to run BokehJS code because BokehJS library is missing\");\n",
       "        }\n",
       "      }\n",
       "    }, 10, root)\n",
       "  }\n",
       "})(window);"
      ],
      "application/vnd.bokehjs_exec.v0+json": ""
     },
     "metadata": {
      "application/vnd.bokehjs_exec.v0+json": {
       "id": "1004"
      }
     },
     "output_type": "display_data"
    }
   ],
   "source": [
    "show(sgd_importance_fig)"
   ]
  },
  {
   "cell_type": "code",
   "execution_count": 16,
   "metadata": {},
   "outputs": [],
   "source": [
    "sgd_ngrams_coeff_names = [t for t in sgd_coeff_names if len(t[0].split()) > 1]"
   ]
  },
  {
   "cell_type": "code",
   "execution_count": 17,
   "metadata": {},
   "outputs": [],
   "source": [
    "n = 20\n",
    "sgd_ngrams_importance_fig = plot_coefficients_significance(sgd_ngrams_coeff_names, n)"
   ]
  },
  {
   "cell_type": "code",
   "execution_count": 18,
   "metadata": {},
   "outputs": [
    {
     "data": {
      "text/html": [
       "\n",
       "\n",
       "\n",
       "\n",
       "\n",
       "\n",
       "  <div class=\"bk-root\" id=\"774b7968-3787-483b-b241-3c9598eab659\" data-root-id=\"1149\"></div>\n"
      ]
     },
     "metadata": {},
     "output_type": "display_data"
    },
    {
     "data": {
      "application/javascript": [
       "(function(root) {\n",
       "  function embed_document(root) {\n",
       "    \n",
       "  var docs_json = {\"6c49bd36-d7f4-42be-83fa-2347847e060c\":{\"roots\":{\"references\":[{\"attributes\":{\"below\":[{\"id\":\"1160\"}],\"center\":[{\"id\":\"1162\"},{\"id\":\"1166\"},{\"id\":\"1194\"}],\"left\":[{\"id\":\"1163\"}],\"plot_width\":900,\"renderers\":[{\"id\":\"1184\"},{\"id\":\"1199\"}],\"title\":{\"id\":\"1150\"},\"toolbar\":{\"id\":\"1174\"},\"x_range\":{\"id\":\"1152\"},\"x_scale\":{\"id\":\"1156\"},\"y_range\":{\"id\":\"1154\"},\"y_scale\":{\"id\":\"1158\"}},\"id\":\"1149\",\"subtype\":\"Figure\",\"type\":\"Plot\"},{\"attributes\":{\"active_drag\":\"auto\",\"active_inspect\":\"auto\",\"active_multi\":null,\"active_scroll\":\"auto\",\"active_tap\":\"auto\",\"tools\":[{\"id\":\"1167\"},{\"id\":\"1168\"},{\"id\":\"1169\"},{\"id\":\"1170\"},{\"id\":\"1171\"},{\"id\":\"1172\"}]},\"id\":\"1174\",\"type\":\"Toolbar\"},{\"attributes\":{\"bottom_units\":\"screen\",\"fill_alpha\":0.5,\"fill_color\":\"lightgrey\",\"left_units\":\"screen\",\"level\":\"overlay\",\"line_alpha\":1.0,\"line_color\":\"black\",\"line_dash\":[4,4],\"line_width\":2,\"right_units\":\"screen\",\"top_units\":\"screen\"},\"id\":\"1173\",\"type\":\"BoxAnnotation\"},{\"attributes\":{\"fill_alpha\":{\"value\":0.1},\"fill_color\":{\"value\":\"#cc2c11\"},\"line_alpha\":{\"value\":0.1},\"line_color\":{\"value\":\"#cc2c11\"},\"top\":{\"field\":\"hs\"},\"width\":{\"value\":0.2},\"x\":{\"field\":\"xs\"}},\"id\":\"1183\",\"type\":\"VBar\"},{\"attributes\":{\"data_source\":{\"id\":\"1148\"},\"glyph\":{\"id\":\"1197\"},\"hover_glyph\":null,\"muted_glyph\":null,\"nonselection_glyph\":{\"id\":\"1198\"},\"selection_glyph\":null,\"view\":{\"id\":\"1200\"}},\"id\":\"1199\",\"type\":\"GlyphRenderer\"},{\"attributes\":{\"source\":{\"id\":\"1147\"}},\"id\":\"1185\",\"type\":\"CDSView\"},{\"attributes\":{\"items\":[{\"id\":\"1195\"},{\"id\":\"1211\"}]},\"id\":\"1194\",\"type\":\"Legend\"},{\"attributes\":{},\"id\":\"1161\",\"type\":\"CategoricalTicker\"},{\"attributes\":{\"callback\":null,\"tooltips\":[[\"nome\",\"@xs\"],[\"valore\",\"@hs\"]]},\"id\":\"1167\",\"type\":\"HoverTool\"},{\"attributes\":{\"label\":{\"value\":\"Positivi\"},\"renderers\":[{\"id\":\"1184\"}]},\"id\":\"1195\",\"type\":\"LegendItem\"},{\"attributes\":{\"fill_alpha\":{\"value\":0.5},\"fill_color\":{\"value\":\"#145b9c\"},\"line_alpha\":{\"value\":0.5},\"line_color\":{\"value\":\"#145b9c\"},\"top\":{\"field\":\"hs\"},\"width\":{\"value\":0.2},\"x\":{\"field\":\"xs\"}},\"id\":\"1197\",\"type\":\"VBar\"},{\"attributes\":{\"data_source\":{\"id\":\"1147\"},\"glyph\":{\"id\":\"1182\"},\"hover_glyph\":null,\"muted_glyph\":null,\"nonselection_glyph\":{\"id\":\"1183\"},\"selection_glyph\":null,\"view\":{\"id\":\"1185\"}},\"id\":\"1184\",\"type\":\"GlyphRenderer\"},{\"attributes\":{},\"id\":\"1192\",\"type\":\"UnionRenderers\"},{\"attributes\":{},\"id\":\"1210\",\"type\":\"Selection\"},{\"attributes\":{\"axis\":{\"id\":\"1163\"},\"dimension\":1,\"ticker\":null},\"id\":\"1166\",\"type\":\"Grid\"},{\"attributes\":{\"fill_alpha\":{\"value\":0.1},\"fill_color\":{\"value\":\"#145b9c\"},\"line_alpha\":{\"value\":0.1},\"line_color\":{\"value\":\"#145b9c\"},\"top\":{\"field\":\"hs\"},\"width\":{\"value\":0.2},\"x\":{\"field\":\"xs\"}},\"id\":\"1198\",\"type\":\"VBar\"},{\"attributes\":{},\"id\":\"1209\",\"type\":\"UnionRenderers\"},{\"attributes\":{\"factors\":[\"the best\",\"the worst\",\"thank you\",\"highly recommend\",\"do not\",\"will never\",\"had to\",\"to be\",\"will definitely\",\"love this\",\"was not\",\"was amazing\",\"my favorite\",\"will be\",\"at all\",\"will not\",\"so good\",\"rude and\",\"was great\",\"be back\"]},\"id\":\"1152\",\"type\":\"FactorRange\"},{\"attributes\":{},\"id\":\"1170\",\"type\":\"SaveTool\"},{\"attributes\":{},\"id\":\"1171\",\"type\":\"ResetTool\"},{\"attributes\":{},\"id\":\"1158\",\"type\":\"LinearScale\"},{\"attributes\":{},\"id\":\"1156\",\"type\":\"CategoricalScale\"},{\"attributes\":{},\"id\":\"1193\",\"type\":\"Selection\"},{\"attributes\":{\"axis_label\":\"Coefficiente\",\"formatter\":{\"id\":\"1188\"},\"major_label_orientation\":1,\"ticker\":{\"id\":\"1161\"}},\"id\":\"1160\",\"type\":\"CategoricalAxis\"},{\"attributes\":{\"text\":\"Default Title\"},\"id\":\"1150\",\"type\":\"Title\"},{\"attributes\":{},\"id\":\"1154\",\"type\":\"DataRange1d\"},{\"attributes\":{},\"id\":\"1169\",\"type\":\"PanTool\"},{\"attributes\":{},\"id\":\"1172\",\"type\":\"WheelZoomTool\"},{\"attributes\":{},\"id\":\"1188\",\"type\":\"CategoricalTickFormatter\"},{\"attributes\":{\"data\":{\"hs\":[2.3018931210335483,1.6884586085222788,1.5596906219952815,1.4686650982998448,1.3677029102178557,1.2864650294601958,1.2190972417291028,1.210607400951235,1.1673481880255658],\"xs\":[\"the worst\",\"do not\",\"will never\",\"had to\",\"to be\",\"was not\",\"at all\",\"will not\",\"rude and\"]},\"selected\":{\"id\":\"1210\"},\"selection_policy\":{\"id\":\"1209\"}},\"id\":\"1148\",\"type\":\"ColumnDataSource\"},{\"attributes\":{\"fill_alpha\":{\"value\":0.7},\"fill_color\":{\"value\":\"#cc2c11\"},\"line_alpha\":{\"value\":0.7},\"line_color\":{\"value\":\"#cc2c11\"},\"top\":{\"field\":\"hs\"},\"width\":{\"value\":0.2},\"x\":{\"field\":\"xs\"}},\"id\":\"1182\",\"type\":\"VBar\"},{\"attributes\":{\"source\":{\"id\":\"1148\"}},\"id\":\"1200\",\"type\":\"CDSView\"},{\"attributes\":{\"axis\":{\"id\":\"1160\"},\"ticker\":null},\"id\":\"1162\",\"type\":\"Grid\"},{\"attributes\":{},\"id\":\"1190\",\"type\":\"BasicTickFormatter\"},{\"attributes\":{\"axis_label\":\"Valore Assoluto\",\"formatter\":{\"id\":\"1190\"},\"ticker\":{\"id\":\"1164\"}},\"id\":\"1163\",\"type\":\"LinearAxis\"},{\"attributes\":{\"overlay\":{\"id\":\"1173\"}},\"id\":\"1168\",\"type\":\"BoxZoomTool\"},{\"attributes\":{\"data\":{\"hs\":[3.1222030640668965,2.2059311326557243,2.164313532999603,1.3676303443329623,1.361346552352032,1.2776889447445388,1.2775687256442967,1.2376794525813501,1.1898212002256554,1.1380410196891193,1.1312855511764879],\"xs\":[\"the best\",\"thank you\",\"highly recommend\",\"will definitely\",\"love this\",\"was amazing\",\"my favorite\",\"will be\",\"so good\",\"was great\",\"be back\"]},\"selected\":{\"id\":\"1193\"},\"selection_policy\":{\"id\":\"1192\"}},\"id\":\"1147\",\"type\":\"ColumnDataSource\"},{\"attributes\":{\"label\":{\"value\":\"Negativi\"},\"renderers\":[{\"id\":\"1199\"}]},\"id\":\"1211\",\"type\":\"LegendItem\"},{\"attributes\":{},\"id\":\"1164\",\"type\":\"BasicTicker\"}],\"root_ids\":[\"1149\"]},\"title\":\"Bokeh Application\",\"version\":\"2.1.1\"}};\n",
       "  var render_items = [{\"docid\":\"6c49bd36-d7f4-42be-83fa-2347847e060c\",\"root_ids\":[\"1149\"],\"roots\":{\"1149\":\"774b7968-3787-483b-b241-3c9598eab659\"}}];\n",
       "  root.Bokeh.embed.embed_items_notebook(docs_json, render_items);\n",
       "\n",
       "  }\n",
       "  if (root.Bokeh !== undefined) {\n",
       "    embed_document(root);\n",
       "  } else {\n",
       "    var attempts = 0;\n",
       "    var timer = setInterval(function(root) {\n",
       "      if (root.Bokeh !== undefined) {\n",
       "        clearInterval(timer);\n",
       "        embed_document(root);\n",
       "      } else {\n",
       "        attempts++;\n",
       "        if (attempts > 100) {\n",
       "          clearInterval(timer);\n",
       "          console.log(\"Bokeh: ERROR: Unable to run BokehJS code because BokehJS library is missing\");\n",
       "        }\n",
       "      }\n",
       "    }, 10, root)\n",
       "  }\n",
       "})(window);"
      ],
      "application/vnd.bokehjs_exec.v0+json": ""
     },
     "metadata": {
      "application/vnd.bokehjs_exec.v0+json": {
       "id": "1149"
      }
     },
     "output_type": "display_data"
    }
   ],
   "source": [
    "show(sgd_ngrams_importance_fig)"
   ]
  },
  {
   "cell_type": "markdown",
   "metadata": {},
   "source": [
    "<h3>Migliori parametri per modello DTR</h3>"
   ]
  },
  {
   "cell_type": "code",
   "execution_count": 19,
   "metadata": {},
   "outputs": [],
   "source": [
    "dtr_cv_results_fp = os.path.join(CV_RESULTS_FOLDER, \"ngrams_dtr_cv_results.csv\")\n",
    "dtr_cv_results_df = pd.read_csv(dtr_cv_results_fp, index_col=\"rank_test_neg_root_mean_squared_error\")"
   ]
  },
  {
   "cell_type": "code",
   "execution_count": 20,
   "metadata": {},
   "outputs": [],
   "source": [
    "dtr_pipeline = Pipeline([\n",
    "    ('tfidf', TfidfVectorizer(ngram_range=(1,2), norm='l2', smooth_idf=False)),\n",
    "    ('model', DecisionTreeRegressor(\n",
    "        max_depth=70,\n",
    "        max_features=7000,\n",
    "        min_samples_leaf=400,\n",
    "        min_samples_split=1000,\n",
    "        splitter='random')\n",
    "    )\n",
    "])"
   ]
  },
  {
   "cell_type": "code",
   "execution_count": 21,
   "metadata": {},
   "outputs": [
    {
     "data": {
      "text/plain": [
       "Pipeline(steps=[('tfidf',\n",
       "                 TfidfVectorizer(ngram_range=(1, 2), smooth_idf=False)),\n",
       "                ('model',\n",
       "                 DecisionTreeRegressor(max_depth=70, max_features=7000,\n",
       "                                       min_samples_leaf=400,\n",
       "                                       min_samples_split=1000,\n",
       "                                       splitter='random'))])"
      ]
     },
     "execution_count": 21,
     "metadata": {},
     "output_type": "execute_result"
    }
   ],
   "source": [
    "dtr_pipeline.fit(X_train, Y_train)"
   ]
  },
  {
   "cell_type": "code",
   "execution_count": 22,
   "metadata": {},
   "outputs": [],
   "source": [
    "dtr_features_names = (dtr_pipeline.steps[0][1].vocabulary_)"
   ]
  },
  {
   "cell_type": "code",
   "execution_count": 23,
   "metadata": {},
   "outputs": [
    {
     "data": {
      "text/plain": [
       "1498685"
      ]
     },
     "execution_count": 23,
     "metadata": {},
     "output_type": "execute_result"
    }
   ],
   "source": [
    "len(dtr_features_names)"
   ]
  },
  {
   "cell_type": "code",
   "execution_count": 24,
   "metadata": {},
   "outputs": [],
   "source": [
    "dtr_features_importance = dtr_pipeline.steps[1][1].feature_importances_"
   ]
  },
  {
   "cell_type": "code",
   "execution_count": 25,
   "metadata": {},
   "outputs": [
    {
     "data": {
      "text/plain": [
       "1498685"
      ]
     },
     "execution_count": 25,
     "metadata": {},
     "output_type": "execute_result"
    }
   ],
   "source": [
    "len(dtr_features_importance)"
   ]
  },
  {
   "cell_type": "code",
   "execution_count": 26,
   "metadata": {},
   "outputs": [],
   "source": [
    "export_tree_graph(\n",
    "    decision_tree = dtr_pipeline.steps[1][1],\n",
    "    vocabulary = dtr_features_names,\n",
    "    out_file = \"ngrams_tree.dot\"\n",
    ")"
   ]
  },
  {
   "cell_type": "code",
   "execution_count": 27,
   "metadata": {},
   "outputs": [],
   "source": [
    "render_tree_graph(\"ngrams_tree.dot\")"
   ]
  },
  {
   "cell_type": "markdown",
   "metadata": {},
   "source": [
    "<img src=\"./imgs/ngrams_tree.png\" style=\"width=800;height=600\">"
   ]
  },
  {
   "cell_type": "markdown",
   "metadata": {},
   "source": [
    "<h3>Migliori parametri per modello SVR</h3>"
   ]
  },
  {
   "cell_type": "code",
   "execution_count": 36,
   "metadata": {},
   "outputs": [],
   "source": [
    "svr_cv_results_fp = os.path.join(CV_RESULTS_FOLDER, \"ngrams_svr_cv_results.csv\")\n",
    "svr_cv_results_df = pd.read_csv(svr_cv_results_fp, index_col=\"rank_rmse\")"
   ]
  },
  {
   "cell_type": "code",
   "execution_count": 37,
   "metadata": {},
   "outputs": [],
   "source": [
    "svr_pipeline = Pipeline([\n",
    "    ('tfidf', TfidfVectorizer(ngram_range=(1,2), norm='l2', smooth_idf=False)),\n",
    "    ('model', SVR(C=50, kernel='linear', gamma='scale'))\n",
    "])"
   ]
  },
  {
   "cell_type": "code",
   "execution_count": 38,
   "metadata": {},
   "outputs": [
    {
     "data": {
      "text/plain": [
       "Pipeline(steps=[('tfidf',\n",
       "                 TfidfVectorizer(ngram_range=(1, 2), smooth_idf=False)),\n",
       "                ('model', SVR(C=50, kernel='linear'))])"
      ]
     },
     "execution_count": 38,
     "metadata": {},
     "output_type": "execute_result"
    }
   ],
   "source": [
    "svr_pipeline.fit(X_train, Y_train)"
   ]
  },
  {
   "cell_type": "code",
   "execution_count": 39,
   "metadata": {},
   "outputs": [],
   "source": [
    "svr_features_names = svr_pipeline.steps[0][1].vocabulary_"
   ]
  },
  {
   "cell_type": "code",
   "execution_count": 40,
   "metadata": {},
   "outputs": [
    {
     "data": {
      "text/plain": [
       "1498685"
      ]
     },
     "execution_count": 40,
     "metadata": {},
     "output_type": "execute_result"
    }
   ],
   "source": [
    "len(svr_features_names)"
   ]
  },
  {
   "cell_type": "code",
   "execution_count": 44,
   "metadata": {},
   "outputs": [],
   "source": [
    "svr_coeffs = svr_pipeline.steps[1][1].coef_.todense()"
   ]
  },
  {
   "cell_type": "code",
   "execution_count": 62,
   "metadata": {},
   "outputs": [
    {
     "data": {
      "text/plain": [
       "1498685"
      ]
     },
     "execution_count": 62,
     "metadata": {},
     "output_type": "execute_result"
    }
   ],
   "source": [
    "svr_coeffs.shape[1]"
   ]
  },
  {
   "cell_type": "code",
   "execution_count": 63,
   "metadata": {},
   "outputs": [],
   "source": [
    "svr_coeff_names = []\n",
    "for name in svr_features_names:\n",
    "    index = svr_features_names[name]\n",
    "    svr_coeff_names.append((name, svr_coeffs[0, index], abs(svr_coeffs[0, index])))"
   ]
  },
  {
   "cell_type": "code",
   "execution_count": 66,
   "metadata": {},
   "outputs": [],
   "source": [
    "svr_coeff_names.sort(reverse=True, key=lambda t : t[2])"
   ]
  },
  {
   "cell_type": "code",
   "execution_count": 69,
   "metadata": {},
   "outputs": [],
   "source": [
    "n = 25\n",
    "svr_importance_fig = plot_coefficients_significance(\n",
    "    svr_coeff_names,\n",
    "    n,\n",
    "    title=\"Migliori Coefficienti modello SVR kernel lineare\")"
   ]
  },
  {
   "cell_type": "code",
   "execution_count": 70,
   "metadata": {},
   "outputs": [
    {
     "data": {
      "text/html": [
       "\n",
       "\n",
       "\n",
       "\n",
       "\n",
       "\n",
       "  <div class=\"bk-root\" id=\"db75001a-da99-4a6d-932a-e8b27afd1920\" data-root-id=\"1646\"></div>\n"
      ]
     },
     "metadata": {},
     "output_type": "display_data"
    },
    {
     "data": {
      "application/javascript": [
       "(function(root) {\n",
       "  function embed_document(root) {\n",
       "    \n",
       "  var docs_json = {\"536c3c4d-b021-467f-a0f4-1f124f5b4b9c\":{\"roots\":{\"references\":[{\"attributes\":{\"below\":[{\"id\":\"1657\"}],\"center\":[{\"id\":\"1659\"},{\"id\":\"1663\"},{\"id\":\"1691\"}],\"left\":[{\"id\":\"1660\"}],\"plot_width\":900,\"renderers\":[{\"id\":\"1681\"},{\"id\":\"1696\"}],\"title\":{\"id\":\"1647\"},\"toolbar\":{\"id\":\"1671\"},\"x_range\":{\"id\":\"1649\"},\"x_scale\":{\"id\":\"1653\"},\"y_range\":{\"id\":\"1651\"},\"y_scale\":{\"id\":\"1655\"}},\"id\":\"1646\",\"subtype\":\"Figure\",\"type\":\"Plot\"},{\"attributes\":{},\"id\":\"1706\",\"type\":\"UnionRenderers\"},{\"attributes\":{\"axis\":{\"id\":\"1660\"},\"dimension\":1,\"ticker\":null},\"id\":\"1663\",\"type\":\"Grid\"},{\"attributes\":{},\"id\":\"1667\",\"type\":\"SaveTool\"},{\"attributes\":{\"callback\":null,\"tooltips\":[[\"nome\",\"@xs\"],[\"valore\",\"@hs\"]]},\"id\":\"1664\",\"type\":\"HoverTool\"},{\"attributes\":{},\"id\":\"1707\",\"type\":\"Selection\"},{\"attributes\":{},\"id\":\"1669\",\"type\":\"WheelZoomTool\"},{\"attributes\":{\"active_drag\":\"auto\",\"active_inspect\":\"auto\",\"active_multi\":null,\"active_scroll\":\"auto\",\"active_tap\":\"auto\",\"tools\":[{\"id\":\"1664\"},{\"id\":\"1665\"},{\"id\":\"1666\"},{\"id\":\"1667\"},{\"id\":\"1668\"},{\"id\":\"1669\"}]},\"id\":\"1671\",\"type\":\"Toolbar\"},{\"attributes\":{\"label\":{\"value\":\"Positivi\"},\"renderers\":[{\"id\":\"1681\"}]},\"id\":\"1692\",\"type\":\"LegendItem\"},{\"attributes\":{},\"id\":\"1668\",\"type\":\"ResetTool\"},{\"attributes\":{\"label\":{\"value\":\"Negativi\"},\"renderers\":[{\"id\":\"1696\"}]},\"id\":\"1708\",\"type\":\"LegendItem\"},{\"attributes\":{\"items\":[{\"id\":\"1692\"},{\"id\":\"1708\"}]},\"id\":\"1691\",\"type\":\"Legend\"},{\"attributes\":{\"data\":{\"hs\":[5.88526742284625,5.358603571559822,5.241523031369702,4.973308417233584,4.721697334063863,4.283314103217316,4.19886285515013,3.908590400303889],\"xs\":[\"be disappointed\",\"best\",\"great\",\"not disappointed\",\"amazing\",\"excellent\",\"awesome\",\"delicious\"]},\"selected\":{\"id\":\"1690\"},\"selection_policy\":{\"id\":\"1689\"}},\"id\":\"1644\",\"type\":\"ColumnDataSource\"},{\"attributes\":{\"bottom_units\":\"screen\",\"fill_alpha\":0.5,\"fill_color\":\"lightgrey\",\"left_units\":\"screen\",\"level\":\"overlay\",\"line_alpha\":1.0,\"line_color\":\"black\",\"line_dash\":[4,4],\"line_width\":2,\"right_units\":\"screen\",\"top_units\":\"screen\"},\"id\":\"1670\",\"type\":\"BoxAnnotation\"},{\"attributes\":{\"source\":{\"id\":\"1645\"}},\"id\":\"1697\",\"type\":\"CDSView\"},{\"attributes\":{\"data_source\":{\"id\":\"1645\"},\"glyph\":{\"id\":\"1694\"},\"hover_glyph\":null,\"muted_glyph\":null,\"nonselection_glyph\":{\"id\":\"1695\"},\"selection_glyph\":null,\"view\":{\"id\":\"1697\"}},\"id\":\"1696\",\"type\":\"GlyphRenderer\"},{\"attributes\":{\"data_source\":{\"id\":\"1644\"},\"glyph\":{\"id\":\"1679\"},\"hover_glyph\":null,\"muted_glyph\":null,\"nonselection_glyph\":{\"id\":\"1680\"},\"selection_glyph\":null,\"view\":{\"id\":\"1682\"}},\"id\":\"1681\",\"type\":\"GlyphRenderer\"},{\"attributes\":{\"axis_label\":\"Coefficiente\",\"formatter\":{\"id\":\"1685\"},\"major_label_orientation\":1,\"ticker\":{\"id\":\"1658\"}},\"id\":\"1657\",\"type\":\"CategoricalAxis\"},{\"attributes\":{\"fill_alpha\":{\"value\":0.1},\"fill_color\":{\"value\":\"#cc2c11\"},\"line_alpha\":{\"value\":0.1},\"line_color\":{\"value\":\"#cc2c11\"},\"top\":{\"field\":\"hs\"},\"width\":{\"value\":0.2},\"x\":{\"field\":\"xs\"}},\"id\":\"1680\",\"type\":\"VBar\"},{\"attributes\":{\"data\":{\"hs\":[8.084330469506154,5.890276154106235,5.379279973789616,4.9689325207736275,4.743686341367674,4.656287067954151,4.646452855845457,4.56113609611046,4.398441799236111,4.210323095687158,4.168860847835797,4.129347536020569,4.094667761854869,4.055737886905752,3.788969604564331,3.7878250203136505,3.7845273446077403],\"xs\":[\"worst\",\"horrible\",\"terrible\",\"not\",\"rude\",\"unprofessional\",\"awful\",\"worse\",\"poor\",\"disgusting\",\"ask fo\",\"never again\",\"disappointing\",\"one star\",\"scam\",\"told\",\"unacceptable\"]},\"selected\":{\"id\":\"1707\"},\"selection_policy\":{\"id\":\"1706\"}},\"id\":\"1645\",\"type\":\"ColumnDataSource\"},{\"attributes\":{\"fill_alpha\":{\"value\":0.1},\"fill_color\":{\"value\":\"#145b9c\"},\"line_alpha\":{\"value\":0.1},\"line_color\":{\"value\":\"#145b9c\"},\"top\":{\"field\":\"hs\"},\"width\":{\"value\":0.2},\"x\":{\"field\":\"xs\"}},\"id\":\"1695\",\"type\":\"VBar\"},{\"attributes\":{\"text\":\"Migliori Coefficienti modello SVR kernel lineare\"},\"id\":\"1647\",\"type\":\"Title\"},{\"attributes\":{},\"id\":\"1658\",\"type\":\"CategoricalTicker\"},{\"attributes\":{},\"id\":\"1666\",\"type\":\"PanTool\"},{\"attributes\":{},\"id\":\"1687\",\"type\":\"BasicTickFormatter\"},{\"attributes\":{\"fill_alpha\":{\"value\":0.5},\"fill_color\":{\"value\":\"#145b9c\"},\"line_alpha\":{\"value\":0.5},\"line_color\":{\"value\":\"#145b9c\"},\"top\":{\"field\":\"hs\"},\"width\":{\"value\":0.2},\"x\":{\"field\":\"xs\"}},\"id\":\"1694\",\"type\":\"VBar\"},{\"attributes\":{},\"id\":\"1651\",\"type\":\"DataRange1d\"},{\"attributes\":{\"factors\":[\"worst\",\"horrible\",\"be disappointed\",\"terrible\",\"best\",\"great\",\"not disappointed\",\"not\",\"rude\",\"amazing\",\"unprofessional\",\"awful\",\"worse\",\"poor\",\"excellent\",\"disgusting\",\"awesome\",\"ask fo\",\"never again\",\"disappointing\",\"one star\",\"delicious\",\"scam\",\"told\",\"unacceptable\"]},\"id\":\"1649\",\"type\":\"FactorRange\"},{\"attributes\":{},\"id\":\"1655\",\"type\":\"LinearScale\"},{\"attributes\":{},\"id\":\"1690\",\"type\":\"Selection\"},{\"attributes\":{\"axis_label\":\"Valore Assoluto\",\"formatter\":{\"id\":\"1687\"},\"ticker\":{\"id\":\"1661\"}},\"id\":\"1660\",\"type\":\"LinearAxis\"},{\"attributes\":{\"fill_alpha\":{\"value\":0.7},\"fill_color\":{\"value\":\"#cc2c11\"},\"line_alpha\":{\"value\":0.7},\"line_color\":{\"value\":\"#cc2c11\"},\"top\":{\"field\":\"hs\"},\"width\":{\"value\":0.2},\"x\":{\"field\":\"xs\"}},\"id\":\"1679\",\"type\":\"VBar\"},{\"attributes\":{},\"id\":\"1653\",\"type\":\"CategoricalScale\"},{\"attributes\":{\"axis\":{\"id\":\"1657\"},\"ticker\":null},\"id\":\"1659\",\"type\":\"Grid\"},{\"attributes\":{},\"id\":\"1685\",\"type\":\"CategoricalTickFormatter\"},{\"attributes\":{\"overlay\":{\"id\":\"1670\"}},\"id\":\"1665\",\"type\":\"BoxZoomTool\"},{\"attributes\":{\"source\":{\"id\":\"1644\"}},\"id\":\"1682\",\"type\":\"CDSView\"},{\"attributes\":{},\"id\":\"1689\",\"type\":\"UnionRenderers\"},{\"attributes\":{},\"id\":\"1661\",\"type\":\"BasicTicker\"}],\"root_ids\":[\"1646\"]},\"title\":\"Bokeh Application\",\"version\":\"2.1.1\"}};\n",
       "  var render_items = [{\"docid\":\"536c3c4d-b021-467f-a0f4-1f124f5b4b9c\",\"root_ids\":[\"1646\"],\"roots\":{\"1646\":\"db75001a-da99-4a6d-932a-e8b27afd1920\"}}];\n",
       "  root.Bokeh.embed.embed_items_notebook(docs_json, render_items);\n",
       "\n",
       "  }\n",
       "  if (root.Bokeh !== undefined) {\n",
       "    embed_document(root);\n",
       "  } else {\n",
       "    var attempts = 0;\n",
       "    var timer = setInterval(function(root) {\n",
       "      if (root.Bokeh !== undefined) {\n",
       "        clearInterval(timer);\n",
       "        embed_document(root);\n",
       "      } else {\n",
       "        attempts++;\n",
       "        if (attempts > 100) {\n",
       "          clearInterval(timer);\n",
       "          console.log(\"Bokeh: ERROR: Unable to run BokehJS code because BokehJS library is missing\");\n",
       "        }\n",
       "      }\n",
       "    }, 10, root)\n",
       "  }\n",
       "})(window);"
      ],
      "application/vnd.bokehjs_exec.v0+json": ""
     },
     "metadata": {
      "application/vnd.bokehjs_exec.v0+json": {
       "id": "1646"
      }
     },
     "output_type": "display_data"
    }
   ],
   "source": [
    "show(svr_importance_fig)"
   ]
  },
  {
   "cell_type": "markdown",
   "metadata": {},
   "source": [
    "<h3>Comparazione errori di training</h3>\n",
    "<p>Procediamo ora con il confrontare l'errore quadratico medio dei vari modelli al fine di selezionare il modello più performante. Successivamente testeremo la capacità del miglior modello di generalizzare. Per fare questo sfrutteremo l'<i>hold-out</i> set creato nel primo notebook.<br>\n",
    "Potremmo essere tentanti di testare tutti i modelli ottenuti sull'insieme precedentemente menzionato e selezionare il modello che mostra l'errore più piccolo su tale insieme. Questa procedura va però evitata in quanto si rischia di overfittare i modelli alle particolari caratteristiche dell'insieme di test.\n",
    "\n",
    "<p>Visto che abbiamo precedentemente ottenuto, tramite validazione incrociata, le misure di errore per i vari modelli ed avendole memorizzate in dei files è ora sufficiente metterle a confronto. Una volta selezionato il miglior modello procederemo ad addestrarlo sull'intero insieme di training e testarlo sull'insieme di test."
   ]
  },
  {
   "cell_type": "code",
   "execution_count": 3,
   "metadata": {},
   "outputs": [
    {
     "data": {
      "text/html": [
       "<div>\n",
       "<style scoped>\n",
       "    .dataframe tbody tr th:only-of-type {\n",
       "        vertical-align: middle;\n",
       "    }\n",
       "\n",
       "    .dataframe tbody tr th {\n",
       "        vertical-align: top;\n",
       "    }\n",
       "\n",
       "    .dataframe thead th {\n",
       "        text-align: right;\n",
       "    }\n",
       "</style>\n",
       "<table border=\"1\" class=\"dataframe\">\n",
       "  <thead>\n",
       "    <tr style=\"text-align: right;\">\n",
       "      <th></th>\n",
       "      <th></th>\n",
       "      <th>model</th>\n",
       "      <th>ngram_range</th>\n",
       "      <th>mean_rmse</th>\n",
       "      <th>std_rmse</th>\n",
       "      <th>mean_mae</th>\n",
       "      <th>std_mae</th>\n",
       "    </tr>\n",
       "    <tr>\n",
       "      <th>rank_rmse</th>\n",
       "      <th>rank_mae</th>\n",
       "      <th></th>\n",
       "      <th></th>\n",
       "      <th></th>\n",
       "      <th></th>\n",
       "      <th></th>\n",
       "      <th></th>\n",
       "    </tr>\n",
       "  </thead>\n",
       "  <tbody>\n",
       "    <tr>\n",
       "      <th>1.0</th>\n",
       "      <th>4.0</th>\n",
       "      <td>SVR()</td>\n",
       "      <td>(1, 2)</td>\n",
       "      <td>0.821007</td>\n",
       "      <td>0.005164</td>\n",
       "      <td>0.653451</td>\n",
       "      <td>0.005016</td>\n",
       "    </tr>\n",
       "    <tr>\n",
       "      <th>2.0</th>\n",
       "      <th>3.0</th>\n",
       "      <td>SGDRegressor()</td>\n",
       "      <td>(1,1)</td>\n",
       "      <td>0.829567</td>\n",
       "      <td>0.005108</td>\n",
       "      <td>0.652813</td>\n",
       "      <td>0.003873</td>\n",
       "    </tr>\n",
       "    <tr>\n",
       "      <th>3.0</th>\n",
       "      <th>5.0</th>\n",
       "      <td>SGDRegressor()</td>\n",
       "      <td>(1, 2)</td>\n",
       "      <td>0.945281</td>\n",
       "      <td>0.004997</td>\n",
       "      <td>0.767041</td>\n",
       "      <td>0.004767</td>\n",
       "    </tr>\n",
       "    <tr>\n",
       "      <th>4.0</th>\n",
       "      <th>1.0</th>\n",
       "      <td>DecisionTreeRegressor()</td>\n",
       "      <td>(1,1)</td>\n",
       "      <td>1.283854</td>\n",
       "      <td>0.028661</td>\n",
       "      <td>1.045344</td>\n",
       "      <td>0.031268</td>\n",
       "    </tr>\n",
       "    <tr>\n",
       "      <th>5.0</th>\n",
       "      <th>6.0</th>\n",
       "      <td>DecisionTreeRegressor()</td>\n",
       "      <td>(1, 2)</td>\n",
       "      <td>1.465017</td>\n",
       "      <td>0.020844</td>\n",
       "      <td>1.248204</td>\n",
       "      <td>0.026967</td>\n",
       "    </tr>\n",
       "    <tr>\n",
       "      <th>6.0</th>\n",
       "      <th>2.0</th>\n",
       "      <td>LinearRegression()</td>\n",
       "      <td>(1,1)</td>\n",
       "      <td>1.466439</td>\n",
       "      <td>0.026019</td>\n",
       "      <td>0.989667</td>\n",
       "      <td>0.009860</td>\n",
       "    </tr>\n",
       "  </tbody>\n",
       "</table>\n",
       "</div>"
      ],
      "text/plain": [
       "                                      model ngram_range  mean_rmse  std_rmse  \\\n",
       "rank_rmse rank_mae                                                             \n",
       "1.0       4.0                         SVR()      (1, 2)   0.821007  0.005164   \n",
       "2.0       3.0                SGDRegressor()       (1,1)   0.829567  0.005108   \n",
       "3.0       5.0                SGDRegressor()      (1, 2)   0.945281  0.004997   \n",
       "4.0       1.0       DecisionTreeRegressor()       (1,1)   1.283854  0.028661   \n",
       "5.0       6.0       DecisionTreeRegressor()      (1, 2)   1.465017  0.020844   \n",
       "6.0       2.0            LinearRegression()       (1,1)   1.466439  0.026019   \n",
       "\n",
       "                    mean_mae   std_mae  \n",
       "rank_rmse rank_mae                      \n",
       "1.0       4.0       0.653451  0.005016  \n",
       "2.0       3.0       0.652813  0.003873  \n",
       "3.0       5.0       0.767041  0.004767  \n",
       "4.0       1.0       1.045344  0.031268  \n",
       "5.0       6.0       1.248204  0.026967  \n",
       "6.0       2.0       0.989667  0.009860  "
      ]
     },
     "execution_count": 3,
     "metadata": {},
     "output_type": "execute_result"
    }
   ],
   "source": [
    "best_models_df = pd.read_csv(\n",
    "    os.path.join(RESULTS_FOLDER,'best_models_ranking.csv'),\n",
    "    index_col=['rank_rmse', 'rank_mae']\n",
    ")\n",
    "best_models_df.loc[:, ['model','ngram_range','mean_rmse','std_rmse','mean_mae','std_mae']]"
   ]
  },
  {
   "cell_type": "code",
   "execution_count": 4,
   "metadata": {},
   "outputs": [],
   "source": [
    "models_performance_fig = plot_models_performance(best_models_df)"
   ]
  },
  {
   "cell_type": "code",
   "execution_count": 5,
   "metadata": {},
   "outputs": [
    {
     "data": {
      "text/html": [
       "\n",
       "\n",
       "\n",
       "\n",
       "\n",
       "\n",
       "  <div class=\"bk-root\" id=\"8edb0f1e-3708-414d-8be8-6991380ddf11\" data-root-id=\"1002\"></div>\n"
      ]
     },
     "metadata": {},
     "output_type": "display_data"
    },
    {
     "data": {
      "application/javascript": [
       "(function(root) {\n",
       "  function embed_document(root) {\n",
       "    \n",
       "  var docs_json = {\"f7748596-9db1-4292-9273-294f2078404d\":{\"roots\":{\"references\":[{\"attributes\":{\"below\":[{\"id\":\"1013\"}],\"center\":[{\"id\":\"1016\"},{\"id\":\"1020\"},{\"id\":\"1054\"},{\"id\":\"1157\"}],\"left\":[{\"id\":\"1017\"}],\"plot_width\":800,\"renderers\":[{\"id\":\"1044\"},{\"id\":\"1059\"},{\"id\":\"1075\"},{\"id\":\"1093\"},{\"id\":\"1113\"},{\"id\":\"1135\"}],\"title\":{\"id\":\"1003\"},\"toolbar\":{\"id\":\"1028\"},\"x_range\":{\"id\":\"1005\"},\"x_scale\":{\"id\":\"1009\"},\"y_range\":{\"id\":\"1007\"},\"y_scale\":{\"id\":\"1011\"}},\"id\":\"1002\",\"subtype\":\"Figure\",\"type\":\"Plot\"},{\"attributes\":{},\"id\":\"1051\",\"type\":\"Selection\"},{\"attributes\":{},\"id\":\"1052\",\"type\":\"UnionRenderers\"},{\"attributes\":{\"callback\":null,\"tooltips\":[[\"modello\",\"@modello\"],[\"parametri\",\"@params\"]]},\"id\":\"1021\",\"type\":\"HoverTool\"},{\"attributes\":{\"axis\":{\"id\":\"1017\"},\"dimension\":1,\"ticker\":null},\"id\":\"1020\",\"type\":\"Grid\"},{\"attributes\":{\"fill_alpha\":{\"value\":0.7},\"fill_color\":{\"value\":\"#cc2c11\"},\"line_alpha\":{\"value\":0.7},\"line_color\":{\"value\":\"#cc2c11\"},\"top\":{\"field\":\"top\"},\"width\":{\"value\":0.5},\"x\":{\"field\":\"x\"}},\"id\":\"1057\",\"type\":\"VBar\"},{\"attributes\":{\"overlay\":{\"id\":\"1027\"}},\"id\":\"1022\",\"type\":\"BoxZoomTool\"},{\"attributes\":{\"fill_alpha\":{\"value\":0.1},\"fill_color\":{\"value\":\"#cc2c11\"},\"line_alpha\":{\"value\":0.1},\"line_color\":{\"value\":\"#cc2c11\"},\"top\":{\"field\":\"top\"},\"width\":{\"value\":0.5},\"x\":{\"field\":\"x\"}},\"id\":\"1058\",\"type\":\"VBar\"},{\"attributes\":{\"source\":{\"id\":\"1036\"}},\"id\":\"1060\",\"type\":\"CDSView\"},{\"attributes\":{},\"id\":\"1024\",\"type\":\"SaveTool\"},{\"attributes\":{},\"id\":\"1025\",\"type\":\"ResetTool\"},{\"attributes\":{\"data\":{\"modello\":[\"SVR()\"],\"params\":[\"ngram_range : (1,2), C : 50, gamma : 'scale', kernel : 'linear'\"],\"top\":[[0.82100663]],\"x\":[1]},\"selected\":{\"id\":\"1051\"},\"selection_policy\":{\"id\":\"1052\"}},\"id\":\"1035\",\"type\":\"ColumnDataSource\"},{\"attributes\":{\"fill_alpha\":{\"value\":0.1},\"fill_color\":{\"value\":\"#a81c03\"},\"line_alpha\":{\"value\":0.1},\"line_color\":{\"value\":\"#a81c03\"},\"top\":{\"field\":\"top\"},\"width\":{\"value\":0.5},\"x\":{\"field\":\"x\"}},\"id\":\"1074\",\"type\":\"VBar\"},{\"attributes\":{\"label\":{\"value\":\"SGDRegressor\"},\"renderers\":[{\"id\":\"1059\"}]},\"id\":\"1071\",\"type\":\"LegendItem\"},{\"attributes\":{\"data\":{\"modello\":[\"DecisionTreeRegressor()\"],\"params\":[\"analyzer : 'stemming_analyzer', max_depth : 100, max_features : 5000, min_samples_leaf : 500, min_samples_split : 1000, splitter :'random'\"],\"top\":[[1.283854]],\"x\":[4]},\"selected\":{\"id\":\"1106\"},\"selection_policy\":{\"id\":\"1107\"}},\"id\":\"1038\",\"type\":\"ColumnDataSource\"},{\"attributes\":{},\"id\":\"1023\",\"type\":\"PanTool\"},{\"attributes\":{\"data_source\":{\"id\":\"1036\"},\"glyph\":{\"id\":\"1057\"},\"hover_glyph\":null,\"muted_glyph\":null,\"nonselection_glyph\":{\"id\":\"1058\"},\"selection_glyph\":null,\"view\":{\"id\":\"1060\"}},\"id\":\"1059\",\"type\":\"GlyphRenderer\"},{\"attributes\":{\"data\":{\"modello\":[\"SGDRegressor()\"],\"params\":[\"analyzer : 'default', alpha : 0.00001, penalty : l2\"],\"top\":[[0.94528131]],\"x\":[3]},\"selected\":{\"id\":\"1086\"},\"selection_policy\":{\"id\":\"1087\"}},\"id\":\"1037\",\"type\":\"ColumnDataSource\"},{\"attributes\":{},\"id\":\"1026\",\"type\":\"WheelZoomTool\"},{\"attributes\":{\"data\":{\"modello\":[\"DecisionTreeRegressor()\"],\"params\":[\"ngram_range : (1, 2), max_depth : 70, max_features : 7000, min_samples_leaf : 400, min_samples_split : 1000, splitter :'random'\"],\"top\":[[1.46501656]],\"x\":[5]},\"selected\":{\"id\":\"1128\"},\"selection_policy\":{\"id\":\"1129\"}},\"id\":\"1039\",\"type\":\"ColumnDataSource\"},{\"attributes\":{\"data\":{\"modello\":[\"LinearRegression()\"],\"params\":[\"analyzer : 'stemming_re'\"],\"top\":[[1.466439]],\"x\":[6]},\"selected\":{\"id\":\"1152\"},\"selection_policy\":{\"id\":\"1153\"}},\"id\":\"1040\",\"type\":\"ColumnDataSource\"},{\"attributes\":{},\"id\":\"1068\",\"type\":\"Selection\"},{\"attributes\":{},\"id\":\"1069\",\"type\":\"UnionRenderers\"},{\"attributes\":{\"fill_alpha\":{\"value\":0.7},\"fill_color\":{\"value\":\"#ab128f\"},\"line_alpha\":{\"value\":0.7},\"line_color\":{\"value\":\"#ab128f\"},\"top\":{\"field\":\"top\"},\"width\":{\"value\":0.5},\"x\":{\"field\":\"x\"}},\"id\":\"1042\",\"type\":\"VBar\"},{\"attributes\":{\"fill_alpha\":{\"value\":0.7},\"fill_color\":{\"value\":\"#a81c03\"},\"line_alpha\":{\"value\":0.7},\"line_color\":{\"value\":\"#a81c03\"},\"top\":{\"field\":\"top\"},\"width\":{\"value\":0.5},\"x\":{\"field\":\"x\"}},\"id\":\"1073\",\"type\":\"VBar\"},{\"attributes\":{\"fill_alpha\":{\"value\":0.1},\"fill_color\":{\"value\":\"#ab128f\"},\"line_alpha\":{\"value\":0.1},\"line_color\":{\"value\":\"#ab128f\"},\"top\":{\"field\":\"top\"},\"width\":{\"value\":0.5},\"x\":{\"field\":\"x\"}},\"id\":\"1043\",\"type\":\"VBar\"},{\"attributes\":{\"source\":{\"id\":\"1037\"}},\"id\":\"1076\",\"type\":\"CDSView\"},{\"attributes\":{\"label\":{\"value\":\"SVR (1, 2)\"},\"renderers\":[{\"id\":\"1044\"}]},\"id\":\"1055\",\"type\":\"LegendItem\"},{\"attributes\":{},\"id\":\"1129\",\"type\":\"UnionRenderers\"},{\"attributes\":{\"source\":{\"id\":\"1035\"}},\"id\":\"1045\",\"type\":\"CDSView\"},{\"attributes\":{\"items\":[{\"id\":\"1055\"},{\"id\":\"1071\"},{\"id\":\"1089\"},{\"id\":\"1109\"},{\"id\":\"1131\"},{\"id\":\"1155\"}],\"location\":\"top_left\"},\"id\":\"1054\",\"type\":\"Legend\"},{\"attributes\":{\"fill_alpha\":{\"value\":0.7},\"fill_color\":{\"value\":\"#12ab39\"},\"line_alpha\":{\"value\":0.7},\"line_color\":{\"value\":\"#12ab39\"},\"top\":{\"field\":\"top\"},\"width\":{\"value\":0.5},\"x\":{\"field\":\"x\"}},\"id\":\"1091\",\"type\":\"VBar\"},{\"attributes\":{\"label\":{\"value\":\"SGDRegressor (1, 2)\"},\"renderers\":[{\"id\":\"1075\"}]},\"id\":\"1089\",\"type\":\"LegendItem\"},{\"attributes\":{\"data_source\":{\"id\":\"1037\"},\"glyph\":{\"id\":\"1073\"},\"hover_glyph\":null,\"muted_glyph\":null,\"nonselection_glyph\":{\"id\":\"1074\"},\"selection_glyph\":null,\"view\":{\"id\":\"1076\"}},\"id\":\"1075\",\"type\":\"GlyphRenderer\"},{\"attributes\":{\"data_source\":{\"id\":\"1035\"},\"glyph\":{\"id\":\"1042\"},\"hover_glyph\":null,\"muted_glyph\":null,\"nonselection_glyph\":{\"id\":\"1043\"},\"selection_glyph\":null,\"view\":{\"id\":\"1045\"}},\"id\":\"1044\",\"type\":\"GlyphRenderer\"},{\"attributes\":{},\"id\":\"1048\",\"type\":\"BasicTickFormatter\"},{\"attributes\":{},\"id\":\"1050\",\"type\":\"BasicTickFormatter\"},{\"attributes\":{},\"id\":\"1086\",\"type\":\"Selection\"},{\"attributes\":{},\"id\":\"1087\",\"type\":\"UnionRenderers\"},{\"attributes\":{\"source\":{\"id\":\"1038\"}},\"id\":\"1094\",\"type\":\"CDSView\"},{\"attributes\":{\"level\":\"underlay\",\"size\":10},\"id\":\"1160\",\"type\":\"TeeHead\"},{\"attributes\":{\"fill_alpha\":{\"value\":0.1},\"fill_color\":{\"value\":\"#12ab39\"},\"line_alpha\":{\"value\":0.1},\"line_color\":{\"value\":\"#12ab39\"},\"top\":{\"field\":\"top\"},\"width\":{\"value\":0.5},\"x\":{\"field\":\"x\"}},\"id\":\"1092\",\"type\":\"VBar\"},{\"attributes\":{\"level\":\"underlay\",\"size\":10},\"id\":\"1161\",\"type\":\"TeeHead\"},{\"attributes\":{\"fill_alpha\":{\"value\":0.1},\"fill_color\":{\"value\":\"#0d852c\"},\"line_alpha\":{\"value\":0.1},\"line_color\":{\"value\":\"#0d852c\"},\"top\":{\"field\":\"top\"},\"width\":{\"value\":0.5},\"x\":{\"field\":\"x\"}},\"id\":\"1112\",\"type\":\"VBar\"},{\"attributes\":{},\"id\":\"1011\",\"type\":\"LinearScale\"},{\"attributes\":{\"label\":{\"value\":\"DecisionTreeRegressor\"},\"renderers\":[{\"id\":\"1093\"}]},\"id\":\"1109\",\"type\":\"LegendItem\"},{\"attributes\":{\"data_source\":{\"id\":\"1038\"},\"glyph\":{\"id\":\"1091\"},\"hover_glyph\":null,\"muted_glyph\":null,\"nonselection_glyph\":{\"id\":\"1092\"},\"selection_glyph\":null,\"view\":{\"id\":\"1094\"}},\"id\":\"1093\",\"type\":\"GlyphRenderer\"},{\"attributes\":{},\"id\":\"1018\",\"type\":\"BasicTicker\"},{\"attributes\":{},\"id\":\"1166\",\"type\":\"Selection\"},{\"attributes\":{},\"id\":\"1167\",\"type\":\"UnionRenderers\"},{\"attributes\":{\"end\":1.966439,\"start\":-0.17899337000000004},\"id\":\"1007\",\"type\":\"Range1d\"},{\"attributes\":{},\"id\":\"1106\",\"type\":\"Selection\"},{\"attributes\":{},\"id\":\"1107\",\"type\":\"UnionRenderers\"},{\"attributes\":{},\"id\":\"1009\",\"type\":\"LinearScale\"},{\"attributes\":{},\"id\":\"1005\",\"type\":\"DataRange1d\"},{\"attributes\":{\"fill_alpha\":{\"value\":0.7},\"fill_color\":{\"value\":\"#0d852c\"},\"line_alpha\":{\"value\":0.7},\"line_color\":{\"value\":\"#0d852c\"},\"top\":{\"field\":\"top\"},\"width\":{\"value\":0.5},\"x\":{\"field\":\"x\"}},\"id\":\"1111\",\"type\":\"VBar\"},{\"attributes\":{\"source\":{\"id\":\"1039\"}},\"id\":\"1114\",\"type\":\"CDSView\"},{\"attributes\":{\"fill_alpha\":{\"value\":0.7},\"fill_color\":{\"value\":\"#145b9c\"},\"line_alpha\":{\"value\":0.7},\"line_color\":{\"value\":\"#145b9c\"},\"top\":{\"field\":\"top\"},\"width\":{\"value\":0.5},\"x\":{\"field\":\"x\"}},\"id\":\"1133\",\"type\":\"VBar\"},{\"attributes\":{\"fill_alpha\":{\"value\":0.1},\"fill_color\":{\"value\":\"#145b9c\"},\"line_alpha\":{\"value\":0.1},\"line_color\":{\"value\":\"#145b9c\"},\"top\":{\"field\":\"top\"},\"width\":{\"value\":0.5},\"x\":{\"field\":\"x\"}},\"id\":\"1134\",\"type\":\"VBar\"},{\"attributes\":{\"label\":{\"value\":\"DecisionTreeRegressor (1, 2)\"},\"renderers\":[{\"id\":\"1113\"}]},\"id\":\"1131\",\"type\":\"LegendItem\"},{\"attributes\":{\"data_source\":{\"id\":\"1039\"},\"glyph\":{\"id\":\"1111\"},\"hover_glyph\":null,\"muted_glyph\":null,\"nonselection_glyph\":{\"id\":\"1112\"},\"selection_glyph\":null,\"view\":{\"id\":\"1114\"}},\"id\":\"1113\",\"type\":\"GlyphRenderer\"},{\"attributes\":{\"source\":{\"id\":\"1040\"}},\"id\":\"1136\",\"type\":\"CDSView\"},{\"attributes\":{\"axis_label\":\"Modelli\",\"formatter\":{\"id\":\"1048\"},\"major_label_orientation\":0.5,\"major_label_overrides\":{\"1\":\"SVR\",\"2\":\"SGD Linear\",\"3\":\"SGD Linear\",\"4\":\"Decision Tree\",\"5\":\"Decision Tree\",\"6\":\"Linear\"},\"ticker\":{\"id\":\"1014\"}},\"id\":\"1013\",\"type\":\"LinearAxis\"},{\"attributes\":{\"data\":{\"modello\":[\"SGDRegressor()\"],\"params\":[\"ngram_range : (1, 2), alpha : 0.00001, penalty : l2\"],\"top\":[[0.829567]],\"x\":[2]},\"selected\":{\"id\":\"1068\"},\"selection_policy\":{\"id\":\"1069\"}},\"id\":\"1036\",\"type\":\"ColumnDataSource\"},{\"attributes\":{\"text\":\"Performance modelli\"},\"id\":\"1003\",\"type\":\"Title\"},{\"attributes\":{},\"id\":\"1128\",\"type\":\"Selection\"},{\"attributes\":{\"active_drag\":\"auto\",\"active_inspect\":\"auto\",\"active_multi\":null,\"active_scroll\":\"auto\",\"active_tap\":\"auto\",\"tools\":[{\"id\":\"1021\"},{\"id\":\"1022\"},{\"id\":\"1023\"},{\"id\":\"1024\"},{\"id\":\"1025\"},{\"id\":\"1026\"}]},\"id\":\"1028\",\"type\":\"Toolbar\"},{\"attributes\":{\"label\":{\"value\":\"LinearRegression\"},\"renderers\":[{\"id\":\"1135\"}]},\"id\":\"1155\",\"type\":\"LegendItem\"},{\"attributes\":{\"data_source\":{\"id\":\"1040\"},\"glyph\":{\"id\":\"1133\"},\"hover_glyph\":null,\"muted_glyph\":null,\"nonselection_glyph\":{\"id\":\"1134\"},\"selection_glyph\":null,\"view\":{\"id\":\"1136\"}},\"id\":\"1135\",\"type\":\"GlyphRenderer\"},{\"attributes\":{},\"id\":\"1014\",\"type\":\"BasicTicker\"},{\"attributes\":{\"data\":{\"base\":[1,2,3,4,5,6],\"lower\":{\"__ndarray__\":\"jxWpkGEb6j9YkjzX92HqPyG36EPPFu4/p7BSQUUV9D9QgIqvVBv3P7IRiNf1C/c/\",\"dtype\":\"float64\",\"order\":\"little\",\"shape\":[6]},\"upper\":{\"__ndarray__\":\"e3bA0/1v6j/aPXlYqLXqP/ldFeqtaO4/qyaIug8A9T9cDB+5Fcb3PwR1yqMb4fc/\",\"dtype\":\"float64\",\"order\":\"little\",\"shape\":[6]}},\"selected\":{\"id\":\"1166\"},\"selection_policy\":{\"id\":\"1167\"}},\"id\":\"1156\",\"type\":\"ColumnDataSource\"},{\"attributes\":{\"axis\":{\"id\":\"1013\"},\"ticker\":null},\"id\":\"1016\",\"type\":\"Grid\"},{\"attributes\":{\"axis_label\":\"Performance\",\"formatter\":{\"id\":\"1050\"},\"ticker\":{\"id\":\"1018\"}},\"id\":\"1017\",\"type\":\"LinearAxis\"},{\"attributes\":{},\"id\":\"1152\",\"type\":\"Selection\"},{\"attributes\":{},\"id\":\"1153\",\"type\":\"UnionRenderers\"},{\"attributes\":{\"bottom_units\":\"screen\",\"fill_alpha\":0.5,\"fill_color\":\"lightgrey\",\"left_units\":\"screen\",\"level\":\"overlay\",\"line_alpha\":1.0,\"line_color\":\"black\",\"line_dash\":[4,4],\"line_width\":2,\"right_units\":\"screen\",\"top_units\":\"screen\"},\"id\":\"1027\",\"type\":\"BoxAnnotation\"},{\"attributes\":{\"base\":{\"field\":\"base\",\"units\":\"data\"},\"lower\":{\"field\":\"lower\",\"units\":\"data\"},\"lower_head\":{\"id\":\"1161\"},\"source\":{\"id\":\"1156\"},\"upper\":{\"field\":\"upper\",\"units\":\"data\"},\"upper_head\":{\"id\":\"1160\"}},\"id\":\"1157\",\"type\":\"Whisker\"}],\"root_ids\":[\"1002\"]},\"title\":\"Bokeh Application\",\"version\":\"2.1.1\"}};\n",
       "  var render_items = [{\"docid\":\"f7748596-9db1-4292-9273-294f2078404d\",\"root_ids\":[\"1002\"],\"roots\":{\"1002\":\"8edb0f1e-3708-414d-8be8-6991380ddf11\"}}];\n",
       "  root.Bokeh.embed.embed_items_notebook(docs_json, render_items);\n",
       "\n",
       "  }\n",
       "  if (root.Bokeh !== undefined) {\n",
       "    embed_document(root);\n",
       "  } else {\n",
       "    var attempts = 0;\n",
       "    var timer = setInterval(function(root) {\n",
       "      if (root.Bokeh !== undefined) {\n",
       "        clearInterval(timer);\n",
       "        embed_document(root);\n",
       "      } else {\n",
       "        attempts++;\n",
       "        if (attempts > 100) {\n",
       "          clearInterval(timer);\n",
       "          console.log(\"Bokeh: ERROR: Unable to run BokehJS code because BokehJS library is missing\");\n",
       "        }\n",
       "      }\n",
       "    }, 10, root)\n",
       "  }\n",
       "})(window);"
      ],
      "application/vnd.bokehjs_exec.v0+json": ""
     },
     "metadata": {
      "application/vnd.bokehjs_exec.v0+json": {
       "id": "1002"
      }
     },
     "output_type": "display_data"
    }
   ],
   "source": [
    "show(models_performance_fig)"
   ]
  },
  {
   "cell_type": "markdown",
   "metadata": {},
   "source": [
    "<h3>Valutazione modello sull'insieme di test</h3>\n",
    "<p>Ora che abbiamo un'idea dell'errore commesso dai modelli sull'insieme di training e necessario valutarne la capacità di generalizzare a nuove istanze non incontrate durante la fase di addestramento.<br>"
   ]
  },
  {
   "cell_type": "code",
   "execution_count": 356,
   "metadata": {},
   "outputs": [],
   "source": [
    "X_test_transformed = svr_pipeline.steps[0][1].transform(X_test)\n",
    "validation_preds = svr_pipeline.steps[1][1].predict(X_test_transformed)\n",
    "validation_mse = mean_squared_error(Y_test, validation_preds)"
   ]
  },
  {
   "cell_type": "code",
   "execution_count": 362,
   "metadata": {},
   "outputs": [],
   "source": [
    "validation_rmse = np.sqrt(validation_mse)"
   ]
  },
  {
   "cell_type": "code",
   "execution_count": 363,
   "metadata": {},
   "outputs": [
    {
     "data": {
      "text/plain": [
       "0.09676326798812296"
      ]
     },
     "execution_count": 363,
     "metadata": {},
     "output_type": "execute_result"
    }
   ],
   "source": [
    "validation_rmse"
   ]
  },
  {
   "cell_type": "code",
   "execution_count": 364,
   "metadata": {},
   "outputs": [
    {
     "data": {
      "text/plain": [
       "Pipeline(steps=[('tfidf', TfidfVectorizer(ngram_range=(1, 2))),\n",
       "                ('model', SGDRegressor(alpha=1e-05))])"
      ]
     },
     "execution_count": 364,
     "metadata": {},
     "output_type": "execute_result"
    }
   ],
   "source": [
    "sgd_pipeline = Pipeline([\n",
    "    ('tfidf', TfidfVectorizer(ngram_range=(1,2), norm='l2', smooth_idf=True)),\n",
    "    ('model', SGDRegressor(alpha=0.00001, penalty='l2'))\n",
    "])\n",
    "sgd_pipeline.fit(X_train, Y_train)"
   ]
  },
  {
   "cell_type": "code",
   "execution_count": 365,
   "metadata": {},
   "outputs": [],
   "source": [
    "X_test_transformed_2 = sgd_pipeline.steps[0][1].transform(X_test)\n",
    "validation_preds_2 = sgd_pipeline.steps[1][1].predict(X_test_transformed_2)\n",
    "validation_mse_2 = mean_squared_error(Y_test, validation_preds_2)"
   ]
  },
  {
   "cell_type": "code",
   "execution_count": 366,
   "metadata": {},
   "outputs": [],
   "source": [
    "validation_rmse_2 = np.sqrt(validation_mse_2)"
   ]
  },
  {
   "cell_type": "code",
   "execution_count": 367,
   "metadata": {},
   "outputs": [
    {
     "data": {
      "text/plain": [
       "0.9165432767470858"
      ]
     },
     "execution_count": 367,
     "metadata": {},
     "output_type": "execute_result"
    }
   ],
   "source": [
    "validation_rmse_2"
   ]
  },
  {
   "cell_type": "code",
   "execution_count": 368,
   "metadata": {},
   "outputs": [
    {
     "data": {
      "text/plain": [
       "Pipeline(steps=[('cv',\n",
       "                 CountVectorizer(analyzer=<function simple_stemmer at 0x1248b2e50>)),\n",
       "                ('tfidf', TfidfTransformer(smooth_idf=False)),\n",
       "                ('model',\n",
       "                 DecisionTreeRegressor(max_depth=100, max_features=5000,\n",
       "                                       min_samples_leaf=500,\n",
       "                                       min_samples_split=1000, random_state=99,\n",
       "                                       splitter='random'))])"
      ]
     },
     "execution_count": 368,
     "metadata": {},
     "output_type": "execute_result"
    }
   ],
   "source": [
    "dtr_pipeline = Pipeline([\n",
    "    ('cv', CountVectorizer(analyzer=simple_stemmer)),\n",
    "    ('tfidf', TfidfTransformer(norm='l2', smooth_idf=False)),\n",
    "    ('model', DecisionTreeRegressor(splitter='random', max_depth=100, min_samples_leaf=500, min_samples_split=1000, max_features=5000, random_state=SEED))\n",
    "])\n",
    "dtr_pipeline.fit(X_train, Y_train)"
   ]
  },
  {
   "cell_type": "code",
   "execution_count": 369,
   "metadata": {},
   "outputs": [],
   "source": [
    "X_test_transformed_3 = dtr_pipeline.steps[0][1].transform(X_test)\n",
    "X_test_transformed_3 = dtr_pipeline.steps[1][1].transform(X_test_transformed_3)\n",
    "validation_preds_3 = dtr_pipeline.steps[2][1].predict(X_test_transformed_3)\n",
    "validation_mse_3 = mean_squared_error(Y_test, validation_preds_3)"
   ]
  },
  {
   "cell_type": "code",
   "execution_count": 371,
   "metadata": {},
   "outputs": [],
   "source": [
    "validation_rmse_3 = np.sqrt(validation_mse_3)"
   ]
  },
  {
   "cell_type": "code",
   "execution_count": 372,
   "metadata": {},
   "outputs": [
    {
     "data": {
      "text/plain": [
       "1.3237163105181857"
      ]
     },
     "execution_count": 372,
     "metadata": {},
     "output_type": "execute_result"
    }
   ],
   "source": [
    "validation_rmse_3"
   ]
  }
 ],
 "metadata": {
  "kernelspec": {
   "display_name": "costanza_env",
   "language": "python",
   "name": "costanza_env"
  }
 },
 "nbformat": 4,
 "nbformat_minor": 4
}
