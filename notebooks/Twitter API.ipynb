{
 "cells": [
  {
   "cell_type": "markdown",
   "metadata": {},
   "source": [
    "<h3>Twitter API &amp; Tweepy</h3>\n",
    "<p>Prima di poter iniziare ad utilizzare le API è necessario creare una applicazione associata all'accounta per sviluppatori di twitter.<br>\n",
    "La creazione di un app può essere effettuata al seguente <a href=\"https://developer.twitter.com/en/apps\">url</a>.\n",
    "<p>Dopo aver creato l'applicazione è necessario generare un <b>Access Token</b> ed un <b>Access Token Secret</b>. E' inoltre necessario tenere nota della <b>API Key</b> e della <b>API Secret Key</b>.<br>\n",
    "Nel mio caso i dati sono : <br>\n",
    "<table>\n",
    "    <tr>\n",
    "        <th>Name</th>\n",
    "        <th>Value</th>\n",
    "    </tr>\n",
    "    <tr>\n",
    "        <td>API key</td>\n",
    "        <td>XjEcjaRjminAol236APwFbDBL</td>\n",
    "    </tr>\n",
    "    <tr>\n",
    "        <td>API secret key</td>\n",
    "        <td>yHab5rIP810bZHeOD5stqREQMq4zSB6TPms3ezQMC1mJhlvryp</td>\n",
    "    </tr>\n",
    "    <tr>\n",
    "        <td>Access Token</td>\n",
    "        <td>1281151075723161601-qxLwXj6IoUrYjTwVp7bDK2tTTNooUR</td>\n",
    "    </tr>\n",
    "    <tr>\n",
    "        <td>Access Token Secret</td>\n",
    "        <td>t1kPqetMXMFrz6QRj2mzN1M2LZ5fzddlV5zVYxH3amYxN</td>\n",
    "    </tr>\n",
    "</table>\n",
    "<p>La <b>API Key</b> e la <b>API Secret Key</b> sono le credenziali dell'applicazione necessarie per poter effettuare richieste alle API.<br>\n",
    "<b>Access Token</b> e <b>Access Token Secret</b> sono invece valori necessari all'autenticazione degli utenti. Nel nostro caso l'utente coincide con lo sviluppatore ed è possibile generare automaticamente i valori delle chiavi. Per farlo è necessario andare nella sezione <b>Keys and Tokens</b> della pagina dell'applicazione.\n",
    "<p>Queste informazioni sono sensibili e vanno protette al meglio per evitare che altri utenti possano effettuare richieste a nostro carico od ottenere accesso al nostro account.\n",
    "<p>La documentazione relativa alla libreria Tweepy è disponibile al seguente <a href=\"http://docs.tweepy.org/en/latest/getting_started.html\">link</a>."
   ]
  },
  {
   "cell_type": "markdown",
   "metadata": {},
   "source": [
    "<h5>Esempio</h5>\n",
    "<p>Vediamo come ottenere i tweet più recenti associati all'account di Donald (Duck) Trump.\n",
    "<p>Come prima cosa importiamo la libreria <code>tweepy</code> ed eventualmente altre librerie necessarie all'esecuzione del programma"
   ]
  },
  {
   "cell_type": "code",
   "execution_count": 1,
   "metadata": {},
   "outputs": [
    {
     "ename": "ModuleNotFoundError",
     "evalue": "No module named 'tweepy'",
     "output_type": "error",
     "traceback": [
      "\u001b[0;31m---------------------------------------------------------------------------\u001b[0m",
      "\u001b[0;31mModuleNotFoundError\u001b[0m                       Traceback (most recent call last)",
      "\u001b[0;32m<ipython-input-1-2006d72f6b16>\u001b[0m in \u001b[0;36m<module>\u001b[0;34m\u001b[0m\n\u001b[1;32m      1\u001b[0m \u001b[0;32mimport\u001b[0m \u001b[0mcsv\u001b[0m\u001b[0;34m\u001b[0m\u001b[0;34m\u001b[0m\u001b[0m\n\u001b[0;32m----> 2\u001b[0;31m \u001b[0;32mimport\u001b[0m \u001b[0mtweepy\u001b[0m \u001b[0;32mas\u001b[0m \u001b[0mtw\u001b[0m\u001b[0;34m\u001b[0m\u001b[0;34m\u001b[0m\u001b[0m\n\u001b[0m\u001b[1;32m      3\u001b[0m \u001b[0;32mimport\u001b[0m \u001b[0mpandas\u001b[0m \u001b[0;32mas\u001b[0m \u001b[0mpd\u001b[0m\u001b[0;34m\u001b[0m\u001b[0;34m\u001b[0m\u001b[0m\n",
      "\u001b[0;31mModuleNotFoundError\u001b[0m: No module named 'tweepy'"
     ]
    }
   ],
   "source": [
    "import csv\n",
    "import tweepy as tw\n",
    "import pandas as pd"
   ]
  },
  {
   "cell_type": "markdown",
   "metadata": {},
   "source": [
    "<p>Per aumentare la riusabilità del codice definiamo le funzionalità che ci interessano all'interno di una o più funzioni. In questo caso ho definito due funzioni : <code>process_status(tweet)</code> e <code>get_user_tweets(user, count, file_path)</code>.\n",
    "<p>La funzione <code>process_status(tweet)</code> è una funzione di supporto per il parsing dei dati ritornati dalle API di twitter. Quest'ultimi contengono infatti svariate informazioni irrilevanti al caso di studio, se interessata è possibile visualizzare il contenuto della risposta semplicemente stampando a schermo il parametro <code>tweet</code> all'interno della funzione (basta che togli il commento e riesegui il codice!)."
   ]
  },
  {
   "cell_type": "code",
   "execution_count": null,
   "metadata": {},
   "outputs": [],
   "source": [
    "def process_status(tweet):\n",
    "    \"\"\"\n",
    "        Process a given tweet extrapolating the tweet's text, id, date and the user \n",
    "        that posted it.\n",
    "        \n",
    "        Params : \n",
    "        --------\n",
    "            tweet : tweepy.Status -> the tweet to process.\n",
    "            \n",
    "        Return :\n",
    "        --------\n",
    "            date_create, user, tweet_id, text : str, tuple, str, str -> a tuple consisting of\n",
    "            a string representing the date the tweet was posted, a tuple representing the\n",
    "            user with his/her name, id, and screen name, a string representing the tweet \n",
    "            unique id and the tweet's text.\n",
    "    \"\"\"\n",
    "    if hasattr(tweet, 'retweeted_status'):\n",
    "        try:\n",
    "            text = tweet.retweeted_status._json['full_text']\n",
    "        except:\n",
    "            text = tweet.retweeted_status._json['text']\n",
    "    else:\n",
    "        try:\n",
    "            text = tweet._json['full_text']\n",
    "        except AttributeError:\n",
    "            text = tweet.text\n",
    "            \n",
    "    date_created = tweet.created_at\n",
    "    user = (tweet.user.name, tweet.user.id, tweet.user.screen_name)\n",
    "    tweet_id = tweet.id\n",
    "    \n",
    "    return date_created, user, tweet_id, text"
   ]
  },
  {
   "cell_type": "markdown",
   "metadata": {},
   "source": [
    "<p>La seconda funzione è invece quella responsabile di effettuare la chiamata vera e propria. Essa accetta tre parametri : user, count e file_path. <code>user</code> è una stringa che rappresenta lo <code>'screen_name'</code> dell'utente ( nel caso di Trump è \"potus\"), <code>count</code> è un intero e viene utilizzato per limitare il numero di tweet da ritornare; <code>file_path</code> è invece una stringa che rappresenta il path del file in cui salvare i risultati.\n",
    "<p>Le prime quattro righe sono semplici dichiarazioni di variabili contenenti le chiavi menzionate all'inizio del notebook. Le ho salvate come variabili per comodità ma attenta che è un pessimo approcio. Queste informazioni vanno infatti protette e lasciarle in chiaro nel codice sorgente è una brutta pratica!\n",
    "<p>Successivamente viene effettuata l'autenticazione dell'applicazione e dell'utente per cui l'applicazione effettua le richieste. Questo processo è svolto definendo un'istanza della classe <code>OAuthHandler(key, secret)</code> dove <code>key</code> e <code>secret</code> rappresentano rispettivamente la API Key e la API Secret Key. Successivamente vengono inserite le credenziali utente tramite il metodo <code>set_access_token(token, secret)</code> della classe <code>OAuthHandler</code>.\n",
    "<p>Viene poi definito un nuovo oggetto della classe <code>API</code> passando al costruttore l'oggetto di autenticazione definito precedentemente. Questo oggetto contiene dei wrapper per effettuare le chiamate http agli end-point delle API di Twitter rendendo più semplice e veloce lo sviluppo. Uno dei wrapper esposti dalla classe <code>API</code> è <code>user_timeline()</code> che permette, specificato il nome o l'id di un utente di ottenere una lista dei suoi tweets. \n",
    "<p>Questo wrapper viene utilizzato all'interno della classe <code>Cursor</code> che semplicemente facilita l'iterazione sui tweets come si può notare dalla presenza del ciclo <code>for</code>.<br>\n",
    "All'interno del ciclo la variabile <code>status</code> rappresenta i dati grezzi come ritornati dalle API, questa variabile viene poi passata alla funzione di supporto precedentemente definita per estrapolare i dati d'interesse. I valori ritornati dalla funzione di supporto sono spacchettati e successivamente scritti su file. Per quanto riguarda la gestione dei file in Python ti rimando alla <a href=\"https://docs.python.org/3/tutorial/inputoutput.html\">documentazione</a>."
   ]
  },
  {
   "cell_type": "code",
   "execution_count": null,
   "metadata": {},
   "outputs": [],
   "source": [
    "def get_user_tweets(user, count, file_path):\n",
    "    consumer_key = \"XjEcjaRjminAol236APwFbDBL\"\n",
    "    consumer_secret = \"yHab5rIP810bZHeOD5stqREQMq4zSB6TPms3ezQMC1mJhlvryp\"\n",
    "    access_token = \"1281151075723161601-qxLwXj6IoUrYjTwVp7bDK2tTTNooUR\"\n",
    "    access_token_secret = \"t1kPqetMXMFrz6QRj2mzN1M2LZ5fzddlV5zVYxH3amYxN\"\n",
    "\n",
    "    auth = tw.OAuthHandler(consumer_key, consumer_secret)\n",
    "    auth.set_access_token(access_token, access_token_secret)\n",
    "\n",
    "    api = tw.API(auth)\n",
    "    \n",
    "    f = open(file_path, \"w\")\n",
    "    csv_writer = csv.writer(f)\n",
    "    \n",
    "    for status in tw.Cursor(api.user_timeline, id=user, tweet_mode='extended').items(count):\n",
    "        date, user, _id, text = process_status(status)\n",
    "        csv_writer.writerow([date, _id, text, user[1], user[2]])\n",
    "        \n",
    "    f.close()"
   ]
  },
  {
   "cell_type": "code",
   "execution_count": null,
   "metadata": {},
   "outputs": [],
   "source": [
    "get_user_tweets(\"potus\", 5, \"./ciao.csv\")"
   ]
  },
  {
   "cell_type": "code",
   "execution_count": null,
   "metadata": {},
   "outputs": [],
   "source": [
    "df = pd.read_csv(\n",
    "    \"ciao.csv\",\n",
    "    sep=\",\",\n",
    "    header=0,\n",
    "    names=['date', 'tweet_id', 'tweet', 'user_screen_name', 'user_id'],\n",
    "    index_col=['date'],\n",
    "    parse_dates=['date']\n",
    ")\n",
    "df.head()"
   ]
  },
  {
   "cell_type": "code",
   "execution_count": null,
   "metadata": {},
   "outputs": [],
   "source": [
    "def get_tweets_by_query(query, count, file_path):\n",
    "    consumer_key = \"XjEcjaRjminAol236APwFbDBL\"\n",
    "    consumer_secret = \"yHab5rIP810bZHeOD5stqREQMq4zSB6TPms3ezQMC1mJhlvryp\"\n",
    "    access_token = \"1281151075723161601-qxLwXj6IoUrYjTwVp7bDK2tTTNooUR\"\n",
    "    access_token_secret = \"t1kPqetMXMFrz6QRj2mzN1M2LZ5fzddlV5zVYxH3amYxN\"\n",
    "\n",
    "    auth = tw.OAuthHandler(consumer_key, consumer_secret)\n",
    "    auth.set_access_token(access_token, access_token_secret)\n",
    "\n",
    "    api = tw.API(auth)\n",
    "    \n",
    "    f = open(file_path, \"w\")\n",
    "    csv_writer = csv.writer(f)\n",
    "    \n",
    "    for status in tw.Cursor(api.search, q=query, tweet_mode='extended').items(count):\n",
    "        print(status)\n",
    "        \n",
    "        \n",
    "get_tweets_by_query(\"@potus\", 5, \"test.csv\")"
   ]
  }
 ],
 "metadata": {
  "kernelspec": {
   "display_name": "Python 3",
   "language": "python",
   "name": "python3"
  },
  "language_info": {
   "codemirror_mode": {
    "name": "ipython",
    "version": 3
   },
   "file_extension": ".py",
   "mimetype": "text/x-python",
   "name": "python",
   "nbconvert_exporter": "python",
   "pygments_lexer": "ipython3",
   "version": "3.8.3"
  }
 },
 "nbformat": 4,
 "nbformat_minor": 2
}
