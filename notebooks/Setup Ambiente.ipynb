{
 "cells": [
  {
   "cell_type": "markdown",
   "metadata": {},
   "source": [
    "<h3>Setup ambiente di lavoro</h3>"
   ]
  },
  {
   "cell_type": "markdown",
   "metadata": {},
   "source": [
    "<h5>1 - Clonazione repository</h5>\n",
    "<p>Come primissima cosa è necessario clonare la repository contenente il materiale. Per farlo sfruttiamo il comando <code>git clone</code>. Questo comando crea una nuova cartella contenente le informazioni relative al versionamento del progetto e i file che lo compongono. Se i comandi vengono eseguiti dal notebook è importante notare che la cartella della repository verrà creata nello stesso path del notebook, assicurati dunque che il notebook sia nella cartella in cui vuoi mantenere la repository prima di eseguire il resto del codice!\n",
    "<p>E' inoltre necessario creare un account <a href=\"https://github.com/\">Github</a>, il servizio di hosting delle repository in remoto, prima di poter clonare la repository. E' inoltre necessario, visto che la repository è privata, che tu venga da me inserita come collaboratrice; per farlo la cosa più comoda è sentirsi per telefono o farlo assieme la prossima volta che ci vediamo.\n",
    "<p>Se sei interessata all'argomento ti includo alcune letture :<br>\n",
    "<ul>\n",
    "    <li><a href=\"https://github.com/\">GitHub website</a></li>\n",
    "    <li><a href=\"https://guides.github.com/activities/hello-world/\">git Hello World</a></li>\n",
    "    <li><a href=\"https://rogerdudler.github.io/git-guide/\">git-guide</a></li>\n",
    "</ul>"
   ]
  },
  {
   "cell_type": "code",
   "execution_count": null,
   "metadata": {},
   "outputs": [],
   "source": [
    "#!git clone https://github.com/filippoboscoUniTn/CostanzaLezioni.git"
   ]
  },
  {
   "cell_type": "markdown",
   "metadata": {},
   "source": [
    "<h5>2 - Creazione ambiente virtuale</h5>\n",
    "<p>Per non intaccare l'ambiente globale della macchina su cui lavori, per garantire la compatibilità tra librerie e dipendenze e per facilitare la condivisione di un progetto è un'ottima idea quella di creare un ambiente virtuale.<br>\n",
    "Puoi pensare ad un ambiente virtuale come una cartella contenente una specifica collezione di packages. Questi packages possono essere eseguibili (e.g. una particolare versione di Python), librerie e dipendenze (librerie da cui dipendono librerie che utilizzi).\n",
    "<p>Esistono svariati tools per la creazione e gestione degli ambienti virtuali, noi utilizzeremo quello presente nel gestore di packages Conda.\n",
    "<p>Per maggiori dettagli : <br>\n",
    "<ul>\n",
    "    <li><a href=\"https://docs.conda.io/projects/conda/en/latest/index.html\">Conda website</a></li>\n",
    "    <li><a href=\"https://docs.conda.io/projects/conda/en/latest/user-guide/concepts/environments.html\">Ambienti Conda</a></li>\n",
    "    <li><a href=\"https://docs.conda.io/projects/conda/en/latest/user-guide/tasks/manage-environments.html\">Gestione Ambienti Conda</a></li>\n",
    "    <li><a href=\"https://docs.conda.io/projects/conda/en/4.6.0/_downloads/52a95608c49671267e40c689e0bc00ca/conda-cheatsheet.pdf\">Conda cheat sheet</a></li>\n",
    "</ul>"
   ]
  },
  {
   "cell_type": "code",
   "execution_count": null,
   "metadata": {},
   "outputs": [],
   "source": [
    "#Come prima cosa entriamo nella directory della repository\n",
    "#!cd ./CostanzaLezioni \n",
    "#Creiamo ora un ambiente, all'interno della cartella env, leggendo le dipendenze dal file\n",
    "#environment.yml\n",
    "#!conda env create -p ./env -f ./environment.yml"
   ]
  },
  {
   "cell_type": "markdown",
   "metadata": {},
   "source": [
    "<h5>3 - Creazione Kernel Jupyter</h5>\n",
    "<p>Affinchè sia possibile sfruttare le potenzialità di un ambiente virtuale nei notebooks Jupyter è necessario creare un kernel. Un kernel è un programma responsabile dell'esecuzione dei comandi immessi nel notebook.\n",
    "<p>Prima di poter creare il kernel è necessario attivare l'ambiente virtuale creato al punto precedente. L'attivazione di un ambiente virtuale conda avviene tramite il comando :<br>\n",
    "<code>conda activate ./env</code><br>\n",
    "sempre assunto che la current working directory sia quella in cui è presente la cartella dell'ambiente (nel tuo caso la respository)."
   ]
  },
  {
   "cell_type": "code",
   "execution_count": null,
   "metadata": {},
   "outputs": [],
   "source": [
    "#!conda activate ./env\n",
    "#!python -m ipykernel install --user --name=costanza_env"
   ]
  },
  {
   "cell_type": "markdown",
   "metadata": {},
   "source": [
    "<p>Per deattivare un ambiente è invece sufficiente utilizzare il comando :<br>\n",
    "<code>conda deactivate</code><br>\n",
    "questo comando, a differenza di quello per l'attivazione, può essere eseguito indipendentemente dalla tua posizione corrente nel file system."
   ]
  }
 ],
 "metadata": {
  "kernelspec": {
   "display_name": "costanza_env",
   "language": "python",
   "name": "costanza_env"
  },
  "language_info": {
   "codemirror_mode": {
    "name": "ipython",
    "version": 3
   },
   "file_extension": ".py",
   "mimetype": "text/x-python",
   "name": "python",
   "nbconvert_exporter": "python",
   "pygments_lexer": "ipython3",
   "version": "3.8.3"
  }
 },
 "nbformat": 4,
 "nbformat_minor": 2
}
