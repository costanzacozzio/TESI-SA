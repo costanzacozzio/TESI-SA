{
 "cells": [
  {
   "cell_type": "markdown",
   "metadata": {},
   "source": [
    "<p>In questo notebook utilizzeremo un dataset di recensioni della piattaforma Yelp per esplorare alcune tecniche di preprocessing di testi per ottenere dati congrui all'applicazione di alcune tecniche di ML. Vedremo inoltre come è possibile visualizzare alcune caratteristiche dei dati e come sia possibile ridurre la dimensionalità del dataset tramite sampling qualora risulti difficile lavorare sull'intero dataset.\n",
    "<p>Come prima cosa vediamo quindi di caricare i dati; quest'ultimi sono stati forniti da Yelp in formato <code>json</code> ma sono stati rielaborati ed esportati in formato <code>csv</code> per rendere più efficiente il loro caricamento tramite la libreria <code>pandas</code>.<br>\n",
    "Il notebook assume che i dati siano contenuti in un file, <code>reviews.csv</code>, posto nella directory <code>./data/csv</code> relativamente alla root del progetto. In caso i dati siano presenti in un altra locazione sulla macchina o in un file con un diverso nome è necessario modificare le variabili <code>DATA_FOLDER</code> e <code>file_name</code>."
   ]
  },
  {
   "cell_type": "code",
   "execution_count": 1,
   "metadata": {},
   "outputs": [
    {
     "data": {
      "text/html": [
       "\n",
       "    <div class=\"bk-root\">\n",
       "        <a href=\"https://bokeh.org\" target=\"_blank\" class=\"bk-logo bk-logo-small bk-logo-notebook\"></a>\n",
       "        <span id=\"1001\">Loading BokehJS ...</span>\n",
       "    </div>"
      ]
     },
     "metadata": {},
     "output_type": "display_data"
    },
    {
     "data": {
      "application/javascript": [
       "\n",
       "(function(root) {\n",
       "  function now() {\n",
       "    return new Date();\n",
       "  }\n",
       "\n",
       "  var force = true;\n",
       "\n",
       "  if (typeof root._bokeh_onload_callbacks === \"undefined\" || force === true) {\n",
       "    root._bokeh_onload_callbacks = [];\n",
       "    root._bokeh_is_loading = undefined;\n",
       "  }\n",
       "\n",
       "  var JS_MIME_TYPE = 'application/javascript';\n",
       "  var HTML_MIME_TYPE = 'text/html';\n",
       "  var EXEC_MIME_TYPE = 'application/vnd.bokehjs_exec.v0+json';\n",
       "  var CLASS_NAME = 'output_bokeh rendered_html';\n",
       "\n",
       "  /**\n",
       "   * Render data to the DOM node\n",
       "   */\n",
       "  function render(props, node) {\n",
       "    var script = document.createElement(\"script\");\n",
       "    node.appendChild(script);\n",
       "  }\n",
       "\n",
       "  /**\n",
       "   * Handle when an output is cleared or removed\n",
       "   */\n",
       "  function handleClearOutput(event, handle) {\n",
       "    var cell = handle.cell;\n",
       "\n",
       "    var id = cell.output_area._bokeh_element_id;\n",
       "    var server_id = cell.output_area._bokeh_server_id;\n",
       "    // Clean up Bokeh references\n",
       "    if (id != null && id in Bokeh.index) {\n",
       "      Bokeh.index[id].model.document.clear();\n",
       "      delete Bokeh.index[id];\n",
       "    }\n",
       "\n",
       "    if (server_id !== undefined) {\n",
       "      // Clean up Bokeh references\n",
       "      var cmd = \"from bokeh.io.state import curstate; print(curstate().uuid_to_server['\" + server_id + \"'].get_sessions()[0].document.roots[0]._id)\";\n",
       "      cell.notebook.kernel.execute(cmd, {\n",
       "        iopub: {\n",
       "          output: function(msg) {\n",
       "            var id = msg.content.text.trim();\n",
       "            if (id in Bokeh.index) {\n",
       "              Bokeh.index[id].model.document.clear();\n",
       "              delete Bokeh.index[id];\n",
       "            }\n",
       "          }\n",
       "        }\n",
       "      });\n",
       "      // Destroy server and session\n",
       "      var cmd = \"import bokeh.io.notebook as ion; ion.destroy_server('\" + server_id + \"')\";\n",
       "      cell.notebook.kernel.execute(cmd);\n",
       "    }\n",
       "  }\n",
       "\n",
       "  /**\n",
       "   * Handle when a new output is added\n",
       "   */\n",
       "  function handleAddOutput(event, handle) {\n",
       "    var output_area = handle.output_area;\n",
       "    var output = handle.output;\n",
       "\n",
       "    // limit handleAddOutput to display_data with EXEC_MIME_TYPE content only\n",
       "    if ((output.output_type != \"display_data\") || (!output.data.hasOwnProperty(EXEC_MIME_TYPE))) {\n",
       "      return\n",
       "    }\n",
       "\n",
       "    var toinsert = output_area.element.find(\".\" + CLASS_NAME.split(' ')[0]);\n",
       "\n",
       "    if (output.metadata[EXEC_MIME_TYPE][\"id\"] !== undefined) {\n",
       "      toinsert[toinsert.length - 1].firstChild.textContent = output.data[JS_MIME_TYPE];\n",
       "      // store reference to embed id on output_area\n",
       "      output_area._bokeh_element_id = output.metadata[EXEC_MIME_TYPE][\"id\"];\n",
       "    }\n",
       "    if (output.metadata[EXEC_MIME_TYPE][\"server_id\"] !== undefined) {\n",
       "      var bk_div = document.createElement(\"div\");\n",
       "      bk_div.innerHTML = output.data[HTML_MIME_TYPE];\n",
       "      var script_attrs = bk_div.children[0].attributes;\n",
       "      for (var i = 0; i < script_attrs.length; i++) {\n",
       "        toinsert[toinsert.length - 1].firstChild.setAttribute(script_attrs[i].name, script_attrs[i].value);\n",
       "        toinsert[toinsert.length - 1].firstChild.textContent = bk_div.children[0].textContent\n",
       "      }\n",
       "      // store reference to server id on output_area\n",
       "      output_area._bokeh_server_id = output.metadata[EXEC_MIME_TYPE][\"server_id\"];\n",
       "    }\n",
       "  }\n",
       "\n",
       "  function register_renderer(events, OutputArea) {\n",
       "\n",
       "    function append_mime(data, metadata, element) {\n",
       "      // create a DOM node to render to\n",
       "      var toinsert = this.create_output_subarea(\n",
       "        metadata,\n",
       "        CLASS_NAME,\n",
       "        EXEC_MIME_TYPE\n",
       "      );\n",
       "      this.keyboard_manager.register_events(toinsert);\n",
       "      // Render to node\n",
       "      var props = {data: data, metadata: metadata[EXEC_MIME_TYPE]};\n",
       "      render(props, toinsert[toinsert.length - 1]);\n",
       "      element.append(toinsert);\n",
       "      return toinsert\n",
       "    }\n",
       "\n",
       "    /* Handle when an output is cleared or removed */\n",
       "    events.on('clear_output.CodeCell', handleClearOutput);\n",
       "    events.on('delete.Cell', handleClearOutput);\n",
       "\n",
       "    /* Handle when a new output is added */\n",
       "    events.on('output_added.OutputArea', handleAddOutput);\n",
       "\n",
       "    /**\n",
       "     * Register the mime type and append_mime function with output_area\n",
       "     */\n",
       "    OutputArea.prototype.register_mime_type(EXEC_MIME_TYPE, append_mime, {\n",
       "      /* Is output safe? */\n",
       "      safe: true,\n",
       "      /* Index of renderer in `output_area.display_order` */\n",
       "      index: 0\n",
       "    });\n",
       "  }\n",
       "\n",
       "  // register the mime type if in Jupyter Notebook environment and previously unregistered\n",
       "  if (root.Jupyter !== undefined) {\n",
       "    var events = require('base/js/events');\n",
       "    var OutputArea = require('notebook/js/outputarea').OutputArea;\n",
       "\n",
       "    if (OutputArea.prototype.mime_types().indexOf(EXEC_MIME_TYPE) == -1) {\n",
       "      register_renderer(events, OutputArea);\n",
       "    }\n",
       "  }\n",
       "\n",
       "  \n",
       "  if (typeof (root._bokeh_timeout) === \"undefined\" || force === true) {\n",
       "    root._bokeh_timeout = Date.now() + 5000;\n",
       "    root._bokeh_failed_load = false;\n",
       "  }\n",
       "\n",
       "  var NB_LOAD_WARNING = {'data': {'text/html':\n",
       "     \"<div style='background-color: #fdd'>\\n\"+\n",
       "     \"<p>\\n\"+\n",
       "     \"BokehJS does not appear to have successfully loaded. If loading BokehJS from CDN, this \\n\"+\n",
       "     \"may be due to a slow or bad network connection. Possible fixes:\\n\"+\n",
       "     \"</p>\\n\"+\n",
       "     \"<ul>\\n\"+\n",
       "     \"<li>re-rerun `output_notebook()` to attempt to load from CDN again, or</li>\\n\"+\n",
       "     \"<li>use INLINE resources instead, as so:</li>\\n\"+\n",
       "     \"</ul>\\n\"+\n",
       "     \"<code>\\n\"+\n",
       "     \"from bokeh.resources import INLINE\\n\"+\n",
       "     \"output_notebook(resources=INLINE)\\n\"+\n",
       "     \"</code>\\n\"+\n",
       "     \"</div>\"}};\n",
       "\n",
       "  function display_loaded() {\n",
       "    var el = document.getElementById(\"1001\");\n",
       "    if (el != null) {\n",
       "      el.textContent = \"BokehJS is loading...\";\n",
       "    }\n",
       "    if (root.Bokeh !== undefined) {\n",
       "      if (el != null) {\n",
       "        el.textContent = \"BokehJS \" + root.Bokeh.version + \" successfully loaded.\";\n",
       "      }\n",
       "    } else if (Date.now() < root._bokeh_timeout) {\n",
       "      setTimeout(display_loaded, 100)\n",
       "    }\n",
       "  }\n",
       "\n",
       "\n",
       "  function run_callbacks() {\n",
       "    try {\n",
       "      root._bokeh_onload_callbacks.forEach(function(callback) {\n",
       "        if (callback != null)\n",
       "          callback();\n",
       "      });\n",
       "    } finally {\n",
       "      delete root._bokeh_onload_callbacks\n",
       "    }\n",
       "    console.debug(\"Bokeh: all callbacks have finished\");\n",
       "  }\n",
       "\n",
       "  function load_libs(css_urls, js_urls, callback) {\n",
       "    if (css_urls == null) css_urls = [];\n",
       "    if (js_urls == null) js_urls = [];\n",
       "\n",
       "    root._bokeh_onload_callbacks.push(callback);\n",
       "    if (root._bokeh_is_loading > 0) {\n",
       "      console.debug(\"Bokeh: BokehJS is being loaded, scheduling callback at\", now());\n",
       "      return null;\n",
       "    }\n",
       "    if (js_urls == null || js_urls.length === 0) {\n",
       "      run_callbacks();\n",
       "      return null;\n",
       "    }\n",
       "    console.debug(\"Bokeh: BokehJS not loaded, scheduling load and callback at\", now());\n",
       "    root._bokeh_is_loading = css_urls.length + js_urls.length;\n",
       "\n",
       "    function on_load() {\n",
       "      root._bokeh_is_loading--;\n",
       "      if (root._bokeh_is_loading === 0) {\n",
       "        console.debug(\"Bokeh: all BokehJS libraries/stylesheets loaded\");\n",
       "        run_callbacks()\n",
       "      }\n",
       "    }\n",
       "\n",
       "    function on_error() {\n",
       "      console.error(\"failed to load \" + url);\n",
       "    }\n",
       "\n",
       "    for (var i = 0; i < css_urls.length; i++) {\n",
       "      var url = css_urls[i];\n",
       "      const element = document.createElement(\"link\");\n",
       "      element.onload = on_load;\n",
       "      element.onerror = on_error;\n",
       "      element.rel = \"stylesheet\";\n",
       "      element.type = \"text/css\";\n",
       "      element.href = url;\n",
       "      console.debug(\"Bokeh: injecting link tag for BokehJS stylesheet: \", url);\n",
       "      document.body.appendChild(element);\n",
       "    }\n",
       "\n",
       "    const hashes = {\"https://cdn.bokeh.org/bokeh/release/bokeh-2.1.1.min.js\": \"kLr4fYcqcSpbuI95brIH3vnnYCquzzSxHPU6XGQCIkQRGJwhg0StNbj1eegrHs12\", \"https://cdn.bokeh.org/bokeh/release/bokeh-widgets-2.1.1.min.js\": \"xIGPmVtaOm+z0BqfSOMn4lOR6ciex448GIKG4eE61LsAvmGj48XcMQZtKcE/UXZe\", \"https://cdn.bokeh.org/bokeh/release/bokeh-tables-2.1.1.min.js\": \"Dc9u1wF/0zApGIWoBbH77iWEHtdmkuYWG839Uzmv8y8yBLXebjO9ZnERsde5Ln/P\", \"https://cdn.bokeh.org/bokeh/release/bokeh-gl-2.1.1.min.js\": \"cT9JaBz7GiRXdENrJLZNSC6eMNF3nh3fa5fTF51Svp+ukxPdwcU5kGXGPBgDCa2j\"};\n",
       "\n",
       "    for (var i = 0; i < js_urls.length; i++) {\n",
       "      var url = js_urls[i];\n",
       "      var element = document.createElement('script');\n",
       "      element.onload = on_load;\n",
       "      element.onerror = on_error;\n",
       "      element.async = false;\n",
       "      element.src = url;\n",
       "      if (url in hashes) {\n",
       "        element.crossOrigin = \"anonymous\";\n",
       "        element.integrity = \"sha384-\" + hashes[url];\n",
       "      }\n",
       "      console.debug(\"Bokeh: injecting script tag for BokehJS library: \", url);\n",
       "      document.head.appendChild(element);\n",
       "    }\n",
       "  };\n",
       "\n",
       "  function inject_raw_css(css) {\n",
       "    const element = document.createElement(\"style\");\n",
       "    element.appendChild(document.createTextNode(css));\n",
       "    document.body.appendChild(element);\n",
       "  }\n",
       "\n",
       "  \n",
       "  var js_urls = [\"https://cdn.bokeh.org/bokeh/release/bokeh-2.1.1.min.js\", \"https://cdn.bokeh.org/bokeh/release/bokeh-widgets-2.1.1.min.js\", \"https://cdn.bokeh.org/bokeh/release/bokeh-tables-2.1.1.min.js\", \"https://cdn.bokeh.org/bokeh/release/bokeh-gl-2.1.1.min.js\"];\n",
       "  var css_urls = [];\n",
       "  \n",
       "\n",
       "  var inline_js = [\n",
       "    function(Bokeh) {\n",
       "      Bokeh.set_log_level(\"info\");\n",
       "    },\n",
       "    function(Bokeh) {\n",
       "    \n",
       "    \n",
       "    }\n",
       "  ];\n",
       "\n",
       "  function run_inline_js() {\n",
       "    \n",
       "    if (root.Bokeh !== undefined || force === true) {\n",
       "      \n",
       "    for (var i = 0; i < inline_js.length; i++) {\n",
       "      inline_js[i].call(root, root.Bokeh);\n",
       "    }\n",
       "    if (force === true) {\n",
       "        display_loaded();\n",
       "      }} else if (Date.now() < root._bokeh_timeout) {\n",
       "      setTimeout(run_inline_js, 100);\n",
       "    } else if (!root._bokeh_failed_load) {\n",
       "      console.log(\"Bokeh: BokehJS failed to load within specified timeout.\");\n",
       "      root._bokeh_failed_load = true;\n",
       "    } else if (force !== true) {\n",
       "      var cell = $(document.getElementById(\"1001\")).parents('.cell').data().cell;\n",
       "      cell.output_area.append_execute_result(NB_LOAD_WARNING)\n",
       "    }\n",
       "\n",
       "  }\n",
       "\n",
       "  if (root._bokeh_is_loading === 0) {\n",
       "    console.debug(\"Bokeh: BokehJS loaded, going straight to plotting\");\n",
       "    run_inline_js();\n",
       "  } else {\n",
       "    load_libs(css_urls, js_urls, function() {\n",
       "      console.debug(\"Bokeh: BokehJS plotting callback run at\", now());\n",
       "      run_inline_js();\n",
       "    });\n",
       "  }\n",
       "}(window));"
      ],
      "application/vnd.bokehjs_load.v0+json": "\n(function(root) {\n  function now() {\n    return new Date();\n  }\n\n  var force = true;\n\n  if (typeof root._bokeh_onload_callbacks === \"undefined\" || force === true) {\n    root._bokeh_onload_callbacks = [];\n    root._bokeh_is_loading = undefined;\n  }\n\n  \n\n  \n  if (typeof (root._bokeh_timeout) === \"undefined\" || force === true) {\n    root._bokeh_timeout = Date.now() + 5000;\n    root._bokeh_failed_load = false;\n  }\n\n  var NB_LOAD_WARNING = {'data': {'text/html':\n     \"<div style='background-color: #fdd'>\\n\"+\n     \"<p>\\n\"+\n     \"BokehJS does not appear to have successfully loaded. If loading BokehJS from CDN, this \\n\"+\n     \"may be due to a slow or bad network connection. Possible fixes:\\n\"+\n     \"</p>\\n\"+\n     \"<ul>\\n\"+\n     \"<li>re-rerun `output_notebook()` to attempt to load from CDN again, or</li>\\n\"+\n     \"<li>use INLINE resources instead, as so:</li>\\n\"+\n     \"</ul>\\n\"+\n     \"<code>\\n\"+\n     \"from bokeh.resources import INLINE\\n\"+\n     \"output_notebook(resources=INLINE)\\n\"+\n     \"</code>\\n\"+\n     \"</div>\"}};\n\n  function display_loaded() {\n    var el = document.getElementById(\"1001\");\n    if (el != null) {\n      el.textContent = \"BokehJS is loading...\";\n    }\n    if (root.Bokeh !== undefined) {\n      if (el != null) {\n        el.textContent = \"BokehJS \" + root.Bokeh.version + \" successfully loaded.\";\n      }\n    } else if (Date.now() < root._bokeh_timeout) {\n      setTimeout(display_loaded, 100)\n    }\n  }\n\n\n  function run_callbacks() {\n    try {\n      root._bokeh_onload_callbacks.forEach(function(callback) {\n        if (callback != null)\n          callback();\n      });\n    } finally {\n      delete root._bokeh_onload_callbacks\n    }\n    console.debug(\"Bokeh: all callbacks have finished\");\n  }\n\n  function load_libs(css_urls, js_urls, callback) {\n    if (css_urls == null) css_urls = [];\n    if (js_urls == null) js_urls = [];\n\n    root._bokeh_onload_callbacks.push(callback);\n    if (root._bokeh_is_loading > 0) {\n      console.debug(\"Bokeh: BokehJS is being loaded, scheduling callback at\", now());\n      return null;\n    }\n    if (js_urls == null || js_urls.length === 0) {\n      run_callbacks();\n      return null;\n    }\n    console.debug(\"Bokeh: BokehJS not loaded, scheduling load and callback at\", now());\n    root._bokeh_is_loading = css_urls.length + js_urls.length;\n\n    function on_load() {\n      root._bokeh_is_loading--;\n      if (root._bokeh_is_loading === 0) {\n        console.debug(\"Bokeh: all BokehJS libraries/stylesheets loaded\");\n        run_callbacks()\n      }\n    }\n\n    function on_error() {\n      console.error(\"failed to load \" + url);\n    }\n\n    for (var i = 0; i < css_urls.length; i++) {\n      var url = css_urls[i];\n      const element = document.createElement(\"link\");\n      element.onload = on_load;\n      element.onerror = on_error;\n      element.rel = \"stylesheet\";\n      element.type = \"text/css\";\n      element.href = url;\n      console.debug(\"Bokeh: injecting link tag for BokehJS stylesheet: \", url);\n      document.body.appendChild(element);\n    }\n\n    const hashes = {\"https://cdn.bokeh.org/bokeh/release/bokeh-2.1.1.min.js\": \"kLr4fYcqcSpbuI95brIH3vnnYCquzzSxHPU6XGQCIkQRGJwhg0StNbj1eegrHs12\", \"https://cdn.bokeh.org/bokeh/release/bokeh-widgets-2.1.1.min.js\": \"xIGPmVtaOm+z0BqfSOMn4lOR6ciex448GIKG4eE61LsAvmGj48XcMQZtKcE/UXZe\", \"https://cdn.bokeh.org/bokeh/release/bokeh-tables-2.1.1.min.js\": \"Dc9u1wF/0zApGIWoBbH77iWEHtdmkuYWG839Uzmv8y8yBLXebjO9ZnERsde5Ln/P\", \"https://cdn.bokeh.org/bokeh/release/bokeh-gl-2.1.1.min.js\": \"cT9JaBz7GiRXdENrJLZNSC6eMNF3nh3fa5fTF51Svp+ukxPdwcU5kGXGPBgDCa2j\"};\n\n    for (var i = 0; i < js_urls.length; i++) {\n      var url = js_urls[i];\n      var element = document.createElement('script');\n      element.onload = on_load;\n      element.onerror = on_error;\n      element.async = false;\n      element.src = url;\n      if (url in hashes) {\n        element.crossOrigin = \"anonymous\";\n        element.integrity = \"sha384-\" + hashes[url];\n      }\n      console.debug(\"Bokeh: injecting script tag for BokehJS library: \", url);\n      document.head.appendChild(element);\n    }\n  };\n\n  function inject_raw_css(css) {\n    const element = document.createElement(\"style\");\n    element.appendChild(document.createTextNode(css));\n    document.body.appendChild(element);\n  }\n\n  \n  var js_urls = [\"https://cdn.bokeh.org/bokeh/release/bokeh-2.1.1.min.js\", \"https://cdn.bokeh.org/bokeh/release/bokeh-widgets-2.1.1.min.js\", \"https://cdn.bokeh.org/bokeh/release/bokeh-tables-2.1.1.min.js\", \"https://cdn.bokeh.org/bokeh/release/bokeh-gl-2.1.1.min.js\"];\n  var css_urls = [];\n  \n\n  var inline_js = [\n    function(Bokeh) {\n      Bokeh.set_log_level(\"info\");\n    },\n    function(Bokeh) {\n    \n    \n    }\n  ];\n\n  function run_inline_js() {\n    \n    if (root.Bokeh !== undefined || force === true) {\n      \n    for (var i = 0; i < inline_js.length; i++) {\n      inline_js[i].call(root, root.Bokeh);\n    }\n    if (force === true) {\n        display_loaded();\n      }} else if (Date.now() < root._bokeh_timeout) {\n      setTimeout(run_inline_js, 100);\n    } else if (!root._bokeh_failed_load) {\n      console.log(\"Bokeh: BokehJS failed to load within specified timeout.\");\n      root._bokeh_failed_load = true;\n    } else if (force !== true) {\n      var cell = $(document.getElementById(\"1001\")).parents('.cell').data().cell;\n      cell.output_area.append_execute_result(NB_LOAD_WARNING)\n    }\n\n  }\n\n  if (root._bokeh_is_loading === 0) {\n    console.debug(\"Bokeh: BokehJS loaded, going straight to plotting\");\n    run_inline_js();\n  } else {\n    load_libs(css_urls, js_urls, function() {\n      console.debug(\"Bokeh: BokehJS plotting callback run at\", now());\n      run_inline_js();\n    });\n  }\n}(window));"
     },
     "metadata": {},
     "output_type": "display_data"
    }
   ],
   "source": [
    "import os\n",
    "import re\n",
    "\n",
    "import sys\n",
    "sys.path.append(\"..\")\n",
    "\n",
    "import time\n",
    "import pickle\n",
    "import graphviz\n",
    "import numpy as np\n",
    "import pandas as pd\n",
    "\n",
    "from sklearn.pipeline import Pipeline\n",
    "from sklearn.metrics import mean_squared_error\n",
    "from sklearn.model_selection import train_test_split, GridSearchCV\n",
    "from sklearn.feature_extraction.text import CountVectorizer, TfidfTransformer\n",
    "\n",
    "from sklearn.tree import DecisionTreeRegressor\n",
    "from sklearn.linear_model import SGDRegressor, LinearRegression\n",
    "\n",
    "from scripts.clean_results import clean_results_df, dump_results\n",
    "from scripts.plotting_functions import export_tree_graph, render_tree_graph\n",
    "from scripts.plotting_functions import plot_feature_importance, plot_coefficients_significance\n",
    "\n",
    "from scripts.analyzers import simple_stemmer, regexp_stemmer\n",
    "\n",
    "from bokeh.plotting import output_notebook, show\n",
    "output_notebook()\n",
    "\n",
    "SEED = 99\n",
    "np.random.seed(SEED)\n",
    "\n",
    "DATA_FOLDER = os.path.join(os.getcwd(), \"../data\")\n",
    "RESULTS_FOLDER = os.path.join(DATA_FOLDER, \"results\")\n",
    "CV_RESULTS_FOLDER = os.path.join(RESULTS_FOLDER, \"csv\")"
   ]
  },
  {
   "cell_type": "code",
   "execution_count": 2,
   "metadata": {},
   "outputs": [],
   "source": [
    "DATA_FOLDER = os.path.join(os.getcwd(), \"../data/csv\")\n",
    "file_name = \"reviews.csv\"\n",
    "\n",
    "reviews_fp = os.path.join(DATA_FOLDER, file_name)"
   ]
  },
  {
   "cell_type": "markdown",
   "metadata": {},
   "source": [
    "<p>Jupyter permette l'eseguzione di comandi come da shell ponendo un punto escalamativo, <code>!</code>, prima del codice da interpretare come comando. In questo caso utilizzo il comando <code>head</code> per ottenere visualizzare l'output di un file, il parametro <code>-n</code> serve a specificare il numero di righe da stampare in output, nel nostro caso una. Notare come la prima riga del file non contenga dati, bensì i nomi delle colonne. Questa informazione è necessaria qualora si cerchi di creare un <code>DataFrame</code> Pandas leggendo direttamente un file csv. Infatti, qualora tale riga non sia presente, è necessario passare esplicitamente il parametro <code>names</code> contenente una lista di nomi all'invocazione della funzione. Tale lista sarà successivamente utilizzata da Pandas per assegnare dei nomi alle colonne. Nel nostro caso, essendo la riga presente, non è necessario fare nulla, Pandas è in grado di inferire i nomi corretti automaticamente.<br>"
   ]
  },
  {
   "cell_type": "code",
   "execution_count": 3,
   "metadata": {},
   "outputs": [
    {
     "name": "stdout",
     "output_type": "stream",
     "text": [
      "review_id,business_id,user_id,stars,text,date\r\n"
     ]
    }
   ],
   "source": [
    "!head -n 1 ../data/csv/reviews.csv"
   ]
  },
  {
   "cell_type": "markdown",
   "metadata": {},
   "source": [
    "<p>Procediamo dunque alla creazione di un <code>DataFrame</code> leggendo i dati da file csv. Questa operazione è realizzata dalla funzione Pandas <code>read_csv</code> il cui primo parametro è un qualsiasi oggetto di tipo File oppure una stringa che rappresenta il path del file da leggere. Un altro parametro di particolare interesse per i nostri scopi è <code>index_col</code> che permette di specificare tra le altre cose il nome di una colonna da utilizzare come indice. Noi utilizzeremo l'id delle recensioni come colonna indice."
   ]
  },
  {
   "cell_type": "code",
   "execution_count": 4,
   "metadata": {},
   "outputs": [],
   "source": [
    "df = pd.read_csv(\n",
    "    reviews_fp,\n",
    "    index_col='review_id'\n",
    ")"
   ]
  },
  {
   "cell_type": "markdown",
   "metadata": {},
   "source": [
    "<p>Per visualizzare il contenuto di un <code>DataFrame</code> possiamo utilizzare il metodo <code>head(n=5)</code>. Questo metodo accetta un unico parametro, <code>n</code>, che permette di specificare il numero di righe da ritornare. Nel caso il parametro assuma valori negativi, e.g. <code>n=-5</code>, vengono ritornate tutte le righe meno le ultime cinque. Nel caso si voglia invece ottenere le ultime righe è presente il metodo <code>tail(n=5)</code>.\n",
    "<p>Notare come il parametro <code>n</code> abbia un valore di default pari a cinque. Questo significa che la funzione, nonostante richieda un parametro, può essere invocata senza. In questo caso il valore del parametro sarà quello di default. Ogniqualvolta un parametro di una funzione o di un metodo sia seguito dal simbolo <code>=</code> e un valore sappiamo che tale valore è il valore di default del parametro."
   ]
  },
  {
   "cell_type": "code",
   "execution_count": 5,
   "metadata": {},
   "outputs": [
    {
     "data": {
      "text/html": [
       "<div>\n",
       "<style scoped>\n",
       "    .dataframe tbody tr th:only-of-type {\n",
       "        vertical-align: middle;\n",
       "    }\n",
       "\n",
       "    .dataframe tbody tr th {\n",
       "        vertical-align: top;\n",
       "    }\n",
       "\n",
       "    .dataframe thead th {\n",
       "        text-align: right;\n",
       "    }\n",
       "</style>\n",
       "<table border=\"1\" class=\"dataframe\">\n",
       "  <thead>\n",
       "    <tr style=\"text-align: right;\">\n",
       "      <th></th>\n",
       "      <th>business_id</th>\n",
       "      <th>user_id</th>\n",
       "      <th>stars</th>\n",
       "      <th>text</th>\n",
       "      <th>date</th>\n",
       "    </tr>\n",
       "    <tr>\n",
       "      <th>review_id</th>\n",
       "      <th></th>\n",
       "      <th></th>\n",
       "      <th></th>\n",
       "      <th></th>\n",
       "      <th></th>\n",
       "    </tr>\n",
       "  </thead>\n",
       "  <tbody>\n",
       "    <tr>\n",
       "      <th>i6g_oA9Yf9Y31qt0wibXpw</th>\n",
       "      <td>5JxlZaqCnk1MnbgRirs40Q</td>\n",
       "      <td>ofKDkJKXSKZXu5xJNGiiBQ</td>\n",
       "      <td>1</td>\n",
       "      <td>Dismal, lukewarm, defrosted-tasting \"TexMex\" g...</td>\n",
       "      <td>2011-05-27 05:30:52</td>\n",
       "    </tr>\n",
       "    <tr>\n",
       "      <th>xQY8N_XvtGbearJ5X4QryQ</th>\n",
       "      <td>-MhfebM0QIsKt87iDN-FNw</td>\n",
       "      <td>OwjRMXRC0KyPrIlcjaXeFQ</td>\n",
       "      <td>2</td>\n",
       "      <td>As someone who has worked with many museums, I...</td>\n",
       "      <td>2015-04-15 05:21:16</td>\n",
       "    </tr>\n",
       "    <tr>\n",
       "      <th>6TdNDKywdbjoTkizeMce8A</th>\n",
       "      <td>IS4cv902ykd8wj1TR0N3-A</td>\n",
       "      <td>UgMW8bLE0QMJDCkQ1Ax5Mg</td>\n",
       "      <td>4</td>\n",
       "      <td>Oh happy day, finally have a Canes near my cas...</td>\n",
       "      <td>2017-01-14 21:56:57</td>\n",
       "    </tr>\n",
       "    <tr>\n",
       "      <th>L2O_INwlrRuoX05KSjc4eg</th>\n",
       "      <td>nlxHRv1zXGT0c0K51q3jDg</td>\n",
       "      <td>5vD2kmE25YBrbayKhykNxQ</td>\n",
       "      <td>5</td>\n",
       "      <td>This is definitely my favorite fast food sub s...</td>\n",
       "      <td>2013-05-07 07:25:25</td>\n",
       "    </tr>\n",
       "    <tr>\n",
       "      <th>ZayJ1zWyWgY9S_TRLT_y9Q</th>\n",
       "      <td>Pthe4qk5xh4n-ef-9bvMSg</td>\n",
       "      <td>aq_ZxGHiri48TUXJlpRkCQ</td>\n",
       "      <td>5</td>\n",
       "      <td>Really good place with simple decor, amazing f...</td>\n",
       "      <td>2015-11-05 23:11:05</td>\n",
       "    </tr>\n",
       "  </tbody>\n",
       "</table>\n",
       "</div>"
      ],
      "text/plain": [
       "                                   business_id                 user_id  stars  \\\n",
       "review_id                                                                       \n",
       "i6g_oA9Yf9Y31qt0wibXpw  5JxlZaqCnk1MnbgRirs40Q  ofKDkJKXSKZXu5xJNGiiBQ      1   \n",
       "xQY8N_XvtGbearJ5X4QryQ  -MhfebM0QIsKt87iDN-FNw  OwjRMXRC0KyPrIlcjaXeFQ      2   \n",
       "6TdNDKywdbjoTkizeMce8A  IS4cv902ykd8wj1TR0N3-A  UgMW8bLE0QMJDCkQ1Ax5Mg      4   \n",
       "L2O_INwlrRuoX05KSjc4eg  nlxHRv1zXGT0c0K51q3jDg  5vD2kmE25YBrbayKhykNxQ      5   \n",
       "ZayJ1zWyWgY9S_TRLT_y9Q  Pthe4qk5xh4n-ef-9bvMSg  aq_ZxGHiri48TUXJlpRkCQ      5   \n",
       "\n",
       "                                                                     text  \\\n",
       "review_id                                                                   \n",
       "i6g_oA9Yf9Y31qt0wibXpw  Dismal, lukewarm, defrosted-tasting \"TexMex\" g...   \n",
       "xQY8N_XvtGbearJ5X4QryQ  As someone who has worked with many museums, I...   \n",
       "6TdNDKywdbjoTkizeMce8A  Oh happy day, finally have a Canes near my cas...   \n",
       "L2O_INwlrRuoX05KSjc4eg  This is definitely my favorite fast food sub s...   \n",
       "ZayJ1zWyWgY9S_TRLT_y9Q  Really good place with simple decor, amazing f...   \n",
       "\n",
       "                                       date  \n",
       "review_id                                    \n",
       "i6g_oA9Yf9Y31qt0wibXpw  2011-05-27 05:30:52  \n",
       "xQY8N_XvtGbearJ5X4QryQ  2015-04-15 05:21:16  \n",
       "6TdNDKywdbjoTkizeMce8A  2017-01-14 21:56:57  \n",
       "L2O_INwlrRuoX05KSjc4eg  2013-05-07 07:25:25  \n",
       "ZayJ1zWyWgY9S_TRLT_y9Q  2015-11-05 23:11:05  "
      ]
     },
     "execution_count": 5,
     "metadata": {},
     "output_type": "execute_result"
    }
   ],
   "source": [
    "df.head()"
   ]
  },
  {
   "cell_type": "code",
   "execution_count": 6,
   "metadata": {},
   "outputs": [
    {
     "data": {
      "text/html": [
       "<div>\n",
       "<style scoped>\n",
       "    .dataframe tbody tr th:only-of-type {\n",
       "        vertical-align: middle;\n",
       "    }\n",
       "\n",
       "    .dataframe tbody tr th {\n",
       "        vertical-align: top;\n",
       "    }\n",
       "\n",
       "    .dataframe thead th {\n",
       "        text-align: right;\n",
       "    }\n",
       "</style>\n",
       "<table border=\"1\" class=\"dataframe\">\n",
       "  <thead>\n",
       "    <tr style=\"text-align: right;\">\n",
       "      <th></th>\n",
       "      <th>business_id</th>\n",
       "      <th>user_id</th>\n",
       "      <th>stars</th>\n",
       "      <th>text</th>\n",
       "      <th>date</th>\n",
       "    </tr>\n",
       "    <tr>\n",
       "      <th>review_id</th>\n",
       "      <th></th>\n",
       "      <th></th>\n",
       "      <th></th>\n",
       "      <th></th>\n",
       "      <th></th>\n",
       "    </tr>\n",
       "  </thead>\n",
       "  <tbody>\n",
       "    <tr>\n",
       "      <th>AlYunCvl1CwUuOHdGbG92A</th>\n",
       "      <td>JDDZAflMR3oHBH5cKOQNpw</td>\n",
       "      <td>XGmokERSnIiHjt9qmlzMdQ</td>\n",
       "      <td>5</td>\n",
       "      <td>Just moved to the Phoenix area from Southern C...</td>\n",
       "      <td>2019-09-13 19:10:03</td>\n",
       "    </tr>\n",
       "    <tr>\n",
       "      <th>A_2inDTj_CdhfFYmy_0OJA</th>\n",
       "      <td>K5sUVFSGFEZosixSXgx5sw</td>\n",
       "      <td>X09mKkx416NmNfQIxlCgjg</td>\n",
       "      <td>1</td>\n",
       "      <td>Shake Shack started off pretty strong with mou...</td>\n",
       "      <td>2019-09-16 03:44:59</td>\n",
       "    </tr>\n",
       "    <tr>\n",
       "      <th>9Rm7MG9QNCaOpH7MukKaAw</th>\n",
       "      <td>5e6oNxr5ILU3FjctgvmUBA</td>\n",
       "      <td>fEnftKE6twLdX8HZOQBxDQ</td>\n",
       "      <td>1</td>\n",
       "      <td>I forgot to mention they're highly recommended...</td>\n",
       "      <td>2019-04-11 07:44:11</td>\n",
       "    </tr>\n",
       "    <tr>\n",
       "      <th>gIrjyOjIXrT4qzqhOby03w</th>\n",
       "      <td>jOMtqF2XnRgOZ2eOVLoxGA</td>\n",
       "      <td>iChmSxbAgP2DVvTcA_GDaA</td>\n",
       "      <td>2</td>\n",
       "      <td>I had the experience of dining at Soul Foo You...</td>\n",
       "      <td>2019-09-16 11:12:38</td>\n",
       "    </tr>\n",
       "    <tr>\n",
       "      <th>Oek3Z9jQ6YihW7PcJ63DQA</th>\n",
       "      <td>K6CLKaV__lrgejN-xLTS2w</td>\n",
       "      <td>Un77CNCyoO_mc430g9NZrw</td>\n",
       "      <td>1</td>\n",
       "      <td>I would give them zero stars if possible. Had ...</td>\n",
       "      <td>NaN</td>\n",
       "    </tr>\n",
       "  </tbody>\n",
       "</table>\n",
       "</div>"
      ],
      "text/plain": [
       "                                   business_id                 user_id  stars  \\\n",
       "review_id                                                                       \n",
       "AlYunCvl1CwUuOHdGbG92A  JDDZAflMR3oHBH5cKOQNpw  XGmokERSnIiHjt9qmlzMdQ      5   \n",
       "A_2inDTj_CdhfFYmy_0OJA  K5sUVFSGFEZosixSXgx5sw  X09mKkx416NmNfQIxlCgjg      1   \n",
       "9Rm7MG9QNCaOpH7MukKaAw  5e6oNxr5ILU3FjctgvmUBA  fEnftKE6twLdX8HZOQBxDQ      1   \n",
       "gIrjyOjIXrT4qzqhOby03w  jOMtqF2XnRgOZ2eOVLoxGA  iChmSxbAgP2DVvTcA_GDaA      2   \n",
       "Oek3Z9jQ6YihW7PcJ63DQA  K6CLKaV__lrgejN-xLTS2w  Un77CNCyoO_mc430g9NZrw      1   \n",
       "\n",
       "                                                                     text  \\\n",
       "review_id                                                                   \n",
       "AlYunCvl1CwUuOHdGbG92A  Just moved to the Phoenix area from Southern C...   \n",
       "A_2inDTj_CdhfFYmy_0OJA  Shake Shack started off pretty strong with mou...   \n",
       "9Rm7MG9QNCaOpH7MukKaAw  I forgot to mention they're highly recommended...   \n",
       "gIrjyOjIXrT4qzqhOby03w  I had the experience of dining at Soul Foo You...   \n",
       "Oek3Z9jQ6YihW7PcJ63DQA  I would give them zero stars if possible. Had ...   \n",
       "\n",
       "                                       date  \n",
       "review_id                                    \n",
       "AlYunCvl1CwUuOHdGbG92A  2019-09-13 19:10:03  \n",
       "A_2inDTj_CdhfFYmy_0OJA  2019-09-16 03:44:59  \n",
       "9Rm7MG9QNCaOpH7MukKaAw  2019-04-11 07:44:11  \n",
       "gIrjyOjIXrT4qzqhOby03w  2019-09-16 11:12:38  \n",
       "Oek3Z9jQ6YihW7PcJ63DQA                  NaN  "
      ]
     },
     "execution_count": 6,
     "metadata": {},
     "output_type": "execute_result"
    }
   ],
   "source": [
    "df.tail()"
   ]
  },
  {
   "cell_type": "markdown",
   "metadata": {},
   "source": [
    "<p>Per conoscere la dimensione del DataFrame, e di conseguenza del data set, possiamo fare riferimento all'attributo <code>shape</code> della classe DataFrame. Esso ritorna una tupla contenente rispettivamente il numero di righe e il numero di colonne."
   ]
  },
  {
   "cell_type": "code",
   "execution_count": 7,
   "metadata": {},
   "outputs": [
    {
     "data": {
      "text/plain": [
       "(763379, 5)"
      ]
     },
     "execution_count": 7,
     "metadata": {},
     "output_type": "execute_result"
    }
   ],
   "source": [
    "df.shape"
   ]
  },
  {
   "cell_type": "markdown",
   "metadata": {},
   "source": [
    "<p>Il data set contiene circa otto milioni di recensioni ma un numero così elevato di osservazioni può creare problemi. Due aspetti molto importanti da tenere in considerazione sono infatti il consumo di memoria e i tempi di calcolo.<br>\n",
    "Informazioni quali il consumo di memoria da parte di un DataFrame sono reperibili tramite il metodo <code>info()</code>."
   ]
  },
  {
   "cell_type": "code",
   "execution_count": 8,
   "metadata": {},
   "outputs": [
    {
     "name": "stdout",
     "output_type": "stream",
     "text": [
      "<class 'pandas.core.frame.DataFrame'>\n",
      "Index: 763379 entries, i6g_oA9Yf9Y31qt0wibXpw to Oek3Z9jQ6YihW7PcJ63DQA\n",
      "Data columns (total 5 columns):\n",
      " #   Column       Non-Null Count   Dtype \n",
      "---  ------       --------------   ----- \n",
      " 0   business_id  763379 non-null  object\n",
      " 1   user_id      763379 non-null  object\n",
      " 2   stars        763379 non-null  int64 \n",
      " 3   text         763379 non-null  object\n",
      " 4   date         763378 non-null  object\n",
      "dtypes: int64(1), object(4)\n",
      "memory usage: 34.9+ MB\n"
     ]
    }
   ],
   "source": [
    "df.info()"
   ]
  },
  {
   "cell_type": "markdown",
   "metadata": {},
   "source": [
    "Notiamo che il data set consuma poco più di 300 MegaByte, non troppo per una macchina moderna che generalmente dispone di almeno 8 GigaByte di memoria primaria. I problemi legati al consumo di memoria diventano però rilevanti nelle fasi successive. Consideriamo ad esempio la costruzione di una bag of words e consideriamone la rappresentazione densa. Sappiamo che in tale rappresentazione ogni recensione avrà una prorpia riga e che quindi la matrice finale avrà 8 milioni di righe. Anche avendo un dizionario particolarmente ristretto, e.g. 10.000 parole, ci ritroveremmo con una matriche con 800 miliardi (credo) di celle. Assumendo che i dati contenuti nelle celle siano interi rappresentati su 64 bit (8 Byte) sarebbero necessari 625000000 GigaByte di memoria.<br>\n",
    "Oltre agli eccessivi consumi di memoria, con una grande mole di dati si incorre in tempi di addestramento particolarmente elevati. \n",
    "<p>Per far fronte a questi problemi ricorriamo alla tecnica del sampling. Senza entrare troppo nei dettagli delle varie tecniche di sampling limitiamoci a quella più semplice : simple random sampling without replacement.<br>\n",
    "L'idea dietro al sampling semplice senza rimpiazzamento è quella di estrarre casualmente dalla popolazione un qualche numero di osservazioni con l'importante dettaglio che, dopo l'estrazione di un elemento dalla popolazione, esso non venga reinserito nella popolazione stessa e quindi non possa essere estratto più di una volta.\n",
    "<p>Un'operazione semplice come quella descritta sopra può essere ottenuta tramite il metodo <code>sample</code> della classe <code>DataFrame</code>.<br>\n",
    "L'unico parametro che sfrutteremo è <code>n</code> che permette di specificare la dimensione della sample come numero di osservazioni in essa contenute ed è di conseguenza un intero. Alternativamete si può utilizzare il parametro <code>frac</code> che permette di specificare la frazione di elementi della popolazione originale da preservare ed è quindi un float compreso tra zero ed uno."
   ]
  },
  {
   "cell_type": "code",
   "execution_count": 9,
   "metadata": {},
   "outputs": [],
   "source": [
    "sample_size = 100000\n",
    "sample_df = df.sample(n=sample_size,random_state=SEED)"
   ]
  },
  {
   "cell_type": "markdown",
   "metadata": {},
   "source": [
    "<p>Qualora la popolazione originale sia particolarmente piccola o il processo di sampling particolarmente sfortunato potrebbe capitare che la sample ottenuta non sia rappresentativa delle caratteristiche della popolazione originale. Con il termine \"rappresentativa\" si intende che la distribuzione dei valori delle varie features nei due insiemi siano più o meno uguali. Per essere sicuri che la sample sia rappresentativa della popolazione con riferimento ad uno o più parametri può essere comodo generare una rappresentazione grafica della distribuzione dei parametri stessi nella sample e nella popolazione originale e metterle a confronto.<br>\n",
    "Qualora si riscontri che la sample ottenuta non sia rappresentativa dell'originale potrebbe essere necessario utilizzare tecniche di sampling più elaborate quali ad esempio il sampling stratificato.<br>\n",
    "\n",
    "<p>Per ora ci limitiamo a comparare la distribuzione della feature \"stars\" nella sample e nella popolazione originale utilizzando la libreria <code>Bokeh</code>. Per maggiori dettagli riguardo al funzionamento di Bokeh ti rimando al <a href=\"./Bokeh.ipynb\">seguente notebook</a> o alla <a href=\"https://docs.bokeh.org/en/latest/\">documentazione ufficiale</a>.<br>\n",
    "Per rappresentare graficamente la distribuzione dei valori della colonna \"stars\" utilizzeremo un grafico a barre. Necessitiamo dunque di due informazioni : i possibili valori assumibili dalla feature e il numero di osservazioni associate ad ogni possibile valore.\n",
    "\n",
    "<p>Per il calcolo delle informazioni di cui sopra sfrutteremo il metodo <code>groupby</code> della classe DataFrame. Questo metodo permette di raggruppare un DataFrame o una Series utilizzando un mapper, una funzione, una label o una lista di labels. Tale metodo accetta innumerevoli parametri di cui <code>by=</code> risulta di particolare interesse per i nostri scopi. Nel nostro caso passiamo al parametro il nome di una colonna con l'intento di specificare che i gruppi vadano creati sulla base dei valori di tale colonna. Il risultato di un'operazione di groupby è un oggetto della classe <code>DataFrameGroupBy</code> e non uno della classe <code>DataFrame</code> e di conseguenza supporta operazioni differenti. Per maggiori dettagli al riguardo è possibile fare riferimento alla <a href=\"https://pandas.pydata.org/pandas-docs/stable/reference/groupby.html\">documentazione</a> o invocare la funzione built-in <code>help()</code> di Python nel seguente modo : <code>help(pd.core.groupby.DataFrameGroupBy)</code>.\n",
    "    \n",
    "<p>Sfrutteremo questo oggetto per calcolare il numero di osservazioni presenti in ogni gruppo; successivamente i valori verrano normalizzati nell'intervallo $[0,1]$ per evitare che la dimensione della popolazione sia presa in considerazione durante il confronto.\n",
    "\n",
    "<p>Procediamo ora con la creazione degli oggetti DataFrameGroupBy per il DataFrame relativo all'intera popolazione e quello relativo alla sample ottenuta precedentemente."
   ]
  },
  {
   "cell_type": "code",
   "execution_count": 10,
   "metadata": {},
   "outputs": [],
   "source": [
    "df_groups = df.groupby(by='stars')\n",
    "sample_groups = sample_df.groupby(by='stars')"
   ]
  },
  {
   "cell_type": "markdown",
   "metadata": {},
   "source": [
    "<p>La classe <code>DataFrameGroupBy</code> supporta l'iterazione. Iterare sull'oggetto può auitare per avere un'idea più chiara di cosa sia contenuto nell'oggetto stesso. Il valore ritornato dell'iteratore è una tupla contenente il nome del grouppo e il gruppo stesso. Per poter osservare le singole entità ritorante dall'iteratore è quindi necessario 'spacchettare' i valori della tupla nel costrutto <code>for</code>.<br>\n",
    "Vediamo un esempio :"
   ]
  },
  {
   "cell_type": "code",
   "execution_count": 11,
   "metadata": {},
   "outputs": [],
   "source": [
    "#Ho commentato le funzioni di print per evitare che, nell'esportare il notebook in pdf, venisse\n",
    "#incluso anche il risultato di tali operazioni. Per visualizzare l'output è sufficiente rimuovere\n",
    "#i cancelletti\n",
    "for group_name, group in sample_groups:\n",
    "    #print(\"group_name : {}\\n\".format(group_name))\n",
    "    #print(\"type(group) : {}\\n\".format(type(group)))\n",
    "    #print(\"group :\\n{}\\n\\n\".format(group))\n",
    "    pass"
   ]
  },
  {
   "cell_type": "markdown",
   "metadata": {},
   "source": [
    "<p>Importante notare come i vari gruppi siano istanze della classe <code>DataFrame</code> e supportino di conseguenza tutte le operazioni relative a tale classe (e.g. metodi <code>groupby()</code>, <code>head()</code>, <code>tail()</code>, <code>info()</code> e attributi quali <code>shape</code>, <code>size</code>, <code>ndims</code>, etc...).\n",
    "<p>In particolare è supportato il metodo <code>aggregate(func, axis=0)</code>, o l'alias <code>agg(func, axis=0)</code>, che permette di aggregare i dati utilizzando una o più operazioni lungo l'asse specificato.<br>\n",
    "Il primo parametro può essere una funzione, una stringa, una lista o un dizionario. Dipendentemente dal tipo di dato del parametro passato si possono ottenere comportamenti differenti.<br>\n",
    "Per i nostri scopi utilizzeremo un dizionario in cui le chiavi corrispondono ai nomi delle colonne sulle quali si vuole applicare la funzione mentre i valori corrispondono alle funzioni da applicare. Nel nostro caso la colonna lungo la quale vogliamo aggregare è la colonna 'stars' mentre la funzione che vogliamo utilizzare è la funzione <code>count()</code> che, come suggerisce il nome, conteggia gli elementi all'interno della colonna.<br>\n",
    "Il secondo parametro, <code>axis=0</code> indica lungo che asse effettuare le aggregazioni. Di default il valore è 0, o \"index\", ad indicare che la funzione va applicata lungo le colonne ma è possibile applicare la funzione lungo le righe passando al parametro un valore pari ad 1 oppure alla stringa \"columns\"."
   ]
  },
  {
   "cell_type": "code",
   "execution_count": 12,
   "metadata": {},
   "outputs": [],
   "source": [
    "full_counts = df_groups.agg({\"stars\":\"count\"})\n",
    "sample_counts = sample_groups.agg({\"stars\":\"count\"})"
   ]
  },
  {
   "cell_type": "code",
   "execution_count": 13,
   "metadata": {},
   "outputs": [
    {
     "data": {
      "text/html": [
       "<div>\n",
       "<style scoped>\n",
       "    .dataframe tbody tr th:only-of-type {\n",
       "        vertical-align: middle;\n",
       "    }\n",
       "\n",
       "    .dataframe tbody tr th {\n",
       "        vertical-align: top;\n",
       "    }\n",
       "\n",
       "    .dataframe thead th {\n",
       "        text-align: right;\n",
       "    }\n",
       "</style>\n",
       "<table border=\"1\" class=\"dataframe\">\n",
       "  <thead>\n",
       "    <tr style=\"text-align: right;\">\n",
       "      <th></th>\n",
       "      <th>stars</th>\n",
       "    </tr>\n",
       "    <tr>\n",
       "      <th>stars</th>\n",
       "      <th></th>\n",
       "    </tr>\n",
       "  </thead>\n",
       "  <tbody>\n",
       "    <tr>\n",
       "      <th>1</th>\n",
       "      <td>124076</td>\n",
       "    </tr>\n",
       "    <tr>\n",
       "      <th>2</th>\n",
       "      <td>59542</td>\n",
       "    </tr>\n",
       "    <tr>\n",
       "      <th>3</th>\n",
       "      <td>77659</td>\n",
       "    </tr>\n",
       "    <tr>\n",
       "      <th>4</th>\n",
       "      <td>156238</td>\n",
       "    </tr>\n",
       "    <tr>\n",
       "      <th>5</th>\n",
       "      <td>345864</td>\n",
       "    </tr>\n",
       "  </tbody>\n",
       "</table>\n",
       "</div>"
      ],
      "text/plain": [
       "        stars\n",
       "stars        \n",
       "1      124076\n",
       "2       59542\n",
       "3       77659\n",
       "4      156238\n",
       "5      345864"
      ]
     },
     "execution_count": 13,
     "metadata": {},
     "output_type": "execute_result"
    }
   ],
   "source": [
    "full_counts"
   ]
  },
  {
   "cell_type": "code",
   "execution_count": 14,
   "metadata": {},
   "outputs": [
    {
     "data": {
      "text/html": [
       "<div>\n",
       "<style scoped>\n",
       "    .dataframe tbody tr th:only-of-type {\n",
       "        vertical-align: middle;\n",
       "    }\n",
       "\n",
       "    .dataframe tbody tr th {\n",
       "        vertical-align: top;\n",
       "    }\n",
       "\n",
       "    .dataframe thead th {\n",
       "        text-align: right;\n",
       "    }\n",
       "</style>\n",
       "<table border=\"1\" class=\"dataframe\">\n",
       "  <thead>\n",
       "    <tr style=\"text-align: right;\">\n",
       "      <th></th>\n",
       "      <th>stars</th>\n",
       "    </tr>\n",
       "    <tr>\n",
       "      <th>stars</th>\n",
       "      <th></th>\n",
       "    </tr>\n",
       "  </thead>\n",
       "  <tbody>\n",
       "    <tr>\n",
       "      <th>1</th>\n",
       "      <td>16277</td>\n",
       "    </tr>\n",
       "    <tr>\n",
       "      <th>2</th>\n",
       "      <td>7853</td>\n",
       "    </tr>\n",
       "    <tr>\n",
       "      <th>3</th>\n",
       "      <td>10097</td>\n",
       "    </tr>\n",
       "    <tr>\n",
       "      <th>4</th>\n",
       "      <td>20366</td>\n",
       "    </tr>\n",
       "    <tr>\n",
       "      <th>5</th>\n",
       "      <td>45407</td>\n",
       "    </tr>\n",
       "  </tbody>\n",
       "</table>\n",
       "</div>"
      ],
      "text/plain": [
       "       stars\n",
       "stars       \n",
       "1      16277\n",
       "2       7853\n",
       "3      10097\n",
       "4      20366\n",
       "5      45407"
      ]
     },
     "execution_count": 14,
     "metadata": {},
     "output_type": "execute_result"
    }
   ],
   "source": [
    "sample_counts"
   ]
  },
  {
   "cell_type": "markdown",
   "metadata": {},
   "source": [
    "<p>Ottenute le informazioni riguardo al numero di recensioni per ogni possibile valore della feature \"stars\" possiamo procedere nel trasformare i valori ottenuti in valori percentuali. Questa operazione è necessaria affinchè la popolosità della sample o del dataset originale non venga tenuta in considerazione durante il confronto."
   ]
  },
  {
   "cell_type": "code",
   "execution_count": 15,
   "metadata": {},
   "outputs": [],
   "source": [
    "df_size = df.shape[0]\n",
    "sample_counts = sample_counts['stars'].map(lambda x : (x*100)/sample_size)\n",
    "full_counts = full_counts['stars'].map(lambda x : (x*100)/df_size)"
   ]
  },
  {
   "cell_type": "code",
   "execution_count": 16,
   "metadata": {},
   "outputs": [
    {
     "data": {
      "text/plain": [
       "stars\n",
       "1    16.253525\n",
       "2     7.799795\n",
       "3    10.173060\n",
       "4    20.466636\n",
       "5    45.306984\n",
       "Name: stars, dtype: float64"
      ]
     },
     "execution_count": 16,
     "metadata": {},
     "output_type": "execute_result"
    }
   ],
   "source": [
    "full_counts"
   ]
  },
  {
   "cell_type": "code",
   "execution_count": 17,
   "metadata": {},
   "outputs": [
    {
     "data": {
      "text/plain": [
       "stars\n",
       "1    16.277\n",
       "2     7.853\n",
       "3    10.097\n",
       "4    20.366\n",
       "5    45.407\n",
       "Name: stars, dtype: float64"
      ]
     },
     "execution_count": 17,
     "metadata": {},
     "output_type": "execute_result"
    }
   ],
   "source": [
    "sample_counts"
   ]
  },
  {
   "cell_type": "markdown",
   "metadata": {},
   "source": [
    "<p>Procediamo ora con la creazione del grafico.<br>\n",
    "Per prima cosa è necessario istanziare un oggetto della classe <code>Bokeh.plotting.figure</code>; questa classe rappresenta la \"tela\" su cui successivamente sarà possibile \"dipingere\" i grafici.<br>\n",
    "Il costruttore di tale classe accetta innumerevoli parametri per configurare i più svariati aspetti quali : altezza, larghezza, titolo, range degli assi, tipi di asse, etc... Per maggiori dettagli consultare la <a href=\"http://docs.bokeh.org/en/1.3.4/docs/reference/plotting.html\">documentazione</a>."
   ]
  },
  {
   "cell_type": "code",
   "execution_count": null,
   "metadata": {},
   "outputs": [],
   "source": [
    "fig = plot_pop_v_sample_stars(full_counts, sample_counts)"
   ]
  },
  {
   "cell_type": "code",
   "execution_count": 21,
   "metadata": {},
   "outputs": [
    {
     "data": {
      "text/html": [
       "\n",
       "\n",
       "\n",
       "\n",
       "\n",
       "\n",
       "  <div class=\"bk-root\" id=\"7cec0896-6ba1-4076-bf1e-4c35c6ab51c3\" data-root-id=\"1004\"></div>\n"
      ]
     },
     "metadata": {},
     "output_type": "display_data"
    },
    {
     "data": {
      "application/javascript": [
       "(function(root) {\n",
       "  function embed_document(root) {\n",
       "    \n",
       "  var docs_json = {\"562014bc-2d93-43c9-ae81-75acadbaa611\":{\"roots\":{\"references\":[{\"attributes\":{\"below\":[{\"id\":\"1014\"}],\"center\":[{\"id\":\"1016\"},{\"id\":\"1020\"}],\"left\":[{\"id\":\"1017\"}],\"plot_width\":800,\"renderers\":[{\"id\":\"1038\"}],\"title\":{\"id\":\"1005\"},\"toolbar\":{\"id\":\"1028\"},\"x_range\":{\"id\":\"1003\"},\"x_scale\":{\"id\":\"1010\"},\"y_range\":{\"id\":\"1008\"},\"y_scale\":{\"id\":\"1012\"}},\"id\":\"1004\",\"subtype\":\"Figure\",\"type\":\"Plot\"},{\"attributes\":{},\"id\":\"1012\",\"type\":\"LinearScale\"},{\"attributes\":{\"axis\":{\"id\":\"1014\"},\"ticker\":null},\"id\":\"1016\",\"type\":\"Grid\"},{\"attributes\":{\"bottom_units\":\"screen\",\"fill_alpha\":0.5,\"fill_color\":\"lightgrey\",\"left_units\":\"screen\",\"level\":\"overlay\",\"line_alpha\":1.0,\"line_color\":\"black\",\"line_dash\":[4,4],\"line_width\":2,\"right_units\":\"screen\",\"top_units\":\"screen\"},\"id\":\"1027\",\"type\":\"BoxAnnotation\"},{\"attributes\":{},\"id\":\"1018\",\"type\":\"BasicTicker\"},{\"attributes\":{\"data_source\":{\"id\":\"1002\"},\"glyph\":{\"id\":\"1036\"},\"hover_glyph\":null,\"muted_glyph\":null,\"nonselection_glyph\":{\"id\":\"1037\"},\"selection_glyph\":null,\"view\":{\"id\":\"1039\"}},\"id\":\"1038\",\"type\":\"GlyphRenderer\"},{\"attributes\":{\"data\":{\"colors\":[\"red\",\"blue\",\"red\",\"blue\",\"red\",\"blue\",\"red\",\"blue\",\"red\",\"blue\"],\"hs\":[16.253525444110984,16.277,7.799795383420293,7.853,10.17305951565343,10.097,20.46663583881663,20.366,45.30698381799866,45.407],\"xs\":[[\"1\",\"pop\"],[\"1\",\"sample\"],[\"2\",\"pop\"],[\"2\",\"sample\"],[\"3\",\"pop\"],[\"3\",\"sample\"],[\"4\",\"pop\"],[\"4\",\"sample\"],[\"5\",\"pop\"],[\"5\",\"sample\"]]},\"selected\":{\"id\":\"1049\"},\"selection_policy\":{\"id\":\"1048\"}},\"id\":\"1002\",\"type\":\"ColumnDataSource\"},{\"attributes\":{\"axis_label\":\"Percentuale recensioni\",\"formatter\":{\"id\":\"1045\"},\"ticker\":{\"id\":\"1018\"}},\"id\":\"1017\",\"type\":\"LinearAxis\"},{\"attributes\":{\"axis\":{\"id\":\"1017\"},\"dimension\":1,\"ticker\":null},\"id\":\"1020\",\"type\":\"Grid\"},{\"attributes\":{},\"id\":\"1008\",\"type\":\"DataRange1d\"},{\"attributes\":{},\"id\":\"1022\",\"type\":\"WheelZoomTool\"},{\"attributes\":{\"fill_alpha\":{\"value\":0.1},\"fill_color\":{\"field\":\"colors\"},\"line_alpha\":{\"value\":0.1},\"line_color\":{\"field\":\"colors\"},\"top\":{\"field\":\"hs\"},\"width\":{\"value\":0.25},\"x\":{\"field\":\"xs\"}},\"id\":\"1037\",\"type\":\"VBar\"},{\"attributes\":{},\"id\":\"1021\",\"type\":\"PanTool\"},{\"attributes\":{},\"id\":\"1049\",\"type\":\"Selection\"},{\"attributes\":{},\"id\":\"1015\",\"type\":\"CategoricalTicker\"},{\"attributes\":{\"source\":{\"id\":\"1002\"}},\"id\":\"1039\",\"type\":\"CDSView\"},{\"attributes\":{},\"id\":\"1010\",\"type\":\"CategoricalScale\"},{\"attributes\":{\"factors\":[[\"1\",\"pop\"],[\"1\",\"sample\"],[\"2\",\"pop\"],[\"2\",\"sample\"],[\"3\",\"pop\"],[\"3\",\"sample\"],[\"4\",\"pop\"],[\"4\",\"sample\"],[\"5\",\"pop\"],[\"5\",\"sample\"]]},\"id\":\"1003\",\"type\":\"FactorRange\"},{\"attributes\":{\"active_drag\":\"auto\",\"active_inspect\":\"auto\",\"active_multi\":null,\"active_scroll\":\"auto\",\"active_tap\":\"auto\",\"tools\":[{\"id\":\"1021\"},{\"id\":\"1022\"},{\"id\":\"1023\"},{\"id\":\"1024\"},{\"id\":\"1025\"},{\"id\":\"1026\"}]},\"id\":\"1028\",\"type\":\"Toolbar\"},{\"attributes\":{\"axis_label\":\"Stelle\",\"formatter\":{\"id\":\"1043\"},\"ticker\":{\"id\":\"1015\"}},\"id\":\"1014\",\"type\":\"CategoricalAxis\"},{\"attributes\":{\"overlay\":{\"id\":\"1027\"}},\"id\":\"1023\",\"type\":\"BoxZoomTool\"},{\"attributes\":{},\"id\":\"1024\",\"type\":\"SaveTool\"},{\"attributes\":{\"fill_color\":{\"field\":\"colors\"},\"line_color\":{\"field\":\"colors\"},\"top\":{\"field\":\"hs\"},\"width\":{\"value\":0.25},\"x\":{\"field\":\"xs\"}},\"id\":\"1036\",\"type\":\"VBar\"},{\"attributes\":{},\"id\":\"1026\",\"type\":\"HelpTool\"},{\"attributes\":{},\"id\":\"1045\",\"type\":\"BasicTickFormatter\"},{\"attributes\":{},\"id\":\"1048\",\"type\":\"UnionRenderers\"},{\"attributes\":{},\"id\":\"1043\",\"type\":\"CategoricalTickFormatter\"},{\"attributes\":{},\"id\":\"1025\",\"type\":\"ResetTool\"},{\"attributes\":{\"text\":\"Distribuzione comparata del numero di stelle tra popolazione e sample\"},\"id\":\"1005\",\"type\":\"Title\"}],\"root_ids\":[\"1004\"]},\"title\":\"Bokeh Application\",\"version\":\"2.1.1\"}};\n",
       "  var render_items = [{\"docid\":\"562014bc-2d93-43c9-ae81-75acadbaa611\",\"root_ids\":[\"1004\"],\"roots\":{\"1004\":\"7cec0896-6ba1-4076-bf1e-4c35c6ab51c3\"}}];\n",
       "  root.Bokeh.embed.embed_items_notebook(docs_json, render_items);\n",
       "\n",
       "  }\n",
       "  if (root.Bokeh !== undefined) {\n",
       "    embed_document(root);\n",
       "  } else {\n",
       "    var attempts = 0;\n",
       "    var timer = setInterval(function(root) {\n",
       "      if (root.Bokeh !== undefined) {\n",
       "        clearInterval(timer);\n",
       "        embed_document(root);\n",
       "      } else {\n",
       "        attempts++;\n",
       "        if (attempts > 100) {\n",
       "          clearInterval(timer);\n",
       "          console.log(\"Bokeh: ERROR: Unable to run BokehJS code because BokehJS library is missing\");\n",
       "        }\n",
       "      }\n",
       "    }, 10, root)\n",
       "  }\n",
       "})(window);"
      ],
      "application/vnd.bokehjs_exec.v0+json": ""
     },
     "metadata": {
      "application/vnd.bokehjs_exec.v0+json": {
       "id": "1004"
      }
     },
     "output_type": "display_data"
    }
   ],
   "source": [
    "show(fig)"
   ]
  },
  {
   "cell_type": "markdown",
   "metadata": {},
   "source": [
    "<p>Il grafico è abbastanza semplice, è possibile migliorarlo aggiungendo ad esempio una leggenda, delle lables per facilitare la lettura delle altezze, modificare i ticks sugli assi, etc.<br>\n",
    "Per ora teniamo le cose come sono."
   ]
  },
  {
   "cell_type": "code",
   "execution_count": 22,
   "metadata": {},
   "outputs": [
    {
     "data": {
      "text/plain": [
       "3.707737572031717"
      ]
     },
     "execution_count": 22,
     "metadata": {},
     "output_type": "execute_result"
    }
   ],
   "source": [
    "df['stars'].mean()"
   ]
  },
  {
   "cell_type": "code",
   "execution_count": 23,
   "metadata": {},
   "outputs": [
    {
     "data": {
      "text/plain": [
       "3.70773"
      ]
     },
     "execution_count": 23,
     "metadata": {},
     "output_type": "execute_result"
    }
   ],
   "source": [
    "sample_df['stars'].mean()"
   ]
  },
  {
   "cell_type": "markdown",
   "metadata": {},
   "source": [
    "<h3>Distribuzione della lunghezza delle recensioni</h3>"
   ]
  },
  {
   "cell_type": "code",
   "execution_count": 24,
   "metadata": {},
   "outputs": [],
   "source": [
    "df['words'] = df['text'].apply(lambda x : x.split(\" \"))\n",
    "df['word_count'] = df['words'].apply(lambda x : len(x))"
   ]
  },
  {
   "cell_type": "code",
   "execution_count": 25,
   "metadata": {},
   "outputs": [
    {
     "data": {
      "text/html": [
       "<div>\n",
       "<style scoped>\n",
       "    .dataframe tbody tr th:only-of-type {\n",
       "        vertical-align: middle;\n",
       "    }\n",
       "\n",
       "    .dataframe tbody tr th {\n",
       "        vertical-align: top;\n",
       "    }\n",
       "\n",
       "    .dataframe thead th {\n",
       "        text-align: right;\n",
       "    }\n",
       "</style>\n",
       "<table border=\"1\" class=\"dataframe\">\n",
       "  <thead>\n",
       "    <tr style=\"text-align: right;\">\n",
       "      <th></th>\n",
       "      <th>freq</th>\n",
       "    </tr>\n",
       "    <tr>\n",
       "      <th>word_count</th>\n",
       "      <th></th>\n",
       "    </tr>\n",
       "  </thead>\n",
       "  <tbody>\n",
       "    <tr>\n",
       "      <th>1</th>\n",
       "      <td>155</td>\n",
       "    </tr>\n",
       "    <tr>\n",
       "      <th>2</th>\n",
       "      <td>52</td>\n",
       "    </tr>\n",
       "    <tr>\n",
       "      <th>3</th>\n",
       "      <td>53</td>\n",
       "    </tr>\n",
       "    <tr>\n",
       "      <th>4</th>\n",
       "      <td>91</td>\n",
       "    </tr>\n",
       "    <tr>\n",
       "      <th>5</th>\n",
       "      <td>129</td>\n",
       "    </tr>\n",
       "    <tr>\n",
       "      <th>...</th>\n",
       "      <td>...</td>\n",
       "    </tr>\n",
       "    <tr>\n",
       "      <th>1087</th>\n",
       "      <td>1</td>\n",
       "    </tr>\n",
       "    <tr>\n",
       "      <th>1105</th>\n",
       "      <td>1</td>\n",
       "    </tr>\n",
       "    <tr>\n",
       "      <th>1191</th>\n",
       "      <td>1</td>\n",
       "    </tr>\n",
       "    <tr>\n",
       "      <th>1340</th>\n",
       "      <td>1</td>\n",
       "    </tr>\n",
       "    <tr>\n",
       "      <th>1437</th>\n",
       "      <td>1</td>\n",
       "    </tr>\n",
       "  </tbody>\n",
       "</table>\n",
       "<p>1029 rows × 1 columns</p>\n",
       "</div>"
      ],
      "text/plain": [
       "            freq\n",
       "word_count      \n",
       "1            155\n",
       "2             52\n",
       "3             53\n",
       "4             91\n",
       "5            129\n",
       "...          ...\n",
       "1087           1\n",
       "1105           1\n",
       "1191           1\n",
       "1340           1\n",
       "1437           1\n",
       "\n",
       "[1029 rows x 1 columns]"
      ]
     },
     "execution_count": 25,
     "metadata": {},
     "output_type": "execute_result"
    }
   ],
   "source": [
    "counts_grs = df.groupby(by='word_count')\n",
    "counts = counts_grs.agg({'word_count':'count'})\n",
    "counts = counts.rename(columns={'word_count':'freq'})\n",
    "counts"
   ]
  },
  {
   "cell_type": "code",
   "execution_count": 50,
   "metadata": {},
   "outputs": [
    {
     "data": {
      "text/plain": [
       "110.22898979406035"
      ]
     },
     "execution_count": 50,
     "metadata": {},
     "output_type": "execute_result"
    }
   ],
   "source": [
    "mean_ = df['word_count'].mean()\n",
    "mode_ = df['word_count'].mode().values[0]\n",
    "median_ = df['word_count'].median()\n",
    "std_ = df['word_count'].std()\n",
    "mean_"
   ]
  },
  {
   "cell_type": "code",
   "execution_count": 49,
   "metadata": {},
   "outputs": [
    {
     "data": {
      "text/html": [
       "\n",
       "\n",
       "\n",
       "\n",
       "\n",
       "\n",
       "  <div class=\"bk-root\" id=\"21f8a72b-dd29-4991-abb1-b9ba1592e7cc\" data-root-id=\"1865\"></div>\n"
      ]
     },
     "metadata": {},
     "output_type": "display_data"
    },
    {
     "data": {
      "application/javascript": [
       "(function(root) {\n",
       "  function embed_document(root) {\n",
       "    \n",
       "  var docs_json = {\"e2eeeb26-6f25-4d97-a409-b161a813a841\":{\"roots\":{\"references\":[{\"attributes\":{\"below\":[{\"id\":\"1876\"}],\"center\":[{\"id\":\"1879\"},{\"id\":\"1883\"},{\"id\":\"1904\"},{\"id\":\"1905\"}],\"left\":[{\"id\":\"1880\"}],\"plot_width\":800,\"renderers\":[{\"id\":\"1902\"}],\"title\":{\"id\":\"1866\"},\"toolbar\":{\"id\":\"1891\"},\"x_range\":{\"id\":\"1868\"},\"x_scale\":{\"id\":\"1872\"},\"y_range\":{\"id\":\"1870\"},\"y_scale\":{\"id\":\"1874\"}},\"id\":\"1865\",\"subtype\":\"Figure\",\"type\":\"Plot\"},{\"attributes\":{\"fill_alpha\":{\"value\":0.1},\"fill_color\":{\"value\":\"#1f77b4\"},\"line_alpha\":{\"value\":0.1},\"line_color\":{\"value\":\"#1f77b4\"},\"top\":{\"field\":\"y\"},\"width\":{\"value\":0.1},\"x\":{\"field\":\"x\"}},\"id\":\"1901\",\"type\":\"VBar\"},{\"attributes\":{\"dimension\":\"height\",\"line_color\":\"orange\",\"line_dash\":[6],\"location\":78.0},\"id\":\"1904\",\"type\":\"Span\"},{\"attributes\":{\"source\":{\"id\":\"1898\"}},\"id\":\"1903\",\"type\":\"CDSView\"},{\"attributes\":{},\"id\":\"1939\",\"type\":\"BasicTickFormatter\"},{\"attributes\":{},\"id\":\"1884\",\"type\":\"PanTool\"},{\"attributes\":{},\"id\":\"1877\",\"type\":\"BasicTicker\"},{\"attributes\":{\"axis_label\":\"Frequenza\",\"formatter\":{\"id\":\"1941\"},\"ticker\":{\"id\":\"1881\"}},\"id\":\"1880\",\"type\":\"LinearAxis\"},{\"attributes\":{},\"id\":\"1885\",\"type\":\"WheelZoomTool\"},{\"attributes\":{\"axis_label\":\"Numero di parole\",\"formatter\":{\"id\":\"1939\"},\"ticker\":{\"id\":\"1877\"}},\"id\":\"1876\",\"type\":\"LinearAxis\"},{\"attributes\":{},\"id\":\"1874\",\"type\":\"LinearScale\"},{\"attributes\":{},\"id\":\"1870\",\"type\":\"DataRange1d\"},{\"attributes\":{},\"id\":\"1941\",\"type\":\"BasicTickFormatter\"},{\"attributes\":{},\"id\":\"1889\",\"type\":\"HelpTool\"},{\"attributes\":{\"axis\":{\"id\":\"1880\"},\"dimension\":1,\"ticker\":null},\"id\":\"1883\",\"type\":\"Grid\"},{\"attributes\":{},\"id\":\"1944\",\"type\":\"UnionRenderers\"},{\"attributes\":{\"text\":\"median = 78.0, std = 104.81\",\"x\":103.0,\"y\":7000},\"id\":\"1905\",\"type\":\"Label\"},{\"attributes\":{},\"id\":\"1887\",\"type\":\"SaveTool\"},{\"attributes\":{\"active_drag\":\"auto\",\"active_inspect\":\"auto\",\"active_multi\":null,\"active_scroll\":\"auto\",\"active_tap\":\"auto\",\"tools\":[{\"id\":\"1884\"},{\"id\":\"1885\"},{\"id\":\"1886\"},{\"id\":\"1887\"},{\"id\":\"1888\"},{\"id\":\"1889\"}]},\"id\":\"1891\",\"type\":\"Toolbar\"},{\"attributes\":{},\"id\":\"1881\",\"type\":\"BasicTicker\"},{\"attributes\":{\"data\":{\"x\":[1,2,3,4,5,6,7,8,9,10,11,12,13,14,15,16,17,18,19,20,21,22,23,24,25,26,27,28,29,30,31,32,33,34,35,36,37,38,39,40,41,42,43,44,45,46,47,48,49,50,51,52,53,54,55,56,57,58,59,60,61,62,63,64,65,66,67,68,69,70,71,72,73,74,75,76,77,78,79,80,81,82,83,84,85,86,87,88,89,90,91,92,93,94,95,96,97,98,99,100,101,102,103,104,105,106,107,108,109,110,111,112,113,114,115,116,117,118,119,120,121,122,123,124,125,126,127,128,129,130,131,132,133,134,135,136,137,138,139,140,141,142,143,144,145,146,147,148,149,150,151,152,153,154,155,156,157,158,159,160,161,162,163,164,165,166,167,168,169,170,171,172,173,174,175,176,177,178,179,180,181,182,183,184,185,186,187,188,189,190,191,192,193,194,195,196,197,198,199,200,201,202,203,204,205,206,207,208,209,210,211,212,213,214,215,216,217,218,219,220,221,222,223,224,225,226,227,228,229,230,231,232,233,234,235,236,237,238,239,240,241,242,243,244,245,246,247,248,249,250,251,252,253,254,255,256,257,258,259,260,261,262,263,264,265,266,267,268,269,270,271,272,273,274,275,276,277,278,279,280,281,282,283,284,285,286,287,288,289,290,291,292,293,294,295,296,297,298,299,300,301,302,303,304,305,306,307,308,309,310,311,312,313,314,315,316,317,318,319,320,321,322,323,324,325,326,327,328,329,330,331,332,333,334,335,336,337,338,339,340,341,342,343,344,345,346,347,348,349,350,351,352,353,354,355,356,357,358,359,360,361,362,363,364,365,366,367,368,369,370,371,372,373,374,375,376,377,378,379,380,381,382,383,384,385,386,387,388,389,390,391,392,393,394,395,396,397,398,399,400,401,402,403,404,405,406,407,408,409,410,411,412,413,414,415,416,417,418,419,420,421,422,423,424,425,426,427,428,429,430,431,432,433,434,435,436,437,438,439,440,441,442,443,444,445,446,447,448,449,450,451,452,453,454,455,456,457,458,459,460,461,462,463,464,465,466,467,468,469,470,471,472,473,474,475,476,477,478,479,480,481,482,483,484,485,486,487,488,489,490,491,492,493,494,495,496,497,498,499,500,501,502,503,504,505,506,507,508,509,510,511,512,513,514,515,516,517,518,519,520,521,522,523,524,525,526,527,528,529,530,531,532,533,534,535,536,537,538,539,540,541,542,543,544,545,546,547,548,549,550,551,552,553,554,555,556,557,558,559,560,561,562,563,564,565,566,567,568,569,570,571,572,573,574,575,576,577,578,579,580,581,582,583,584,585,586,587,588,589,590,591,592,593,594,595,596,597,598,599,600,601,602,603,604,605,606,607,608,609,610,611,612,613,614,615,616,617,618,619,620,621,622,623,624,625,626,627,628,629,630,631,632,633,634,635,636,637,638,639,640,641,642,643,644,645,646,647,648,649,650,651,652,653,654,655,656,657,658,659,660,661,662,663,664,665,666,667,668,669,670,671,672,673,674,675,676,677,678,679,680,681,682,683,684,685,686,687,688,689,690,691,692,693,694,695,696,697,698,699,700,701,702,703,704,705,706,707,708,709,710,711,712,713,714,715,716,717,718,719,720,721,722,723,724,725,726,727,728,729,730,731,732,733,734,735,736,737,738,739,740,741,742,743,744,745,746,747,748,749,750,751,752,753,754,755,756,757,758,759,760,761,762,763,764,765,766,767,768,769,770,771,772,773,774,775,776,777,778,779,780,781,782,783,784,785,786,787,788,789,790,791,792,793,794,795,796,797,798,799,800,801,802,803,804,805,806,807,808,809,810,811,812,813,814,815,816,817,818,819,820,821,822,823,824,825,826,827,828,829,830,831,832,833,834,835,836,837,838,839,840,841,842,843,844,845,846,847,848,849,850,851,852,853,854,855,856,857,858,859,860,861,862,863,864,865,866,867,868,869,870,871,872,873,874,875,876,877,878,879,880,881,882,883,884,885,886,887,888,889,890,891,892,893,894,895,896,897,898,899,900,901,902,903,904,905,906,907,908,909,910,911,912,913,914,915,916,917,918,919,920,921,922,923,924,925,926,927,928,929,930,931,932,933,934,935,936,937,938,939,940,941,942,943,944,945,946,947,948,949,950,951,952,953,954,955,956,957,958,959,960,961,962,963,964,965,966,967,968,969,970,971,972,973,974,975,977,978,979,981,982,983,984,985,986,988,989,990,991,992,993,994,995,996,997,999,1000,1001,1002,1004,1005,1006,1007,1010,1011,1012,1014,1017,1018,1019,1020,1021,1022,1023,1024,1025,1030,1031,1034,1039,1041,1046,1052,1060,1082,1087,1105,1191,1340,1437],\"y\":[[155],[52],[53],[91],[129],[181],[262],[371],[490],[654],[824],[1050],[1546],[2342],[3337],[4491],[5225],[5780],[6174],[6342],[6443],[6640],[6657],[6716],[6825],[6862],[6798],[6870],[6984],[6740],[6873],[6663],[6847],[6786],[6720],[6688],[6764],[6636],[6762],[6683],[6587],[6610],[6396],[6578],[6429],[6416],[6360],[6187],[6232],[6138],[5933],[6113],[6082],[5838],[5976],[5815],[5779],[5697],[5573],[5526],[5608],[5316],[5285],[5343],[5238],[4963],[5051],[4961],[4849],[4782],[4875],[4761],[4781],[4683],[4594],[4457],[4328],[4506],[4410],[4224],[4176],[4162],[4159],[4106],[4058],[4057],[3846],[3815],[3907],[3807],[3764],[3780],[3583],[3597],[3457],[3370],[3371],[3372],[3354],[3282],[3175],[3265],[3272],[3066],[3226],[3119],[3084],[2887],[2914],[2928],[2889],[2839],[2801],[2812],[2892],[2701],[2707],[2581],[2647],[2663],[2624],[2610],[2473],[2441],[2391],[2514],[2399],[2320],[2369],[2378],[2250],[2262],[2313],[2194],[2188],[2129],[2110],[2140],[2027],[2000],[2025],[2002],[1930],[1966],[1972],[1953],[1917],[1880],[1911],[1752],[1812],[1737],[1797],[1748],[1646],[1746],[1787],[1624],[1676],[1665],[1598],[1565],[1597],[1564],[1561],[1473],[1448],[1455],[1447],[1461],[1429],[1340],[1415],[1399],[1356],[1358],[1366],[1289],[1297],[1250],[1227],[1249],[1209],[1234],[1133],[1258],[1141],[1155],[1172],[1130],[1186],[1094],[1062],[1107],[1025],[1081],[1080],[1012],[1100],[1062],[1043],[1012],[950],[1025],[942],[961],[889],[919],[896],[927],[858],[879],[801],[816],[846],[806],[845],[805],[808],[799],[814],[762],[762],[711],[776],[736],[723],[771],[719],[704],[797],[694],[716],[699],[644],[659],[675],[665],[631],[631],[611],[679],[599],[640],[619],[564],[617],[549],[589],[562],[608],[537],[633],[545],[573],[566],[587],[539],[528],[553],[603],[483],[584],[500],[522],[456],[507],[484],[475],[472],[465],[486],[447],[412],[424],[399],[450],[449],[419],[437],[446],[416],[433],[388],[439],[432],[411],[370],[394],[391],[384],[361],[384],[380],[345],[364],[365],[328],[338],[349],[337],[375],[348],[374],[371],[324],[317],[328],[322],[305],[306],[346],[326],[318],[312],[315],[312],[283],[288],[265],[274],[291],[285],[270],[247],[259],[236],[260],[264],[259],[266],[235],[257],[271],[252],[251],[234],[272],[242],[232],[250],[208],[246],[220],[225],[216],[215],[240],[217],[246],[227],[217],[227],[212],[208],[219],[198],[180],[188],[194],[198],[190],[209],[184],[209],[178],[202],[182],[179],[176],[175],[174],[179],[195],[156],[174],[165],[148],[174],[176],[196],[155],[166],[181],[168],[166],[169],[162],[144],[150],[147],[141],[164],[124],[141],[158],[145],[154],[145],[125],[154],[117],[134],[133],[134],[124],[123],[131],[129],[135],[111],[136],[103],[113],[117],[133],[109],[108],[129],[106],[110],[108],[113],[117],[92],[114],[106],[119],[116],[121],[118],[99],[118],[102],[95],[104],[113],[95],[116],[90],[90],[94],[72],[85],[78],[88],[88],[93],[86],[82],[96],[92],[98],[93],[94],[80],[90],[87],[78],[77],[88],[76],[86],[77],[89],[76],[81],[68],[85],[85],[69],[78],[83],[95],[69],[67],[63],[71],[76],[75],[68],[59],[65],[102],[63],[74],[65],[76],[77],[72],[65],[59],[58],[54],[61],[68],[62],[55],[63],[62],[58],[61],[38],[62],[73],[43],[58],[51],[72],[53],[63],[59],[44],[54],[55],[50],[58],[53],[46],[49],[46],[50],[63],[42],[58],[45],[42],[50],[47],[55],[40],[46],[63],[37],[55],[48],[45],[48],[37],[45],[39],[42],[39],[40],[29],[41],[41],[38],[44],[44],[35],[48],[37],[41],[30],[43],[39],[40],[33],[43],[41],[31],[50],[36],[45],[45],[45],[37],[41],[26],[35],[39],[37],[45],[48],[31],[33],[43],[45],[34],[26],[29],[28],[44],[41],[32],[31],[33],[19],[21],[24],[38],[23],[37],[33],[24],[33],[25],[33],[29],[25],[21],[20],[26],[30],[28],[31],[25],[32],[33],[24],[21],[25],[32],[26],[23],[26],[22],[21],[23],[25],[29],[30],[30],[32],[26],[29],[24],[19],[25],[32],[26],[32],[31],[15],[29],[27],[26],[25],[17],[14],[22],[25],[15],[19],[25],[23],[25],[21],[22],[9],[19],[27],[19],[17],[15],[23],[18],[15],[18],[16],[27],[16],[19],[14],[24],[20],[19],[24],[25],[21],[16],[15],[18],[17],[15],[20],[12],[19],[12],[14],[16],[22],[8],[16],[18],[20],[15],[16],[6],[15],[16],[13],[11],[15],[13],[16],[15],[18],[14],[12],[18],[17],[15],[11],[18],[17],[8],[13],[11],[14],[14],[11],[14],[12],[13],[13],[11],[17],[14],[15],[19],[16],[14],[18],[17],[14],[11],[19],[12],[16],[17],[10],[16],[13],[15],[19],[13],[17],[4],[9],[14],[11],[5],[24],[15],[14],[12],[15],[16],[19],[11],[11],[4],[14],[11],[11],[15],[7],[9],[11],[3],[17],[5],[6],[9],[13],[10],[16],[11],[10],[13],[8],[15],[16],[8],[6],[17],[13],[10],[14],[11],[8],[4],[10],[5],[13],[5],[5],[17],[7],[16],[4],[10],[7],[8],[11],[7],[10],[12],[15],[23],[11],[7],[8],[8],[8],[6],[10],[8],[8],[12],[11],[9],[8],[7],[10],[10],[13],[7],[5],[6],[11],[10],[6],[5],[9],[13],[9],[3],[6],[8],[8],[4],[5],[13],[11],[7],[16],[17],[8],[10],[9],[16],[10],[6],[8],[9],[11],[12],[6],[8],[6],[6],[9],[6],[8],[7],[11],[15],[7],[11],[11],[7],[5],[15],[6],[5],[9],[12],[8],[6],[8],[6],[6],[8],[12],[12],[7],[6],[8],[6],[6],[9],[6],[8],[14],[8],[12],[8],[11],[3],[8],[9],[4],[8],[18],[9],[7],[10],[7],[13],[10],[10],[7],[13],[11],[11],[8],[8],[8],[8],[11],[13],[5],[9],[5],[8],[6],[6],[10],[6],[2],[9],[6],[10],[5],[6],[9],[12],[9],[4],[6],[7],[6],[7],[3],[6],[5],[16],[3],[7],[6],[7],[10],[6],[5],[3],[3],[7],[2],[9],[5],[6],[6],[6],[5],[6],[5],[5],[1],[4],[7],[9],[8],[7],[8],[5],[5],[8],[3],[5],[1],[4],[3],[1],[2],[8],[6],[1],[3],[1],[2],[5],[3],[3],[1],[1],[2],[2],[3],[5],[1],[2],[1],[2],[2],[3],[1],[1],[1],[2],[1],[2],[2],[1],[3],[2],[1],[1],[1],[1],[1],[1],[1],[1],[2],[1],[1],[1],[2],[2],[1],[1],[1],[1],[1],[1],[1]]},\"selected\":{\"id\":\"1945\"},\"selection_policy\":{\"id\":\"1944\"}},\"id\":\"1898\",\"type\":\"ColumnDataSource\"},{\"attributes\":{\"overlay\":{\"id\":\"1890\"}},\"id\":\"1886\",\"type\":\"BoxZoomTool\"},{\"attributes\":{},\"id\":\"1945\",\"type\":\"Selection\"},{\"attributes\":{\"fill_color\":{\"value\":\"#1f77b4\"},\"line_color\":{\"value\":\"#1f77b4\"},\"top\":{\"field\":\"y\"},\"width\":{\"value\":0.1},\"x\":{\"field\":\"x\"}},\"id\":\"1900\",\"type\":\"VBar\"},{\"attributes\":{},\"id\":\"1888\",\"type\":\"ResetTool\"},{\"attributes\":{\"data_source\":{\"id\":\"1898\"},\"glyph\":{\"id\":\"1900\"},\"hover_glyph\":null,\"muted_glyph\":null,\"nonselection_glyph\":{\"id\":\"1901\"},\"selection_glyph\":null,\"view\":{\"id\":\"1903\"}},\"id\":\"1902\",\"type\":\"GlyphRenderer\"},{\"attributes\":{\"text\":\"Distribuzione numero di parole\"},\"id\":\"1866\",\"type\":\"Title\"},{\"attributes\":{},\"id\":\"1868\",\"type\":\"DataRange1d\"},{\"attributes\":{\"bottom_units\":\"screen\",\"fill_alpha\":0.5,\"fill_color\":\"lightgrey\",\"left_units\":\"screen\",\"level\":\"overlay\",\"line_alpha\":1.0,\"line_color\":\"black\",\"line_dash\":[4,4],\"line_width\":2,\"right_units\":\"screen\",\"top_units\":\"screen\"},\"id\":\"1890\",\"type\":\"BoxAnnotation\"},{\"attributes\":{},\"id\":\"1872\",\"type\":\"LinearScale\"},{\"attributes\":{\"axis\":{\"id\":\"1876\"},\"ticker\":null},\"id\":\"1879\",\"type\":\"Grid\"}],\"root_ids\":[\"1865\"]},\"title\":\"Bokeh Application\",\"version\":\"2.1.1\"}};\n",
       "  var render_items = [{\"docid\":\"e2eeeb26-6f25-4d97-a409-b161a813a841\",\"root_ids\":[\"1865\"],\"roots\":{\"1865\":\"21f8a72b-dd29-4991-abb1-b9ba1592e7cc\"}}];\n",
       "  root.Bokeh.embed.embed_items_notebook(docs_json, render_items);\n",
       "\n",
       "  }\n",
       "  if (root.Bokeh !== undefined) {\n",
       "    embed_document(root);\n",
       "  } else {\n",
       "    var attempts = 0;\n",
       "    var timer = setInterval(function(root) {\n",
       "      if (root.Bokeh !== undefined) {\n",
       "        clearInterval(timer);\n",
       "        embed_document(root);\n",
       "      } else {\n",
       "        attempts++;\n",
       "        if (attempts > 100) {\n",
       "          clearInterval(timer);\n",
       "          console.log(\"Bokeh: ERROR: Unable to run BokehJS code because BokehJS library is missing\");\n",
       "        }\n",
       "      }\n",
       "    }, 10, root)\n",
       "  }\n",
       "})(window);"
      ],
      "application/vnd.bokehjs_exec.v0+json": ""
     },
     "metadata": {
      "application/vnd.bokehjs_exec.v0+json": {
       "id": "1865"
      }
     },
     "output_type": "display_data"
    }
   ],
   "source": [
    "fig = plot_reviews_length(counts, median_, std_)\n",
    "show(fig)"
   ]
  },
  {
   "cell_type": "code",
   "execution_count": 45,
   "metadata": {},
   "outputs": [
    {
     "data": {
      "text/plain": [
       "SpearmanrResult(correlation=-0.23886882473837903, pvalue=0.0)"
      ]
     },
     "execution_count": 45,
     "metadata": {},
     "output_type": "execute_result"
    }
   ],
   "source": [
    "spearmanr(df['word_count'], df['stars'])"
   ]
  },
  {
   "cell_type": "markdown",
   "metadata": {},
   "source": [
    "<p>Analizzando i dati si osserva che non tutte le recensioni sono espresse in lingua inglese. Prima di poter utilizzare i dati è dunque necessario pulirli da queste incongruenze.<br>\n",
    "\n",
    "<p>Per riconoscere la lingua di un testo sono disponibili svariate librerie, noi utilizzeremo <a href=\"https://pypi.org/project/langdetect/\">langdetect</a>.<br>\n",
    "Procediamo quindi con il creare una nuova colonna del dataset contenente il valore <code>np.nan</code> che è utile per identificare dati mancanti. Successivamente popoliamo la colonna <code>'lang'</code> con i risultati dell'applicazione della funzione di language detection sulla colonna <code>'text'</code>.\n",
    "\n",
    "<p>Per maggiori dettagli : <br>\n",
    "<ul>\n",
    "    <li><a href=\"https://stackoverflow.com/questions/39142778/python-how-to-determine-the-language\">Domanda StackOverflow su come riconoscere la lingua di una stringa</a></li>\n",
    "</ul>"
   ]
  },
  {
   "cell_type": "code",
   "execution_count": null,
   "metadata": {},
   "outputs": [],
   "source": [
    "def _detect(text):\n",
    "    try:\n",
    "        l = detect(text)\n",
    "    except:\n",
    "        l = np.nan\n",
    "    finally:\n",
    "        return l\n",
    "    \n",
    "sample_df['lang'] = sample_df['text'].apply(_detect)"
   ]
  },
  {
   "cell_type": "markdown",
   "metadata": {},
   "source": [
    "<p>Per sapere quali siano le lingue in cui sono espresse le recensioni possiamo utilizzare il metodo <code>unique()</code> della classe <code>pd.Series</code>. Questo metodo ritorna un array contenente i valori unici presenti nella Series su cui è applicato, nel nostro caso la colonna <code>'lang'</code>."
   ]
  },
  {
   "cell_type": "code",
   "execution_count": null,
   "metadata": {
    "scrolled": true
   },
   "outputs": [],
   "source": [
    "sample_df['lang'].unique()"
   ]
  },
  {
   "cell_type": "markdown",
   "metadata": {},
   "source": [
    "<p>Le recensioni sembrerebbero espresse nelle lingue più svariate.<br>\n",
    "Vediamo più nel dettaglio cosa abbiamo ottenuto. Possiamo ad esempio utilizzare il seguente codice per farci ritornare le righe del DataFrame <code>sample_df</code> tali per cui la colonna <code>'lang'</code> contenga la stringa 'it'."
   ]
  },
  {
   "cell_type": "code",
   "execution_count": null,
   "metadata": {},
   "outputs": [],
   "source": [
    "sample_df[sample_df['lang'] == 'it']"
   ]
  },
  {
   "cell_type": "markdown",
   "metadata": {},
   "source": [
    "<p>Sembrerebbe che la libreria che abbiamo utilizzato venga ingannata da recensioni contenenti partole italiane classificando erroneamente recensioni inglesi come italiane. Vediamo però anche che alcune recensioni sono effettivamente in italiano!<br>\n",
    "Utilizzando una tecnica simile a quella impiegata sopra possiamo farci ritornare un DataFrame contenente le righe del DataFrame originale tali per cui la lingua sia diversa dall'inglese.<br>\n",
    "Vediamo cosa otteniamo : "
   ]
  },
  {
   "cell_type": "code",
   "execution_count": null,
   "metadata": {},
   "outputs": [],
   "source": [
    "sample_df[sample_df['lang'] != 'en']"
   ]
  },
  {
   "cell_type": "markdown",
   "metadata": {},
   "source": [
    "<p>Di nuovo semprerebbe che alcune recensioni in lingua inglese vengano erroneamente classificate come espresse in una lingua differente, notiamo però che generalmente l'assegnamento linguistico è abbastanza coerente.\n",
    "<p>Vediamo ora di eliminare dal DataFrame tutte quelle recensioni che non siano espresse in inglese."
   ]
  },
  {
   "cell_type": "code",
   "execution_count": null,
   "metadata": {},
   "outputs": [],
   "source": [
    "sample_df = sample_df[sample_df['lang'] == 'en']"
   ]
  },
  {
   "cell_type": "code",
   "execution_count": null,
   "metadata": {},
   "outputs": [],
   "source": [
    "sample_df.head()"
   ]
  },
  {
   "cell_type": "code",
   "execution_count": null,
   "metadata": {},
   "outputs": [],
   "source": [
    "sample_df['lang'].unique()"
   ]
  },
  {
   "cell_type": "markdown",
   "metadata": {},
   "source": [
    "<p>Un altra importante operazione della fase di pulizzia è la gestione dei valori mancanti. Verifichiamo quindi se vi siano elementi del data set aventi valori mancanti. Per farlo sfruttiamo la il metodo <code>isnull()</code> della classe DataFrame che ci ritorna un DataFrame booleano in cui ogni cella presenta <code>True</code> se essa conteneva un valore NA. Valori NA possono essere : <code>None</code> e <code>np.nan</code>.\n",
    "<p>Successivamente possiamo utilizzare il metodo <code>any</code> sul DataFrame ritornato dall'invocazione di <code>isnull</code> per verificare che colonne contengano valori NA."
   ]
  },
  {
   "cell_type": "code",
   "execution_count": null,
   "metadata": {},
   "outputs": [],
   "source": [
    "sample_df.isnull().any()"
   ]
  },
  {
   "cell_type": "markdown",
   "metadata": {},
   "source": [
    "<p>A quanto pare nessuna delle colonne contiene valori NA, procediamo dunque con la creazione di un insieme di test. Questo insieme verrà tenuto da parte per validare la capacità di generalizzazione del modello che decideremo di utilizzare. E' prassi comunque utilizzare circa un 80% dei dati come insieme di training e un 20% per l'insieme di test. Per effettuare questa suddivisione utilizzeremo la funzione <code>train_test_split</code> della libreria <code>scikit-learn</code>."
   ]
  },
  {
   "cell_type": "code",
   "execution_count": null,
   "metadata": {},
   "outputs": [],
   "source": [
    "train, test = train_test_split(\n",
    "    sample_df,\n",
    "    test_size=0.2,\n",
    "    random_state=SEED,\n",
    "    stratify=sample_df[\"stars\"]\n",
    ")\n",
    "\n",
    "X_train, Y_train = train['text'], train['stars']\n",
    "X_test, Y_test = test['text'], test['stars']"
   ]
  },
  {
   "cell_type": "code",
   "execution_count": null,
   "metadata": {},
   "outputs": [],
   "source": [
    "train_fp = os.path.join(os.getcwd(), \"../data/csv/train.csv\")\n",
    "train.to_csv(\n",
    "    train_fp\n",
    ")"
   ]
  },
  {
   "cell_type": "code",
   "execution_count": null,
   "metadata": {},
   "outputs": [],
   "source": [
    "test_fp = os.path.join(os.getcwd(), \"../data/csv/test.csv\")\n",
    "test.to_csv(\n",
    "    test_fp\n",
    ")"
   ]
  }
 ],
 "metadata": {
  "kernelspec": {
   "display_name": "Python 3",
   "language": "python",
   "name": "python3"
  },
  "language_info": {
   "codemirror_mode": {
    "name": "ipython",
    "version": 3
   },
   "file_extension": ".py",
   "mimetype": "text/x-python",
   "name": "python",
   "nbconvert_exporter": "python",
   "pygments_lexer": "ipython3",
   "version": "3.8.3"
  }
 },
 "nbformat": 4,
 "nbformat_minor": 2
}
